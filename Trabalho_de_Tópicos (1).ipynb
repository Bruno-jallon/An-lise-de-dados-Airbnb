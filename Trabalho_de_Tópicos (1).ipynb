{
  "nbformat": 4,
  "nbformat_minor": 0,
  "metadata": {
    "colab": {
      "provenance": []
    },
    "kernelspec": {
      "name": "python3",
      "display_name": "Python 3"
    },
    "language_info": {
      "name": "python"
    }
  },
  "cells": [
    {
      "cell_type": "markdown",
      "source": [
        "\n",
        "<center> 𝓐𝓷𝓭𝓻𝓮𝓼𝓪 𝓐𝓻𝓪𝓷𝓱𝓪,\n",
        "𝕭𝓻𝓾𝓷𝓸 𝕵𝓪𝓵𝓵𝓸𝓷,\n",
        "𝕵𝓻𝓲𝓼 𝓡𝓪𝓺𝓾𝓮𝓵<center>\n",
        "\n",
        "\n",
        "---\n",
        "\n",
        "\n",
        " <center><h1>Análise dos Dados do Airbnb - João Pessoa</h1></center>\n",
        "\n",
        "<center><img alt=\"Analisando Airbnb\" width=\"20%\" src=\"https://www.area360.com.au/wp-content/uploads/2017/09/airbnb-logo.jpg\"></center>\n",
        "\n",
        "\n",
        "---\n",
        "\n",
        "\n",
        "**Neste *notebook*, iremos efetuar o scraping e analisar os dados referentes à cidade de João Pessoa, e ver quais insights podem ser extraídos a partir dessa raspagem de dados brutos e sua análise ⚛.**\n",
        "\n",
        "---\n"
      ],
      "metadata": {
        "id": "ub__9rCM1ucz"
      }
    },
    {
      "cell_type": "markdown",
      "source": [
        "# Apresentação:\n",
        "Este trabalho tem como objetivo apresentar uma análise de dados realizada com o intuito de coletar e analisar informações disponibilizadas pelo Airbnb sobre a cidade de João Pessoa. O trabalho foi realizado com o objetivo de ser apresentado como portfólio acadêmico e tem como objetivo principal apresentar as habilidades de coleta e análise de dados adquiridas durante o curso.\n",
        "\n",
        "A coleta dos dados foi realizada utilizando a biblioteca Beautiful Soup, que permite a raspagem de dados na web. Utilizando esta biblioteca, foi possível coletar informações sobre a localização, características de acomodações, quantidade e tipo de camas, preço por noite, avaliação e quantidade de avaliações de cada acomodação disponível na cidade de João Pessoa.\n",
        "\n",
        "Após a coleta dos dados, foi realizada uma limpeza dos dados, onde foram removidas as entradas duplicadas e tratadas as entradas faltantes. Além disso, foi necessário converter algumas variáveis para o formato adequado para a realização das análises.\n",
        "\n",
        "A análise dos dados foi realizada utilizando as bibliotecas pandas e numpy para a manipulação dos dados e as bibliotecas seaborn e matplotlib para a geração de gráficos e visualizações.\n",
        "\n",
        "Os resultados obtidos através das análises apresentam informações valiosas para aqueles interessados em investir no setor de aluguel de acomodações na cidade de João Pessoa. Foi possível identificar quais são os tipos de acomodações mais caros, quais são as localizações com maior custo benefício e quais são os preços médios praticados na cidade. Além disso, foi possível identificar quais são as acomodações com melhores avaliações e quais são as acomodações com maior quantidade de avaliações.\n",
        "\n",
        "Este trabalho demonstra a importância da coleta e análise de dados para a tomada de decisão em negócios, bem como o conhecimento adquirido durante o curso de coleta e análise de dados. Ele também serve como um portfólio de habilidades, mostrando a capacidade de coletar, limpar, analisar e interpretar dados para gerar insights valiosos."
      ],
      "metadata": {
        "id": "frN0JXaEykll"
      }
    },
    {
      "cell_type": "markdown",
      "source": [
        "# Código da Análise:"
      ],
      "metadata": {
        "id": "VGJUwIEb0JxH"
      }
    },
    {
      "cell_type": "markdown",
      "source": [
        "Esse código importa as bibliotecas numpy, pandas, plotly.express, re, seaborn e matplotlib.pyplot. O numpy é uma biblioteca de computação científica para Python, o pandas é uma biblioteca para manipulação e análise de dados, o plotly.express é uma biblioteca para criação de gráficos interativos, o re é uma biblioteca para trabalhar com expressões regulares, o seaborn é uma biblioteca para visualização de dados estatísticos e o matplotlib.pyplot é uma biblioteca para criação de gráficos. Essas bibliotecas são amplamente utilizadas na ciência de dados e análise de dados."
      ],
      "metadata": {
        "id": "tSB2z5pfwmL1"
      }
    },
    {
      "cell_type": "code",
      "execution_count": null,
      "metadata": {
        "id": "ePGPaBUe6TNR"
      },
      "outputs": [],
      "source": [
        "import numpy as np\n",
        "import pandas as pd\n",
        "import plotly.express as px\n",
        "import re\n",
        "import seaborn as sns\n",
        "import matplotlib.pyplot as plt"
      ]
    },
    {
      "cell_type": "markdown",
      "source": [
        "Este código está lendo um arquivo csv chamado \"dados.csv\" e armazenando-o em um DataFrame do pandas. Ele está especificando que deve pular as linhas com problemas (\"on_bad_lines='skip'\"), usando \";\" como delimitador e pulando a primeira linha (skiprows=0). Isso é para ler o arquivo e armazená-lo no formato de DataFrame do pandas, que é uma estrutura de dados de tabela bidimensional que permite trabalhar com dados de forma fácil e rápida."
      ],
      "metadata": {
        "id": "ZCXwWjdixC3m"
      }
    },
    {
      "cell_type": "code",
      "source": [
        "# Carregando um conjunto de dados em um DataFrame\n",
        "df = pd.read_csv('dados.csv', on_bad_lines='skip', delimiter=\";\", skiprows=0)"
      ],
      "metadata": {
        "id": "Unx6J_W67EB6"
      },
      "execution_count": null,
      "outputs": []
    },
    {
      "cell_type": "code",
      "source": [
        "# mostrar as 5 primeiras entradas\n",
        "df.head()"
      ],
      "metadata": {
        "colab": {
          "base_uri": "https://localhost:8080/",
          "height": 320
        },
        "id": "x0z_8vNtKNmS",
        "outputId": "4f387653-f6b3-4cc1-8250-a7aa16aa4501"
      },
      "execution_count": null,
      "outputs": [
        {
          "output_type": "execute_result",
          "data": {
            "text/plain": [
              "                        Local  \\\n",
              "0  Apartamento em João Pessoa   \n",
              "1       Apartamento em Tambaú   \n",
              "2      Apartamento em Manaíra   \n",
              "3  Apartamento em João Pessoa   \n",
              "4  Apartamento em Cabo Branco   \n",
              "\n",
              "                                                Tipo             Cama  \\\n",
              "0                      Studio a beira-mar em Manaíra          3 camas   \n",
              "1             Lindo Flat na orla da praia de Tambaú.  1 cama de casal   \n",
              "2           Uno Flats 201 - Comodidade, luxo e lazer          2 camas   \n",
              "3     Apartamento moderno e confortável no Caribessa     1 cama queen   \n",
              "4  FLAT confortável à beira-mar da praia Cabo Branco          2 camas   \n",
              "\n",
              "  Preço_por_noite Avaliação Quantidade_de_avaliações  \n",
              "0          195,00         5                    -5,00  \n",
              "1          132,00      4,44                  -274,00  \n",
              "2          188,00      4,89                  -244,00  \n",
              "3          173,00      4,87                   -91,00  \n",
              "4          146,00      4,58                  -146,00  "
            ],
            "text/html": [
              "\n",
              "  <div id=\"df-f6ab14ed-0332-4ea5-a426-76364ab1890c\">\n",
              "    <div class=\"colab-df-container\">\n",
              "      <div>\n",
              "<style scoped>\n",
              "    .dataframe tbody tr th:only-of-type {\n",
              "        vertical-align: middle;\n",
              "    }\n",
              "\n",
              "    .dataframe tbody tr th {\n",
              "        vertical-align: top;\n",
              "    }\n",
              "\n",
              "    .dataframe thead th {\n",
              "        text-align: right;\n",
              "    }\n",
              "</style>\n",
              "<table border=\"1\" class=\"dataframe\">\n",
              "  <thead>\n",
              "    <tr style=\"text-align: right;\">\n",
              "      <th></th>\n",
              "      <th>Local</th>\n",
              "      <th>Tipo</th>\n",
              "      <th>Cama</th>\n",
              "      <th>Preço_por_noite</th>\n",
              "      <th>Avaliação</th>\n",
              "      <th>Quantidade_de_avaliações</th>\n",
              "    </tr>\n",
              "  </thead>\n",
              "  <tbody>\n",
              "    <tr>\n",
              "      <th>0</th>\n",
              "      <td>Apartamento em João Pessoa</td>\n",
              "      <td>Studio a beira-mar em Manaíra</td>\n",
              "      <td>3 camas</td>\n",
              "      <td>195,00</td>\n",
              "      <td>5</td>\n",
              "      <td>-5,00</td>\n",
              "    </tr>\n",
              "    <tr>\n",
              "      <th>1</th>\n",
              "      <td>Apartamento em Tambaú</td>\n",
              "      <td>Lindo Flat na orla da praia de Tambaú.</td>\n",
              "      <td>1 cama de casal</td>\n",
              "      <td>132,00</td>\n",
              "      <td>4,44</td>\n",
              "      <td>-274,00</td>\n",
              "    </tr>\n",
              "    <tr>\n",
              "      <th>2</th>\n",
              "      <td>Apartamento em Manaíra</td>\n",
              "      <td>Uno Flats 201 - Comodidade, luxo e lazer</td>\n",
              "      <td>2 camas</td>\n",
              "      <td>188,00</td>\n",
              "      <td>4,89</td>\n",
              "      <td>-244,00</td>\n",
              "    </tr>\n",
              "    <tr>\n",
              "      <th>3</th>\n",
              "      <td>Apartamento em João Pessoa</td>\n",
              "      <td>Apartamento moderno e confortável no Caribessa</td>\n",
              "      <td>1 cama queen</td>\n",
              "      <td>173,00</td>\n",
              "      <td>4,87</td>\n",
              "      <td>-91,00</td>\n",
              "    </tr>\n",
              "    <tr>\n",
              "      <th>4</th>\n",
              "      <td>Apartamento em Cabo Branco</td>\n",
              "      <td>FLAT confortável à beira-mar da praia Cabo Branco</td>\n",
              "      <td>2 camas</td>\n",
              "      <td>146,00</td>\n",
              "      <td>4,58</td>\n",
              "      <td>-146,00</td>\n",
              "    </tr>\n",
              "  </tbody>\n",
              "</table>\n",
              "</div>\n",
              "      <button class=\"colab-df-convert\" onclick=\"convertToInteractive('df-f6ab14ed-0332-4ea5-a426-76364ab1890c')\"\n",
              "              title=\"Convert this dataframe to an interactive table.\"\n",
              "              style=\"display:none;\">\n",
              "        \n",
              "  <svg xmlns=\"http://www.w3.org/2000/svg\" height=\"24px\"viewBox=\"0 0 24 24\"\n",
              "       width=\"24px\">\n",
              "    <path d=\"M0 0h24v24H0V0z\" fill=\"none\"/>\n",
              "    <path d=\"M18.56 5.44l.94 2.06.94-2.06 2.06-.94-2.06-.94-.94-2.06-.94 2.06-2.06.94zm-11 1L8.5 8.5l.94-2.06 2.06-.94-2.06-.94L8.5 2.5l-.94 2.06-2.06.94zm10 10l.94 2.06.94-2.06 2.06-.94-2.06-.94-.94-2.06-.94 2.06-2.06.94z\"/><path d=\"M17.41 7.96l-1.37-1.37c-.4-.4-.92-.59-1.43-.59-.52 0-1.04.2-1.43.59L10.3 9.45l-7.72 7.72c-.78.78-.78 2.05 0 2.83L4 21.41c.39.39.9.59 1.41.59.51 0 1.02-.2 1.41-.59l7.78-7.78 2.81-2.81c.8-.78.8-2.07 0-2.86zM5.41 20L4 18.59l7.72-7.72 1.47 1.35L5.41 20z\"/>\n",
              "  </svg>\n",
              "      </button>\n",
              "      \n",
              "  <style>\n",
              "    .colab-df-container {\n",
              "      display:flex;\n",
              "      flex-wrap:wrap;\n",
              "      gap: 12px;\n",
              "    }\n",
              "\n",
              "    .colab-df-convert {\n",
              "      background-color: #E8F0FE;\n",
              "      border: none;\n",
              "      border-radius: 50%;\n",
              "      cursor: pointer;\n",
              "      display: none;\n",
              "      fill: #1967D2;\n",
              "      height: 32px;\n",
              "      padding: 0 0 0 0;\n",
              "      width: 32px;\n",
              "    }\n",
              "\n",
              "    .colab-df-convert:hover {\n",
              "      background-color: #E2EBFA;\n",
              "      box-shadow: 0px 1px 2px rgba(60, 64, 67, 0.3), 0px 1px 3px 1px rgba(60, 64, 67, 0.15);\n",
              "      fill: #174EA6;\n",
              "    }\n",
              "\n",
              "    [theme=dark] .colab-df-convert {\n",
              "      background-color: #3B4455;\n",
              "      fill: #D2E3FC;\n",
              "    }\n",
              "\n",
              "    [theme=dark] .colab-df-convert:hover {\n",
              "      background-color: #434B5C;\n",
              "      box-shadow: 0px 1px 3px 1px rgba(0, 0, 0, 0.15);\n",
              "      filter: drop-shadow(0px 1px 2px rgba(0, 0, 0, 0.3));\n",
              "      fill: #FFFFFF;\n",
              "    }\n",
              "  </style>\n",
              "\n",
              "      <script>\n",
              "        const buttonEl =\n",
              "          document.querySelector('#df-f6ab14ed-0332-4ea5-a426-76364ab1890c button.colab-df-convert');\n",
              "        buttonEl.style.display =\n",
              "          google.colab.kernel.accessAllowed ? 'block' : 'none';\n",
              "\n",
              "        async function convertToInteractive(key) {\n",
              "          const element = document.querySelector('#df-f6ab14ed-0332-4ea5-a426-76364ab1890c');\n",
              "          const dataTable =\n",
              "            await google.colab.kernel.invokeFunction('convertToInteractive',\n",
              "                                                     [key], {});\n",
              "          if (!dataTable) return;\n",
              "\n",
              "          const docLinkHtml = 'Like what you see? Visit the ' +\n",
              "            '<a target=\"_blank\" href=https://colab.research.google.com/notebooks/data_table.ipynb>data table notebook</a>'\n",
              "            + ' to learn more about interactive tables.';\n",
              "          element.innerHTML = '';\n",
              "          dataTable['output_type'] = 'display_data';\n",
              "          await google.colab.output.renderOutput(dataTable, element);\n",
              "          const docLink = document.createElement('div');\n",
              "          docLink.innerHTML = docLinkHtml;\n",
              "          element.appendChild(docLink);\n",
              "        }\n",
              "      </script>\n",
              "    </div>\n",
              "  </div>\n",
              "  "
            ]
          },
          "metadata": {},
          "execution_count": 3
        }
      ]
    },
    {
      "cell_type": "markdown",
      "source": [
        "# Dicionário das variáveis\n",
        "\n",
        "**O dicionário de variáveis do conjunto de dados inclui as seguintes entradas:**\n",
        "\n",
        "`• Localização (Local):` informação que indica o local onde a acomodação está situada.\n",
        "\n",
        "`• Tipo de Acomodação (Tipo):` informação que indica as informações gerais de cada imóvel, com suas características.\n",
        "\n",
        "`• Quantidade e tipo de camas (Cama):` informação que indica qual é o tipo e a quantidade de camas disponíveis na acomodação.\n",
        "\n",
        "`• Preço por noite (Preço_por_noite):` informação que indica qual é o preço cobrado por noite na acomodação.\n",
        "\n",
        "`• Avaliação das acomodações (Avaliação):` informação que indica qual é a avaliação dada para a acomodação, sendo uma nota numérica.\n",
        "\n",
        "`• Quantidade de avaliações (Quantidade_de_avaliações):` informação que indica quantas avaliações foram feitas para a acomodação."
      ],
      "metadata": {
        "id": "xa_iu1QqevaD"
      }
    },
    {
      "cell_type": "markdown",
      "source": [
        "Esse código remove as linhas duplicadas do DataFrame 'df', de forma que cada linha é única. A opção \"inplace=True\" faz com que as linhas duplicadas sejam removidas do DataFrame original, sem a necessidade de atribuir o resultado à uma nova variável."
      ],
      "metadata": {
        "id": "chUK1_FPvgzg"
      }
    },
    {
      "cell_type": "code",
      "source": [
        "# Removendo linhas duplicadas\n",
        "df.drop_duplicates(inplace=True)"
      ],
      "metadata": {
        "id": "s0jl6PjGKM5C"
      },
      "execution_count": null,
      "outputs": []
    },
    {
      "cell_type": "code",
      "source": [
        "# df.shape retorna a forma (shape) do DataFrame. A forma é uma tupla de inteiros que indica o número de linhas e colunas no DataFrame.\n",
        "df.shape"
      ],
      "metadata": {
        "colab": {
          "base_uri": "https://localhost:8080/"
        },
        "id": "kQXEv71Y2lQE",
        "outputId": "6f3354ad-a336-4465-eb55-c5add32726bd"
      },
      "execution_count": null,
      "outputs": [
        {
          "output_type": "execute_result",
          "data": {
            "text/plain": [
              "(169, 6)"
            ]
          },
          "metadata": {},
          "execution_count": 9
        }
      ]
    },
    {
      "cell_type": "markdown",
      "source": [
        "# **Tratamento dos dados**"
      ],
      "metadata": {
        "id": "yky0ENfzggZP"
      }
    },
    {
      "cell_type": "markdown",
      "source": [
        "Essa célula faz duas coisas:\n",
        "\n",
        "Ele substitui os caracteres de vírgula (',') por pontos ('.') na coluna \"Preço_por_noite\" do DataFrame \"df\" usando o método \"str.replace()\" e o atributo \"regex\" para especificar que a substituição será feita usando expressões regulares. Isso é necessário pois, provavelmente, os valores da coluna \"Preço_por_noite\" estavam armazenados como strings com vírgulas como separadore.\n",
        "\n",
        "Ele altera o tipo de dado da coluna \"Preço_por_noite\" de string para float usando o método \"astype()\". Isso é necessário pois os valores da coluna \"Preço_por_noite\" são números e é necessário que eles estejam no tipo correto para serem usados em cálculos matemáticos.\n",
        "\n",
        "Em resumo, esse código corrige o formato dos valores da coluna \"Preço_por_noite\" para que eles possam ser tratados como números corretamente."
      ],
      "metadata": {
        "id": "EcRuoz8lt3n_"
      }
    },
    {
      "cell_type": "code",
      "source": [
        "df['Preço_por_noite'] = df['Preço_por_noite'].astype(str).str.replace(',','.', regex=True)\n",
        "df['Preço_por_noite'] = df['Preço_por_noite'].astype(float)"
      ],
      "metadata": {
        "id": "bw6aCz0mBTY9"
      },
      "execution_count": null,
      "outputs": []
    },
    {
      "cell_type": "markdown",
      "source": [
        "Este código é usado para transformar a coluna \"Avaliação\" em um tipo de dados numérico. Ele faz isso em três etapas:\n",
        "\n",
        "Substitui o valor \"Novo\" na coluna por \"0\" usando o método str.replace()\n",
        "Substitui as vírgulas por pontos na coluna usando o método str.replace()\n",
        "Transforma a coluna em float usando o método astype()\n",
        "Assim, a coluna \"Avaliação\" é transformada de uma string para um tipo de dados numérico (float), o que permite a realização de operações matemáticas nessa coluna."
      ],
      "metadata": {
        "id": "g2v3e8NauN8o"
      }
    },
    {
      "cell_type": "code",
      "source": [
        "df['Avaliação'] = df['Avaliação'].astype(str).str.replace('Novo','0', regex=True)\n",
        "df['Avaliação'] = df['Avaliação'].astype(str).str.replace(',','.', regex=True)\n",
        "df['Avaliação'] = df['Avaliação'].astype(float)"
      ],
      "metadata": {
        "id": "u5ZPkdyXFdqM"
      },
      "execution_count": null,
      "outputs": []
    },
    {
      "cell_type": "markdown",
      "source": [
        "Esse código faz a extração dos valores numéricos presentes na coluna \"Cama\" do DataFrame \"df\" e os transforma em inteiros. Ele faz isso através de três passos:\n",
        "\n",
        "1. Utiliza o método .astype(str) para converter a coluna \"Cama\" para tipo string;\n",
        "\n",
        "2. Utiliza o método .str.extract('(\\d+)') para extrair somente os valores numéricos presentes na coluna. Isso é feito utilizando uma expressão regular que busca um ou mais dígitos (\\d+) presentes na string;\n",
        "\n",
        "3. Utiliza o método .astype(int) para converter os valores extraídos para o tipo inteiro.\n",
        "\n",
        "Essas três linhas de código juntas fazem a extração de valores numéricos da coluna \"Cama\" e convertem-os para inteiros."
      ],
      "metadata": {
        "id": "4VJXF7X8udQd"
      }
    },
    {
      "cell_type": "code",
      "source": [
        "df['Cama'] = df['Cama'].astype(str).str.extract('(\\d+)').astype(int)"
      ],
      "metadata": {
        "id": "qYq84ThGKs1H"
      },
      "execution_count": null,
      "outputs": []
    },
    {
      "cell_type": "markdown",
      "source": [
        "Esse código substitui os valores nulos (NaN) da coluna 'Quantidade_de_avaliações' do DataFrame 'df' pelo valor 0. O método fillna() é usado para preencher valores nulos com o valor desejado. O parâmetro \"inplace=True\" indica que a alteração deve ser feita diretamente no DataFrame e não em uma cópia dele."
      ],
      "metadata": {
        "id": "LER-Q4lsu08T"
      }
    },
    {
      "cell_type": "code",
      "source": [
        "df['Quantidade_de_avaliações'].fillna(value=0, inplace=True)"
      ],
      "metadata": {
        "id": "luNAHj1NS87g"
      },
      "execution_count": null,
      "outputs": []
    },
    {
      "cell_type": "markdown",
      "source": [
        "Esse código é responsável por transformar a coluna \"Quantidade_de_avaliações\" do DataFrame \"df\" em um formato numérico. Ele realiza as seguintes operações:\n",
        "\n",
        "1. Substitui os caracteres \"-\" e \",\" presentes na coluna por \"vazio\" (utilizando o método str.replace()) e remove os espaços em branco (utilizando o método str.strip());\n",
        "2. Converte a coluna para um tipo numérico (utilizando o método pd.to_numeric()), ignorando quaisquer erros."
      ],
      "metadata": {
        "id": "ozlUkmb9u9y7"
      }
    },
    {
      "cell_type": "code",
      "source": [
        "df['Quantidade_de_avaliações'] = df['Quantidade_de_avaliações'].astype(str).str.replace(\"-\", \"\").astype(str).str.replace(\",\", \"\").astype(str).str.strip()\n",
        "df['Quantidade_de_avaliações'] = pd.to_numeric(df['Quantidade_de_avaliações'], errors='coerce')\n",
        "df['Quantidade_de_avaliações'] = df['Quantidade_de_avaliações'] / 100"
      ],
      "metadata": {
        "id": "tbcA0sHQP_nx"
      },
      "execution_count": null,
      "outputs": []
    },
    {
      "cell_type": "markdown",
      "source": [
        "df.head() é uma função que exibe as primeiras linhas de um DataFrame. Ela mostra as cinco primeiras linhas do DataFrame por padrão, mas você também pode especificar um número diferente de linhas a serem exibidas, por exemplo, df.head(10) para exibir as dez primeiras linhas do DataFrame. Isso é útil para dar uma visão geral dos dados no DataFrame e verificar se as primeiras linhas foram lidas e formatadas corretamente, como foi feito posteriormente."
      ],
      "metadata": {
        "id": "oGVyc5sYtZvi"
      }
    },
    {
      "cell_type": "code",
      "source": [
        "#Mostra os primeiros valores do df depois de todo o tratamento\n",
        "df.head()"
      ],
      "metadata": {
        "colab": {
          "base_uri": "https://localhost:8080/",
          "height": 250
        },
        "id": "irzvGY2FVX6X",
        "outputId": "2b700e3d-149f-4e27-d581-827a5f450adf"
      },
      "execution_count": null,
      "outputs": [
        {
          "output_type": "execute_result",
          "data": {
            "text/plain": [
              "                        Local  \\\n",
              "0  Apartamento em João Pessoa   \n",
              "1       Apartamento em Tambaú   \n",
              "2      Apartamento em Manaíra   \n",
              "3  Apartamento em João Pessoa   \n",
              "4  Apartamento em Cabo Branco   \n",
              "\n",
              "                                                Tipo  Cama  Preço_por_noite  \\\n",
              "0                      Studio a beira-mar em Manaíra     3            195.0   \n",
              "1             Lindo Flat na orla da praia de Tambaú.     1            132.0   \n",
              "2           Uno Flats 201 - Comodidade, luxo e lazer     2            188.0   \n",
              "3     Apartamento moderno e confortável no Caribessa     1            173.0   \n",
              "4  FLAT confortável à beira-mar da praia Cabo Branco     2            146.0   \n",
              "\n",
              "   Avaliação  Quantidade_de_avaliações  \n",
              "0       5.00                       5.0  \n",
              "1       4.44                     274.0  \n",
              "2       4.89                     244.0  \n",
              "3       4.87                      91.0  \n",
              "4       4.58                     146.0  "
            ],
            "text/html": [
              "\n",
              "  <div id=\"df-b41c4533-5500-4962-8355-b3a0392dee37\">\n",
              "    <div class=\"colab-df-container\">\n",
              "      <div>\n",
              "<style scoped>\n",
              "    .dataframe tbody tr th:only-of-type {\n",
              "        vertical-align: middle;\n",
              "    }\n",
              "\n",
              "    .dataframe tbody tr th {\n",
              "        vertical-align: top;\n",
              "    }\n",
              "\n",
              "    .dataframe thead th {\n",
              "        text-align: right;\n",
              "    }\n",
              "</style>\n",
              "<table border=\"1\" class=\"dataframe\">\n",
              "  <thead>\n",
              "    <tr style=\"text-align: right;\">\n",
              "      <th></th>\n",
              "      <th>Local</th>\n",
              "      <th>Tipo</th>\n",
              "      <th>Cama</th>\n",
              "      <th>Preço_por_noite</th>\n",
              "      <th>Avaliação</th>\n",
              "      <th>Quantidade_de_avaliações</th>\n",
              "    </tr>\n",
              "  </thead>\n",
              "  <tbody>\n",
              "    <tr>\n",
              "      <th>0</th>\n",
              "      <td>Apartamento em João Pessoa</td>\n",
              "      <td>Studio a beira-mar em Manaíra</td>\n",
              "      <td>3</td>\n",
              "      <td>195.0</td>\n",
              "      <td>5.00</td>\n",
              "      <td>5.0</td>\n",
              "    </tr>\n",
              "    <tr>\n",
              "      <th>1</th>\n",
              "      <td>Apartamento em Tambaú</td>\n",
              "      <td>Lindo Flat na orla da praia de Tambaú.</td>\n",
              "      <td>1</td>\n",
              "      <td>132.0</td>\n",
              "      <td>4.44</td>\n",
              "      <td>274.0</td>\n",
              "    </tr>\n",
              "    <tr>\n",
              "      <th>2</th>\n",
              "      <td>Apartamento em Manaíra</td>\n",
              "      <td>Uno Flats 201 - Comodidade, luxo e lazer</td>\n",
              "      <td>2</td>\n",
              "      <td>188.0</td>\n",
              "      <td>4.89</td>\n",
              "      <td>244.0</td>\n",
              "    </tr>\n",
              "    <tr>\n",
              "      <th>3</th>\n",
              "      <td>Apartamento em João Pessoa</td>\n",
              "      <td>Apartamento moderno e confortável no Caribessa</td>\n",
              "      <td>1</td>\n",
              "      <td>173.0</td>\n",
              "      <td>4.87</td>\n",
              "      <td>91.0</td>\n",
              "    </tr>\n",
              "    <tr>\n",
              "      <th>4</th>\n",
              "      <td>Apartamento em Cabo Branco</td>\n",
              "      <td>FLAT confortável à beira-mar da praia Cabo Branco</td>\n",
              "      <td>2</td>\n",
              "      <td>146.0</td>\n",
              "      <td>4.58</td>\n",
              "      <td>146.0</td>\n",
              "    </tr>\n",
              "  </tbody>\n",
              "</table>\n",
              "</div>\n",
              "      <button class=\"colab-df-convert\" onclick=\"convertToInteractive('df-b41c4533-5500-4962-8355-b3a0392dee37')\"\n",
              "              title=\"Convert this dataframe to an interactive table.\"\n",
              "              style=\"display:none;\">\n",
              "        \n",
              "  <svg xmlns=\"http://www.w3.org/2000/svg\" height=\"24px\"viewBox=\"0 0 24 24\"\n",
              "       width=\"24px\">\n",
              "    <path d=\"M0 0h24v24H0V0z\" fill=\"none\"/>\n",
              "    <path d=\"M18.56 5.44l.94 2.06.94-2.06 2.06-.94-2.06-.94-.94-2.06-.94 2.06-2.06.94zm-11 1L8.5 8.5l.94-2.06 2.06-.94-2.06-.94L8.5 2.5l-.94 2.06-2.06.94zm10 10l.94 2.06.94-2.06 2.06-.94-2.06-.94-.94-2.06-.94 2.06-2.06.94z\"/><path d=\"M17.41 7.96l-1.37-1.37c-.4-.4-.92-.59-1.43-.59-.52 0-1.04.2-1.43.59L10.3 9.45l-7.72 7.72c-.78.78-.78 2.05 0 2.83L4 21.41c.39.39.9.59 1.41.59.51 0 1.02-.2 1.41-.59l7.78-7.78 2.81-2.81c.8-.78.8-2.07 0-2.86zM5.41 20L4 18.59l7.72-7.72 1.47 1.35L5.41 20z\"/>\n",
              "  </svg>\n",
              "      </button>\n",
              "      \n",
              "  <style>\n",
              "    .colab-df-container {\n",
              "      display:flex;\n",
              "      flex-wrap:wrap;\n",
              "      gap: 12px;\n",
              "    }\n",
              "\n",
              "    .colab-df-convert {\n",
              "      background-color: #E8F0FE;\n",
              "      border: none;\n",
              "      border-radius: 50%;\n",
              "      cursor: pointer;\n",
              "      display: none;\n",
              "      fill: #1967D2;\n",
              "      height: 32px;\n",
              "      padding: 0 0 0 0;\n",
              "      width: 32px;\n",
              "    }\n",
              "\n",
              "    .colab-df-convert:hover {\n",
              "      background-color: #E2EBFA;\n",
              "      box-shadow: 0px 1px 2px rgba(60, 64, 67, 0.3), 0px 1px 3px 1px rgba(60, 64, 67, 0.15);\n",
              "      fill: #174EA6;\n",
              "    }\n",
              "\n",
              "    [theme=dark] .colab-df-convert {\n",
              "      background-color: #3B4455;\n",
              "      fill: #D2E3FC;\n",
              "    }\n",
              "\n",
              "    [theme=dark] .colab-df-convert:hover {\n",
              "      background-color: #434B5C;\n",
              "      box-shadow: 0px 1px 3px 1px rgba(0, 0, 0, 0.15);\n",
              "      filter: drop-shadow(0px 1px 2px rgba(0, 0, 0, 0.3));\n",
              "      fill: #FFFFFF;\n",
              "    }\n",
              "  </style>\n",
              "\n",
              "      <script>\n",
              "        const buttonEl =\n",
              "          document.querySelector('#df-b41c4533-5500-4962-8355-b3a0392dee37 button.colab-df-convert');\n",
              "        buttonEl.style.display =\n",
              "          google.colab.kernel.accessAllowed ? 'block' : 'none';\n",
              "\n",
              "        async function convertToInteractive(key) {\n",
              "          const element = document.querySelector('#df-b41c4533-5500-4962-8355-b3a0392dee37');\n",
              "          const dataTable =\n",
              "            await google.colab.kernel.invokeFunction('convertToInteractive',\n",
              "                                                     [key], {});\n",
              "          if (!dataTable) return;\n",
              "\n",
              "          const docLinkHtml = 'Like what you see? Visit the ' +\n",
              "            '<a target=\"_blank\" href=https://colab.research.google.com/notebooks/data_table.ipynb>data table notebook</a>'\n",
              "            + ' to learn more about interactive tables.';\n",
              "          element.innerHTML = '';\n",
              "          dataTable['output_type'] = 'display_data';\n",
              "          await google.colab.output.renderOutput(dataTable, element);\n",
              "          const docLink = document.createElement('div');\n",
              "          docLink.innerHTML = docLinkHtml;\n",
              "          element.appendChild(docLink);\n",
              "        }\n",
              "      </script>\n",
              "    </div>\n",
              "  </div>\n",
              "  "
            ]
          },
          "metadata": {},
          "execution_count": 14
        }
      ]
    },
    {
      "cell_type": "markdown",
      "source": [
        "**Essa célula tem duas partes:**\n",
        "\n",
        "1.   A primeira parte imprime o número de entradas (linhas) e variáveis (colunas) do DataFrame e imprime \"Tipos das Variáveis\" como uma cabeçalho.\n",
        "2.   A segunda parte usa o método .dtypes para exibir os tipos de variáveis para cada coluna do DataFrame. Isso permite verificar se todas as colunas têm o tipo de dados correto e identificar quais colunas são numéricas ou categóricas."
      ],
      "metadata": {
        "id": "XKCY2C6Esprx"
      }
    },
    {
      "cell_type": "code",
      "source": [
        "# identificar o volume de dados do DataFrame\n",
        "print(f\"Entradas:\\t {df.shape[0]}\")\n",
        "print(f\"Variáveis:\\t {df.shape[1]}\\n\")\n",
        "print(\"Tipos das Variáveis\\n\")\n",
        "\n",
        "# verificar os tipos de variáveis do dataset\n",
        "df.dtypes"
      ],
      "metadata": {
        "colab": {
          "base_uri": "https://localhost:8080/"
        },
        "id": "8S80b1RvToDM",
        "outputId": "40711478-a813-4e6c-cb40-469f1ec07c38"
      },
      "execution_count": null,
      "outputs": [
        {
          "output_type": "stream",
          "name": "stdout",
          "text": [
            "Entradas:\t 216\n",
            "Variáveis:\t 6\n",
            "\n",
            "Tipos das Variáveis\n",
            "\n"
          ]
        },
        {
          "output_type": "execute_result",
          "data": {
            "text/plain": [
              "Local                        object\n",
              "Tipo                         object\n",
              "Cama                          int64\n",
              "Preço_por_noite             float64\n",
              "Avaliação                   float64\n",
              "Quantidade_de_avaliações    float64\n",
              "dtype: object"
            ]
          },
          "metadata": {},
          "execution_count": 13
        }
      ]
    },
    {
      "cell_type": "markdown",
      "source": [
        "Esse código substitui os valores nulos (NA) nas colunas numéricas do DataFrame \"df\" pela média das colunas. O argumento \"inplace=True\" faz com que as alterações sejam feitas diretamente no DataFrame original, sem precisar atribuir o resultado para uma nova variável. Isso é chamado de \"in place operation\"."
      ],
      "metadata": {
        "id": "tCmZ_IKfsbzu"
      }
    },
    {
      "cell_type": "code",
      "source": [
        "# Preenchendo valores faltantes com a média dos valores da coluna\n",
        "df.fillna(df.mean(numeric_only=True), inplace=True)"
      ],
      "metadata": {
        "id": "9x3gaGUedNsp"
      },
      "execution_count": null,
      "outputs": []
    },
    {
      "cell_type": "markdown",
      "source": [
        "## Análise dos Dados"
      ],
      "metadata": {
        "id": "xH34YJPPK_ev"
      }
    },
    {
      "cell_type": "code",
      "source": [
        "# ordenar em ordem decrescente as variáveis por seus valores ausentes:\n",
        "# A expressão calcula a porcentagem de valores nulos em cada coluna do DataFrame df. A expressão é composta por várias operações:\n",
        "# df.isnull(): retorna um DataFrame booleano onde cada valor é True se o valor correspondente no DataFrame original for nulo e False caso contrário. Além disso, ordena os valores de cada coluna em ordem decrescente. O resultado final é um série com a porcentagem de valores nulos para cada coluna.\n",
        "\n",
        "df.isnull().sum().sort_values(ascending=False) / df.shape[0] * 100"
      ],
      "metadata": {
        "colab": {
          "base_uri": "https://localhost:8080/"
        },
        "id": "3Xd7dY9wT5Bg",
        "outputId": "9f63bd4b-0257-4119-a2c7-56db109b881f"
      },
      "execution_count": null,
      "outputs": [
        {
          "output_type": "execute_result",
          "data": {
            "text/plain": [
              "Local                       0.0\n",
              "Tipo                        0.0\n",
              "Cama                        0.0\n",
              "Preço_por_noite             0.0\n",
              "Avaliação                   0.0\n",
              "Quantidade_de_avaliações    0.0\n",
              "dtype: float64"
            ]
          },
          "metadata": {},
          "execution_count": 11
        }
      ]
    },
    {
      "cell_type": "code",
      "source": [
        "# O método df.describe() gera estatísticas resumidas para as colunas numéricas do DataFrame\n",
        "df.describe()"
      ],
      "metadata": {
        "colab": {
          "base_uri": "https://localhost:8080/",
          "height": 300
        },
        "id": "pcM3yOk2lUFS",
        "outputId": "61070e10-e5d7-40e9-9188-f86292289212"
      },
      "execution_count": null,
      "outputs": [
        {
          "output_type": "execute_result",
          "data": {
            "text/plain": [
              "             Cama  Preço_por_noite   Avaliação  Quantidade_de_avaliações\n",
              "count  169.000000       169.000000  169.000000                169.000000\n",
              "mean     2.071006       203.065089    4.650947                 53.769231\n",
              "std      1.015206        82.354066    0.980509                 57.568386\n",
              "min      1.000000        51.000000    0.000000                  0.000000\n",
              "25%      1.000000       149.000000    4.720000                 17.000000\n",
              "50%      2.000000       188.000000    4.890000                 36.000000\n",
              "75%      3.000000       256.000000    4.960000                 70.000000\n",
              "max      6.000000       513.000000    5.000000                331.000000"
            ],
            "text/html": [
              "\n",
              "  <div id=\"df-b73f4aaa-a308-4cec-b4cb-89df63b380b4\">\n",
              "    <div class=\"colab-df-container\">\n",
              "      <div>\n",
              "<style scoped>\n",
              "    .dataframe tbody tr th:only-of-type {\n",
              "        vertical-align: middle;\n",
              "    }\n",
              "\n",
              "    .dataframe tbody tr th {\n",
              "        vertical-align: top;\n",
              "    }\n",
              "\n",
              "    .dataframe thead th {\n",
              "        text-align: right;\n",
              "    }\n",
              "</style>\n",
              "<table border=\"1\" class=\"dataframe\">\n",
              "  <thead>\n",
              "    <tr style=\"text-align: right;\">\n",
              "      <th></th>\n",
              "      <th>Cama</th>\n",
              "      <th>Preço_por_noite</th>\n",
              "      <th>Avaliação</th>\n",
              "      <th>Quantidade_de_avaliações</th>\n",
              "    </tr>\n",
              "  </thead>\n",
              "  <tbody>\n",
              "    <tr>\n",
              "      <th>count</th>\n",
              "      <td>169.000000</td>\n",
              "      <td>169.000000</td>\n",
              "      <td>169.000000</td>\n",
              "      <td>169.000000</td>\n",
              "    </tr>\n",
              "    <tr>\n",
              "      <th>mean</th>\n",
              "      <td>2.071006</td>\n",
              "      <td>203.065089</td>\n",
              "      <td>4.650947</td>\n",
              "      <td>53.769231</td>\n",
              "    </tr>\n",
              "    <tr>\n",
              "      <th>std</th>\n",
              "      <td>1.015206</td>\n",
              "      <td>82.354066</td>\n",
              "      <td>0.980509</td>\n",
              "      <td>57.568386</td>\n",
              "    </tr>\n",
              "    <tr>\n",
              "      <th>min</th>\n",
              "      <td>1.000000</td>\n",
              "      <td>51.000000</td>\n",
              "      <td>0.000000</td>\n",
              "      <td>0.000000</td>\n",
              "    </tr>\n",
              "    <tr>\n",
              "      <th>25%</th>\n",
              "      <td>1.000000</td>\n",
              "      <td>149.000000</td>\n",
              "      <td>4.720000</td>\n",
              "      <td>17.000000</td>\n",
              "    </tr>\n",
              "    <tr>\n",
              "      <th>50%</th>\n",
              "      <td>2.000000</td>\n",
              "      <td>188.000000</td>\n",
              "      <td>4.890000</td>\n",
              "      <td>36.000000</td>\n",
              "    </tr>\n",
              "    <tr>\n",
              "      <th>75%</th>\n",
              "      <td>3.000000</td>\n",
              "      <td>256.000000</td>\n",
              "      <td>4.960000</td>\n",
              "      <td>70.000000</td>\n",
              "    </tr>\n",
              "    <tr>\n",
              "      <th>max</th>\n",
              "      <td>6.000000</td>\n",
              "      <td>513.000000</td>\n",
              "      <td>5.000000</td>\n",
              "      <td>331.000000</td>\n",
              "    </tr>\n",
              "  </tbody>\n",
              "</table>\n",
              "</div>\n",
              "      <button class=\"colab-df-convert\" onclick=\"convertToInteractive('df-b73f4aaa-a308-4cec-b4cb-89df63b380b4')\"\n",
              "              title=\"Convert this dataframe to an interactive table.\"\n",
              "              style=\"display:none;\">\n",
              "        \n",
              "  <svg xmlns=\"http://www.w3.org/2000/svg\" height=\"24px\"viewBox=\"0 0 24 24\"\n",
              "       width=\"24px\">\n",
              "    <path d=\"M0 0h24v24H0V0z\" fill=\"none\"/>\n",
              "    <path d=\"M18.56 5.44l.94 2.06.94-2.06 2.06-.94-2.06-.94-.94-2.06-.94 2.06-2.06.94zm-11 1L8.5 8.5l.94-2.06 2.06-.94-2.06-.94L8.5 2.5l-.94 2.06-2.06.94zm10 10l.94 2.06.94-2.06 2.06-.94-2.06-.94-.94-2.06-.94 2.06-2.06.94z\"/><path d=\"M17.41 7.96l-1.37-1.37c-.4-.4-.92-.59-1.43-.59-.52 0-1.04.2-1.43.59L10.3 9.45l-7.72 7.72c-.78.78-.78 2.05 0 2.83L4 21.41c.39.39.9.59 1.41.59.51 0 1.02-.2 1.41-.59l7.78-7.78 2.81-2.81c.8-.78.8-2.07 0-2.86zM5.41 20L4 18.59l7.72-7.72 1.47 1.35L5.41 20z\"/>\n",
              "  </svg>\n",
              "      </button>\n",
              "      \n",
              "  <style>\n",
              "    .colab-df-container {\n",
              "      display:flex;\n",
              "      flex-wrap:wrap;\n",
              "      gap: 12px;\n",
              "    }\n",
              "\n",
              "    .colab-df-convert {\n",
              "      background-color: #E8F0FE;\n",
              "      border: none;\n",
              "      border-radius: 50%;\n",
              "      cursor: pointer;\n",
              "      display: none;\n",
              "      fill: #1967D2;\n",
              "      height: 32px;\n",
              "      padding: 0 0 0 0;\n",
              "      width: 32px;\n",
              "    }\n",
              "\n",
              "    .colab-df-convert:hover {\n",
              "      background-color: #E2EBFA;\n",
              "      box-shadow: 0px 1px 2px rgba(60, 64, 67, 0.3), 0px 1px 3px 1px rgba(60, 64, 67, 0.15);\n",
              "      fill: #174EA6;\n",
              "    }\n",
              "\n",
              "    [theme=dark] .colab-df-convert {\n",
              "      background-color: #3B4455;\n",
              "      fill: #D2E3FC;\n",
              "    }\n",
              "\n",
              "    [theme=dark] .colab-df-convert:hover {\n",
              "      background-color: #434B5C;\n",
              "      box-shadow: 0px 1px 3px 1px rgba(0, 0, 0, 0.15);\n",
              "      filter: drop-shadow(0px 1px 2px rgba(0, 0, 0, 0.3));\n",
              "      fill: #FFFFFF;\n",
              "    }\n",
              "  </style>\n",
              "\n",
              "      <script>\n",
              "        const buttonEl =\n",
              "          document.querySelector('#df-b73f4aaa-a308-4cec-b4cb-89df63b380b4 button.colab-df-convert');\n",
              "        buttonEl.style.display =\n",
              "          google.colab.kernel.accessAllowed ? 'block' : 'none';\n",
              "\n",
              "        async function convertToInteractive(key) {\n",
              "          const element = document.querySelector('#df-b73f4aaa-a308-4cec-b4cb-89df63b380b4');\n",
              "          const dataTable =\n",
              "            await google.colab.kernel.invokeFunction('convertToInteractive',\n",
              "                                                     [key], {});\n",
              "          if (!dataTable) return;\n",
              "\n",
              "          const docLinkHtml = 'Like what you see? Visit the ' +\n",
              "            '<a target=\"_blank\" href=https://colab.research.google.com/notebooks/data_table.ipynb>data table notebook</a>'\n",
              "            + ' to learn more about interactive tables.';\n",
              "          element.innerHTML = '';\n",
              "          dataTable['output_type'] = 'display_data';\n",
              "          await google.colab.output.renderOutput(dataTable, element);\n",
              "          const docLink = document.createElement('div');\n",
              "          docLink.innerHTML = docLinkHtml;\n",
              "          element.appendChild(docLink);\n",
              "        }\n",
              "      </script>\n",
              "    </div>\n",
              "  </div>\n",
              "  "
            ]
          },
          "metadata": {},
          "execution_count": 13
        }
      ]
    },
    {
      "cell_type": "code",
      "source": [
        "# ver a média da coluna referente ao Preço\n",
        "df.Preço_por_noite.mean()"
      ],
      "metadata": {
        "id": "59vye9s5l5Po",
        "colab": {
          "base_uri": "https://localhost:8080/"
        },
        "outputId": "399ab0af-6c09-4f3e-fa57-34313f450955"
      },
      "execution_count": null,
      "outputs": [
        {
          "output_type": "execute_result",
          "data": {
            "text/plain": [
              "203.06508875739644"
            ]
          },
          "metadata": {},
          "execution_count": 14
        }
      ]
    },
    {
      "cell_type": "code",
      "source": [
        "# ver a média da coluna Avaliação\n",
        "df.Avaliação.mean()"
      ],
      "metadata": {
        "colab": {
          "base_uri": "https://localhost:8080/"
        },
        "id": "-zVPTF_xGZWl",
        "outputId": "3e34ad67-d04b-4c09-a628-9525c916b700"
      },
      "execution_count": null,
      "outputs": [
        {
          "output_type": "execute_result",
          "data": {
            "text/plain": [
              "4.6509467455621305"
            ]
          },
          "metadata": {},
          "execution_count": 15
        }
      ]
    },
    {
      "cell_type": "code",
      "source": [
        "# ver a média da coluna referente ao número de Camas\n",
        "df.Cama.mean()"
      ],
      "metadata": {
        "colab": {
          "base_uri": "https://localhost:8080/"
        },
        "id": "wvu8M7DTLlCv",
        "outputId": "276eb9a2-ab06-4d16-9857-96b8e345f5b3"
      },
      "execution_count": null,
      "outputs": [
        {
          "output_type": "execute_result",
          "data": {
            "text/plain": [
              "2.0710059171597632"
            ]
          },
          "metadata": {},
          "execution_count": 16
        }
      ]
    },
    {
      "cell_type": "code",
      "source": [
        "# ver a média da coluna Quantidade_de_avaliações\n",
        "df.Quantidade_de_avaliações.mean()"
      ],
      "metadata": {
        "colab": {
          "base_uri": "https://localhost:8080/"
        },
        "id": "ZIuujxyuW_YV",
        "outputId": "8b5f0f48-97b7-4a39-c8ef-c75338944337"
      },
      "execution_count": null,
      "outputs": [
        {
          "output_type": "execute_result",
          "data": {
            "text/plain": [
              "53.76923076923077"
            ]
          },
          "metadata": {},
          "execution_count": 17
        }
      ]
    },
    {
      "cell_type": "code",
      "source": [
        "# plotar o histograma das variáveis numéricas\n",
        "df.hist(bins=12, figsize=(15,10));\n",
        "\n",
        "# Obs: df.hist(bins=12, figsize=(15,10)) é uma função do Pandas que gera histogramas para todas as colunas numéricas de um dataframe (df). O número de bins (bins=12) define o número de barras do histograma e o figsize=(15,10) define o tamanho da figura gerada. Esse comando gera um histograma para cada coluna numérica do dataframe, mostrando a distribuição dos dados."
      ],
      "metadata": {
        "colab": {
          "base_uri": "https://localhost:8080/",
          "height": 608
        },
        "id": "76rTCa7FFRqO",
        "outputId": "61c71cde-0bd8-49ac-e7dd-f7bd8fa6f8d9"
      },
      "execution_count": null,
      "outputs": [
        {
          "output_type": "display_data",
          "data": {
            "text/plain": [
              "<Figure size 1080x720 with 4 Axes>"
            ],
            "image/png": "[encoded data removed]"
          },
          "metadata": {
            "needs_background": "light"
          }
        }
      ]
    },
    {
      "cell_type": "markdown",
      "source": [
        "# Identificação de outliers:"
      ],
      "metadata": {
        "id": "l8OTwyZSgkDl"
      }
    },
    {
      "cell_type": "markdown",
      "source": [
        "Esse código cria pontos de corte para as variáveis \"Preço_por_noite\" e \"Avaliação\" no dataframe. Ele calcula os quartis (Q1 e Q3) e o intervalo interquartil (IQR) para cada variável, e usa esses valores para calcular limites superior e inferior para cada uma delas. Os limites superior e inferior são calculados como 1.5 vezes o IQR acima e abaixo dos quartis correspondentes, respectivamente. Em seguida, ele imprime esses valores para que possam ser verificados. Esses limites superior e inferior são utilizados para identificar valores atípicos (outliers) nas variáveis."
      ],
      "metadata": {
        "id": "Pm-vslHSrw2h"
      }
    },
    {
      "cell_type": "markdown",
      "source": [
        "*OBS: Outliers são valores atípicos ou anômalos em um conjunto de dados. Eles podem ser causados por erros de medição, erros de entrada de dados ou podem ser valores legítimos, mas que são significativamente diferentes dos demais valores no conjunto de dados. Identificar e lidar com outliers é importante para evitar distorções na análise e na modelagem de dados. Uma forma comum de identificar outliers é usando uma técnica chamada \"boxplot\" ou \"regra de caixa\", que utiliza a mediana, quartis e limites superior e inferior para identificar valores anômalos.*"
      ],
      "metadata": {
        "id": "49zGDd--sFRH"
      }
    },
    {
      "cell_type": "code",
      "source": [
        "#Vamos criar um ponto de corte para os preços\n",
        "q1_Preço_por_noite = df.Preço_por_noite.quantile(0.25)\n",
        "q3_Preço_por_noite = df.Preço_por_noite.quantile(0.75)\n",
        "IQR_Preço_por_noite = q3_Preço_por_noite - q1_Preço_por_noite\n",
        "sup_Preço_por_noite = q3_Preço_por_noite + 1.5 * IQR_Preço_por_noite\n",
        "inf_Preço_por_noite = q1_Preço_por_noite - 1.5 * IQR_Preço_por_noite\n",
        "\n",
        "print(f'''Variável Preço_por_noite=> Q1={q1_Preço_por_noite},\n",
        "      Q3={q3_Preço_por_noite}, \n",
        "      IQR={IQR_Preço_por_noite}, \n",
        "      Limite superior={sup_Preço_por_noite}, \n",
        "      Limite inferior={inf_Preço_por_noite}''')\n",
        "\n",
        "#Vamos criar um ponto de corte para Avaliações\n",
        "q1_Avaliação = df.Avaliação.quantile(0.25)\n",
        "q3_Avaliação = df.Avaliação.quantile(0.75)\n",
        "IQR_Avaliação = q3_Avaliação - q1_Avaliação\n",
        "sup_Avaliação = q3_Avaliação + 1.5 * IQR_Avaliação\n",
        "inf_Avaliação = q1_Avaliação - 1.5 * IQR_Avaliação\n",
        "\n",
        "print(f'''Variável Avaliação=> Q1={q1_Avaliação}, \n",
        "    Q3={q3_Avaliação}, \n",
        "    IQR={IQR_Avaliação}, \n",
        "    Limite superior={sup_Avaliação}, \n",
        "    Limite inferior={inf_Avaliação}''')"
      ],
      "metadata": {
        "colab": {
          "base_uri": "https://localhost:8080/"
        },
        "id": "ToWnA99xejbS",
        "outputId": "5cc263c7-22bf-4e8e-d47e-bf2447da0d6a"
      },
      "execution_count": null,
      "outputs": [
        {
          "output_type": "stream",
          "name": "stdout",
          "text": [
            "Variável Preço_por_noite=> Q1=149.0,\n",
            "      Q3=256.0, \n",
            "      IQR=107.0, \n",
            "      Limite superior=416.5, \n",
            "      Limite inferior=-11.5\n",
            "Variável Avaliação=> Q1=4.72, \n",
            "    Q3=4.96, \n",
            "    IQR=0.2400000000000002, \n",
            "    Limite superior=5.32, \n",
            "    Limite inferior=4.359999999999999\n"
          ]
        }
      ]
    },
    {
      "cell_type": "markdown",
      "source": [
        "# Boxplot para Preço_por_noite"
      ],
      "metadata": {
        "id": "yOlmyzXxg-Un"
      }
    },
    {
      "cell_type": "markdown",
      "source": [
        "Esse código usa o método \"plot\" do pandas para plotar um gráfico de caixa (box plot) mostrando a distribuição dos valores da coluna \"Preço_por_noite\" do dataframe \"df\". Ele também define o tamanho do gráfico como (15, 3) e desenha o eixo y vertical. Depois disso, ele imprime a quantidade de entradas no dataframe cujo valor da coluna \"Preço_por_noite\" é maior do que um valor especificado (sup_Preço_por_noite) e a porcentagem dessas entradas em relação ao total de entradas no dataframe."
      ],
      "metadata": {
        "id": "ZCQt_Jy-q5nD"
      }
    },
    {
      "cell_type": "code",
      "source": [
        "df.Preço_por_noite.plot(kind='box', vert=False, figsize=(15, 3))\n",
        "\n",
        "# ver quantidade de valores acima de sup_Preço_por_noite para Preço_por_noite\n",
        "print(f\"Preço_por_noite: valores acima de {sup_Preço_por_noite}:\")\n",
        "print(f\"{len(df[df.Preço_por_noite > sup_Preço_por_noite])} entradas\")\n",
        "print(f\"{len(df[df.Preço_por_noite > sup_Preço_por_noite])/df.shape[0]*100:.4}%\")"
      ],
      "metadata": {
        "colab": {
          "base_uri": "https://localhost:8080/",
          "height": 263
        },
        "id": "eVZNqoTGhdfU",
        "outputId": "ce468313-3e91-40f8-865f-636fdded6d34"
      },
      "execution_count": null,
      "outputs": [
        {
          "output_type": "stream",
          "name": "stdout",
          "text": [
            "Preço_por_noite: valores acima de 416.5:\n",
            "1 entradas\n",
            "0.5917%\n"
          ]
        },
        {
          "output_type": "display_data",
          "data": {
            "text/plain": [
              "<Figure size 1080x216 with 1 Axes>"
            ],
            "image/png": "[encoded data removed]"
          },
          "metadata": {
            "needs_background": "light"
          }
        }
      ]
    },
    {
      "cell_type": "markdown",
      "source": [
        "# Boxplot para Avaliação"
      ],
      "metadata": {
        "id": "PQ0C4Wvti7a6"
      }
    },
    {
      "cell_type": "markdown",
      "source": [
        "Ele plota um gráfico de caixa, ou box plot, para a coluna \"Avaliação\" do dataframe (df).\n",
        "\n",
        "1.    O argumento \"kind='box'\" especifica que é um gráfico de caixa, \"vert=False\" indica que o eixo y deve ser horizontal e \"figsize\" é usado para especificar o tamanho da figura.\n",
        "2.   Ele usa a notação f-string para imprimir uma mensagem indicando o número de entradas no dataframe df cuja coluna \"Avaliação\" é maior do que o valor atribuido a \"sup_Avaliação\" ou igual a zero. Ele também mostra essa quantidade em porcentagem em relação ao total de entradas no dataframe (df.shape[0])."
      ],
      "metadata": {
        "id": "oQOtQ00bpvWK"
      }
    },
    {
      "cell_type": "code",
      "source": [
        "df.Avaliação.plot(kind='box', vert=False, figsize=(15, 3))\n",
        "\n",
        "# ver quantidade de valores acima de sup_minimum_nights para minimum_nights\n",
        "print(f\"Avaliação: valores acima de {sup_Avaliação} a valores = 0:\")\n",
        "print(f\"{len(df[df.Avaliação > sup_Avaliação])+len(df[df.Avaliação == 0])} entradas\")\n",
        "print(f\"{(len(df[df.Avaliação > sup_Avaliação])+len(df[df.Avaliação == 0])) / df.shape[0]*100:.4}%\")"
      ],
      "metadata": {
        "colab": {
          "base_uri": "https://localhost:8080/",
          "height": 263
        },
        "id": "rq2b6OyGi_U9",
        "outputId": "e012a7d5-5321-4879-f34a-2681697cccda"
      },
      "execution_count": null,
      "outputs": [
        {
          "output_type": "stream",
          "name": "stdout",
          "text": [
            "Avaliação: valores acima de 5.32 a valores = 0:\n",
            "7 entradas\n",
            "4.142%\n"
          ]
        },
        {
          "output_type": "display_data",
          "data": {
            "text/plain": [
              "<Figure size 1080x216 with 1 Axes>"
            ],
            "image/png": "[encoded data removed]"
          },
          "metadata": {
            "needs_background": "light"
          }
        }
      ]
    },
    {
      "cell_type": "markdown",
      "source": [
        "# Tratamento "
      ],
      "metadata": {
        "id": "_XPKMThsZBdI"
      }
    },
    {
      "cell_type": "markdown",
      "source": [
        "Este código tem como objetivo remover os outliers (valores atípicos) da coluna \"Preço_por_noite\" em um dataframe chamado \"df\". Ele faz isso utilizando o método de \"Interquartile Range (IQR)\", que é uma medida de dispersão estatística. Em primeiro lugar, ele calcula o primeiro quartil (q1), o terceiro quartil (q3) e o valor de IQR (q3-q1). Em seguida, ele calcula os limites inferiores e superiores (lower_bound e upper_bound) utilizando esses valores. Em seguida, ele remove todas as linhas cujos valores na coluna \"Preço_por_noite\" estão fora desses limites.\n",
        "Em seguida, ele calcula a mediana da coluna \"Preço_por_noite\" e substitui os valores acima do limite superior pela mediana calculada. Por fim, ele gera um boxplot para visualizar a distribuição dos dados da coluna \"Preço_por_noite\" após a remoção dos outliers. O comando sns.boxplot é usado para gerar o gráfico e plt.title, plt.xlabel, plt.ylabel são usados para colocar título e nome nos eixos."
      ],
      "metadata": {
        "id": "hhSMLCFGjjEZ"
      }
    },
    {
      "cell_type": "code",
      "source": [
        "q1 = df['Preço_por_noite'].quantile(0.25)\n",
        "q3 = df['Preço_por_noite'].quantile(0.75)\n",
        "iqr = q3 - q1\n",
        "lower_bound = q1 - (1.5 * iqr)\n",
        "upper_bound = q3 + (1.5 * iqr)\n",
        "df = df[(df['Preço_por_noite'] > lower_bound) & (df['Preço_por_noite'] < upper_bound)]"
      ],
      "metadata": {
        "id": "Ier4M6_FZVR8"
      },
      "execution_count": null,
      "outputs": []
    },
    {
      "cell_type": "code",
      "source": [
        "median = df['Preço_por_noite'].median()\n",
        "df['Preço_por_noite'] = np.where(df['Preço_por_noite'] > upper_bound, median, df['Preço_por_noite'])"
      ],
      "metadata": {
        "id": "azyFq00IZpi7"
      },
      "execution_count": null,
      "outputs": []
    },
    {
      "cell_type": "code",
      "source": [
        "#Boxplot minimun_nights após retirar outliers\n",
        "sns.boxplot(x=df['Preço_por_noite'], color='#3F5D7D', linewidth=1.5, width=0.5, fliersize=5, whis=1.5)\n",
        "plt.title('Boxplot de Preço_por_noite')\n",
        "plt.xlabel('Preço_por_noite')\n",
        "plt.ylabel('Range')\n",
        "plt.show()"
      ],
      "metadata": {
        "colab": {
          "base_uri": "https://localhost:8080/",
          "height": 296
        },
        "id": "Fp_ZlTxZaqsp",
        "outputId": "c25bd2e1-2b3f-480a-c6cc-00d90674ec8d"
      },
      "execution_count": null,
      "outputs": [
        {
          "output_type": "display_data",
          "data": {
            "text/plain": [
              "<Figure size 432x288 with 1 Axes>"
            ],
            "image/png": "[encoded data removed]"
          },
          "metadata": {
            "needs_background": "light"
          }
        }
      ]
    },
    {
      "cell_type": "markdown",
      "source": [
        "Essa célula a seguir cria uma cópia do DataFrame original chamada \"df_clean\" e então seleciona os índices das linhas onde o valor da coluna \"Preço_por_noite\" é maior que \"sup_Preço_por_noite\". Isso é feito utilizando o método de seleção booleana e o método \"index\" para selecionar somente os índices das linhas selecionadas."
      ],
      "metadata": {
        "id": "Yaj6dyYNjxt3"
      }
    },
    {
      "cell_type": "code",
      "source": [
        "df_clean = df.copy()\n",
        "df_clean[df_clean.Preço_por_noite > sup_Preço_por_noite].index"
      ],
      "metadata": {
        "colab": {
          "base_uri": "https://localhost:8080/"
        },
        "id": "vP6itLDach7V",
        "outputId": "51355615-c84e-420a-8f88-191e0592a405"
      },
      "execution_count": null,
      "outputs": [
        {
          "output_type": "execute_result",
          "data": {
            "text/plain": [
              "Int64Index([], dtype='int64')"
            ]
          },
          "metadata": {},
          "execution_count": 25
        }
      ]
    },
    {
      "cell_type": "markdown",
      "source": [
        "Esse código faz uma cópia do DataFrame original (df) para uma nova variável chamada df_clean. Em seguida, utiliza o método drop() para remover linhas do DataFrame onde o valor da coluna \"Preço_por_noite\" é maior que sup_Preço_por_noite e onde é igual a zero. Além disso, remove linhas onde o valor da coluna \"Avaliação\" é maior que sup_Avaliação. Por fim, plota um histograma dos dados limpando."
      ],
      "metadata": {
        "id": "JMlbuITskEQ8"
      }
    },
    {
      "cell_type": "code",
      "source": [
        "#Eliminando linhas com outlayers\n",
        "df_clean = df.copy()\n",
        "df_clean.drop(df_clean[df_clean.Preço_por_noite > sup_Preço_por_noite].index, axis=0, inplace=True)\n",
        "df_clean.drop(df_clean[df_clean.Preço_por_noite == 0].index, axis=0, inplace=True)\n",
        "df_clean.drop(df_clean[df_clean.Avaliação > sup_Avaliação].index, axis=0, \n",
        "              inplace=True)\n",
        "\n",
        "# Histograma após limpeza dos dados\n",
        "df_clean.hist(bins=15, figsize=(15,10));"
      ],
      "metadata": {
        "colab": {
          "base_uri": "https://localhost:8080/",
          "height": 608
        },
        "id": "W22GmBtKqj1X",
        "outputId": "204ce5da-fda4-461d-daaa-506b92d6174b"
      },
      "execution_count": null,
      "outputs": [
        {
          "output_type": "display_data",
          "data": {
            "text/plain": [
              "<Figure size 1080x720 with 4 Axes>"
            ],
            "image/png": "[encoded data removed]"
          },
          "metadata": {
            "needs_background": "light"
          }
        }
      ]
    },
    {
      "cell_type": "markdown",
      "source": [
        "Esse código cria um boxplot do atributo \"Preço_por_noite\" do DataFrame \"df_clean\", após as linhas com outliers terem sido removidas. O método \"plot\" é usado para criar o gráfico, e o argumento \"kind\" é usado para especificar o tipo de gráfico (neste caso, boxplot). O argumento \"vert\" é usado para especificar se o eixo x deve ser vertical (False) ou horizontal (True). O argumento \"figsize\" é usado para especificar o tamanho do gráfico. O mesmo se repete com a coluna \"Avaliação\"."
      ],
      "metadata": {
        "id": "027xbs3zkUav"
      }
    },
    {
      "cell_type": "code",
      "source": [
        "#Boxplot Preço_por_noite após retirar outliers\n",
        "df_clean.Preço_por_noite.plot(kind='box', vert=False, figsize=(15, 3));"
      ],
      "metadata": {
        "colab": {
          "base_uri": "https://localhost:8080/",
          "height": 211
        },
        "id": "F-dmijMwq-2K",
        "outputId": "5ebef783-f765-492c-ec3e-61fc6baa056d"
      },
      "execution_count": null,
      "outputs": [
        {
          "output_type": "display_data",
          "data": {
            "text/plain": [
              "<Figure size 1080x216 with 1 Axes>"
            ],
            "image/png": "[encoded data removed]"
          },
          "metadata": {
            "needs_background": "light"
          }
        }
      ]
    },
    {
      "cell_type": "code",
      "source": [
        "#Boxplot Avaliação após retirar outliers\n",
        "df_clean.Avaliação.plot(kind='box', vert=False, figsize=(15, 3));"
      ],
      "metadata": {
        "colab": {
          "base_uri": "https://localhost:8080/",
          "height": 211
        },
        "id": "7bQ-V7Imry6L",
        "outputId": "09457cb6-4d96-44ef-93bf-821c6a884e46"
      },
      "execution_count": null,
      "outputs": [
        {
          "output_type": "display_data",
          "data": {
            "text/plain": [
              "<Figure size 1080x216 with 1 Axes>"
            ],
            "image/png": "[encoded data removed]"
          },
          "metadata": {
            "needs_background": "light"
          }
        }
      ]
    },
    {
      "cell_type": "markdown",
      "source": [
        "# **Análise dos Dados**"
      ],
      "metadata": {
        "id": "Ygel3E7NtysE"
      }
    },
    {
      "cell_type": "markdown",
      "source": [
        "# Tipos de imóveis:"
      ],
      "metadata": {
        "id": "YSwDkUSJsQiv"
      }
    },
    {
      "cell_type": "markdown",
      "source": [
        "Essa célula mostra a contagem de ocorrências de cada valor na coluna \"Tipo\" do DataFrame df_clean. É uma forma de verificar quantas vezes cada tipo de imóvel se repete no conjunto de dados limpo. Ele retorna um objeto \"Series\" com os tipos de imóveis como índices e suas respectivas contagens como valores."
      ],
      "metadata": {
        "id": "1j6NKpdxkoB9"
      }
    },
    {
      "cell_type": "code",
      "source": [
        "# mostrar quantas vezes a descrição do imóvel se repete\n",
        "df_clean.Tipo.value_counts()"
      ],
      "metadata": {
        "colab": {
          "base_uri": "https://localhost:8080/"
        },
        "id": "1iF0cq41sUEy",
        "outputId": "529f4b22-f9ff-41c6-ab5d-8597cb218f21"
      },
      "execution_count": null,
      "outputs": [
        {
          "output_type": "execute_result",
          "data": {
            "text/plain": [
              "Suíte a 1 Minuto da Praia de Manaíra                                                    2\n",
              "Apto com ótima área de lazer e localização (909)                                        2\n",
              "Novo, completo e Luxuoso! Viagem de IDA #01                                             2\n",
              "Apartamento aconchegante com 01 quarto, próximo a Orla de Manaira - João Pessoa - PB    2\n",
              "Flat a beira mar                                                                        2\n",
              "                                                                                       ..\n",
              "Duas suítes em prédio frente mar! Bem decorado!                                         1\n",
              "Flat à 200 mts da Praia do Bessa com Área Completa                                      1\n",
              "Espetacular flat de frente para o mar com Piscina!                                      1\n",
              "Confortável e econômico! (com ar condicionado)                                          1\n",
              "Israel Flat Tambaú                                                                      1\n",
              "Name: Tipo, Length: 160, dtype: int64"
            ]
          },
          "metadata": {},
          "execution_count": 29
        }
      ]
    },
    {
      "cell_type": "markdown",
      "source": [
        "Esse código mostra quantos imóveis há em cada localização de João Pessoa no DataFrame \"df_clean\". Ele usa o método \"value_counts()\" para contar quantas vezes cada valor aparece na coluna \"Local\" do DataFrame e mostra os resultados."
      ],
      "metadata": {
        "id": "9yiEKVXBk9ek"
      }
    },
    {
      "cell_type": "code",
      "source": [
        "# mostrar quantos imóveis há em cada localização\n",
        "df_clean.Local.value_counts()"
      ],
      "metadata": {
        "colab": {
          "base_uri": "https://localhost:8080/"
        },
        "id": "TnbwoIwftgxA",
        "outputId": "8fe08e87-4045-417b-dca6-b43cf9ae7cd4"
      },
      "execution_count": null,
      "outputs": [
        {
          "output_type": "execute_result",
          "data": {
            "text/plain": [
              "Apartamento em João Pessoa                 37\n",
              "Apartamento em Cabo Branco                 36\n",
              "Apartamento em Manaíra                     21\n",
              "Apartamento em Tambaú                      19\n",
              "Apartamento em Jardim Oceania              10\n",
              "Quarto inteiro em João Pessoa               7\n",
              "Quarto inteiro em Jardim Oceania            4\n",
              "Condomínio em João Pessoa                   4\n",
              "Apartamento em Bessa                        3\n",
              "Quarto inteiro em Manaíra                   3\n",
              "Apartamento em Loteamento Bela Vista        2\n",
              "Apartamento em Intermares                   2\n",
              "Suíte de hóspedes em João Pessoa            1\n",
              "Apartamento em Cabedelo                     1\n",
              "Loft em João Pessoa                         1\n",
              "Quarto inteiro em Cabedelo                  1\n",
              "Apartamento em Gramame                      1\n",
              "Condomínio em Intermares                    1\n",
              "Condomínio em Tambaú                        1\n",
              "Condomínio em Cabo Branco                   1\n",
              "Loft em Jardim Oceania                      1\n",
              "Lugar para ficar em Cabo Branco             1\n",
              "Microcasa em João Pessoa                    1\n",
              "Condomínio em Jardim Oceania                1\n",
              "Apartamento em Jardim Rosas                 1\n",
              "Quarto inteiro em Cabo Branco               1\n",
              "Condomínio em Portal do Sol                 1\n",
              "Apartamento em Bancários                    1\n",
              "Condomínio em Manaíra                       1\n",
              "Loft em Cabo Branco                         1\n",
              "Quarto inteiro em Loteamento Bela Vista     1\n",
              "Casa em João Pessoa                         1\n",
              "Name: Local, dtype: int64"
            ]
          },
          "metadata": {},
          "execution_count": 30
        }
      ]
    },
    {
      "cell_type": "code",
      "source": [
        "# df_Local = Local_acomodacao = (df_clean.Local.value_counts()/df_clean.shape[0]*100).sort_values(ascending=False)\n",
        "\n",
        "# df_primeiros_13 = df_Local.head(13)\n",
        "\n",
        "# fig, ax = plt.subplots(figsize=(10,6))\n",
        "# Local_acomodacao = ax.pie(df_primeiros_13['Porcentagem'],\n",
        "#                          labels = df_primeiros_13['Local_Acomodacao'])\n",
        "\n",
        "# ax.set_title(\"Preço por tipo de localização (%)\")\n",
        "# plt.tight_layout()"
      ],
      "metadata": {
        "id": "59VyabifxST-"
      },
      "execution_count": null,
      "outputs": []
    },
    {
      "cell_type": "markdown",
      "source": [
        "Essa célula faz uma análise estatística da coluna \"Avaliação\" do DataFrame df_clean. Ele primeiramente conta quantas vezes cada valor de avaliação aparece no conjunto de dados e divide esses valores pelo número total de linhas no DataFrame (df_clean.shape[0]) para obter a porcentagem de ocorrência de cada valor de avaliação. Em seguida, esses valores são ordenados em ordem decrescente (ascending=False).\n",
        "Depois, é criado um novo DataFrame com as colunas 'Avaliação' e 'Local' e adicionando as chaves e valores das avaliações e suas porcentagens calculadas anteriormente.\n",
        "Em seguida, é selecionado os 100 primeiros valores do DataFrame e é criado um gráfico de barra para visualizar a quantidade de avaliações por valor da noite em porcentagem."
      ],
      "metadata": {
        "id": "6WCJ9W5rlwa3"
      }
    },
    {
      "cell_type": "code",
      "source": [
        "Avaliação = (df_clean.Avaliação.value_counts()/df_clean.shape[0]*100).sort_values(ascending=False)\n",
        "\n",
        "df_Avaliação = pd.DataFrame([Avaliação.keys(),Avaliação.values]).transpose()\n",
        "df_Avaliação.columns=['Avaliação','Local']\n",
        "\n",
        "# Pegando as 100 maiores avaliações\n",
        "df_Avaliação = df_Avaliação.head(100)\n",
        "\n",
        "fig, ax = plt.subplots(figsize=(10,6))\n",
        "Avaliação = ax.bar(df_Avaliação['Avaliação'],\n",
        "                         df_Avaliação['Local'],0.5, label = 'Local')\n",
        "\n",
        "ax.set_title(\"Quantidade de Avaliações por valor da noite (%)\")\n",
        "ax.set_xlabel(\"Quantidade de Avaliação\")\n",
        "ax.set_ylabel(\"%\")\n",
        "\n",
        "plt.tight_layout() \n"
      ],
      "metadata": {
        "colab": {
          "base_uri": "https://localhost:8080/",
          "height": 441
        },
        "id": "jmmpRfxQ2Cen",
        "outputId": "caebbfcc-30dc-4747-a8c7-586bb9a22ed4"
      },
      "execution_count": null,
      "outputs": [
        {
          "output_type": "display_data",
          "data": {
            "text/plain": [
              "<Figure size 720x432 with 1 Axes>"
            ],
            "image/png": "[encoded data removed]"
          },
          "metadata": {
            "needs_background": "light"
          }
        }
      ]
    },
    {
      "cell_type": "markdown",
      "source": [
        "Esta célula cria um scatter plot (gráfico de dispersão) mostrando a relação entre Preço_por_noite e Local para as 100 linhas com os maiores valores de Preço_por_noite no dataframe df_clean. Ele cria uma nova variável, df_top_100, que é uma cópia dos primeiros 100 valores classificados do dataframe df_clean pelo Preço_por_noite. Ele cria então um gráfico de dispersão, onde o eixo x é o valor do Local, o eixo y é o valor do Preço_por_noite, e a cor dos pontos representa o valor do Preço_por_noite. Ele também adiciona título, rótulos para os eixos x e y e ajusta o layout do gráfico."
      ],
      "metadata": {
        "id": "QFCLq3MumUGl"
      }
    },
    {
      "cell_type": "code",
      "source": [
        "df_top_100 = df_clean.sort_values(by='Preço_por_noite', ascending=False).head(100)\n",
        "\n",
        "fig, ax = plt.subplots(figsize=(10,6))\n",
        "scatter = ax.scatter(df_top_100['Preço_por_noite'], df_top_100['Local'], c=df_top_100['Preço_por_noite'], cmap='rainbow')\n",
        "ax.set_title('Preço por noite por local (top 100)')\n",
        "ax.set_xlabel('Local')\n",
        "ax.set_ylabel('Preço por noite')\n",
        "plt.tight_layout() \n"
      ],
      "metadata": {
        "colab": {
          "base_uri": "https://localhost:8080/",
          "height": 441
        },
        "id": "6CQUCYx0KHY5",
        "outputId": "eb07d598-4d52-42ce-c8cb-4d6afde1d1cf"
      },
      "execution_count": null,
      "outputs": [
        {
          "output_type": "display_data",
          "data": {
            "text/plain": [
              "<Figure size 720x432 with 1 Axes>"
            ],
            "image/png": "[encoded data removed]"
          },
          "metadata": {
            "needs_background": "light"
          }
        }
      ]
    },
    {
      "cell_type": "code",
      "source": [
        "# Este código agrupa os dados por 'Local' e calcula a média do preço por noite. \n",
        "# Então, esses valores de média são classificados em ordem. \n",
        "# Isso mostra qual é a média do preço por noite em cada local do conjunto de dados.\n",
        "\n",
        "df_clean.groupby('Local').Preço_por_noite.mean().sort_values(ascending=False)"
      ],
      "metadata": {
        "colab": {
          "base_uri": "https://localhost:8080/"
        },
        "id": "LYAtglRoCv6i",
        "outputId": "4e1c1152-2c6c-433d-89fd-1780afd78d7a"
      },
      "execution_count": null,
      "outputs": [
        {
          "output_type": "execute_result",
          "data": {
            "text/plain": [
              "Local\n",
              "Loft em João Pessoa                        414.000000\n",
              "Lugar para ficar em Cabo Branco            300.000000\n",
              "Condomínio em Jardim Oceania               295.000000\n",
              "Condomínio em Tambaú                       283.000000\n",
              "Apartamento em Tambaú                      246.473684\n",
              "Apartamento em Cabo Branco                 243.194444\n",
              "Condomínio em Cabo Branco                  237.000000\n",
              "Apartamento em João Pessoa                 212.567568\n",
              "Condomínio em João Pessoa                  211.500000\n",
              "Apartamento em Jardim Oceania              208.200000\n",
              "Condomínio em Portal do Sol                202.000000\n",
              "Condomínio em Manaíra                      194.000000\n",
              "Quarto inteiro em Cabo Branco              193.000000\n",
              "Suíte de hóspedes em João Pessoa           192.000000\n",
              "Loft em Jardim Oceania                     186.000000\n",
              "Condomínio em Intermares                   183.000000\n",
              "Apartamento em Manaíra                     178.000000\n",
              "Apartamento em Jardim Rosas                177.000000\n",
              "Quarto inteiro em Loteamento Bela Vista    154.000000\n",
              "Loft em Cabo Branco                        143.000000\n",
              "Apartamento em Bessa                       142.000000\n",
              "Apartamento em Cabedelo                    140.000000\n",
              "Apartamento em Loteamento Bela Vista       138.000000\n",
              "Casa em João Pessoa                        128.000000\n",
              "Apartamento em Intermares                  113.000000\n",
              "Quarto inteiro em João Pessoa              101.285714\n",
              "Quarto inteiro em Cabedelo                  98.000000\n",
              "Apartamento em Bancários                    97.000000\n",
              "Microcasa em João Pessoa                    84.000000\n",
              "Quarto inteiro em Manaíra                   71.333333\n",
              "Apartamento em Gramame                      64.000000\n",
              "Quarto inteiro em Jardim Oceania            55.250000\n",
              "Name: Preço_por_noite, dtype: float64"
            ]
          },
          "metadata": {},
          "execution_count": 33
        }
      ]
    },
    {
      "cell_type": "markdown",
      "source": [
        "Essa célula é a visualização em gráfico da célula acima, fazendo três coisas:\n",
        "\n",
        "1. Ele está agrupando os dados do DataFrame \"df_clean\" por \"Local\" e calculando a média do preço por noite para cada grupo. O resultado é armazenado em uma nova variável chamada \"df_grouped\".\n",
        "2. Ele está criando um gráfico de barras com base no DataFrame \"df_grouped\" utilizando a função \"plot()\" e especificando o tipo de gráfico como \"bar\". Ele está também adicionando rótulos para o eixo x e y.\n",
        "3. Ele está adicionando um título para o gráfico e exibindo-o na tela utilizando a função \"title()\" e \"show()\" respectivamente."
      ],
      "metadata": {
        "id": "W_EUnqemxRry"
      }
    },
    {
      "cell_type": "code",
      "source": [
        "# Agrupar os dados por Local e calcular a média de Preço_por_noite\n",
        "df_grouped = df_clean.groupby('Local').Preço_por_noite.mean().sort_values(ascending=False)\n",
        "\n",
        "# Criar o gráfico de barras\n",
        "df_grouped.plot(kind='bar', xlabel='Local', ylabel='Preço Médio por Noite')\n",
        "\n",
        "# Adicionar título ao gráfico\n",
        "plt.title('Preço Médio por Noite por Local')\n",
        "\n",
        "# Exibir o gráfico\n",
        "plt.show()"
      ],
      "metadata": {
        "colab": {
          "base_uri": "https://localhost:8080/",
          "height": 489
        },
        "id": "ubVx-QJm-3bL",
        "outputId": "fb704f51-e91e-409b-86b0-d5d57c9c30dd"
      },
      "execution_count": null,
      "outputs": [
        {
          "output_type": "display_data",
          "data": {
            "text/plain": [
              "<Figure size 432x288 with 1 Axes>"
            ],
            "image/png": "[encoded data removed]"
          },
          "metadata": {
            "needs_background": "light"
          }
        }
      ]
    },
    {
      "cell_type": "code",
      "source": [
        "# Ver a média da coluna `Cama`.\n",
        "# Esse código calcula a média dos valores da coluna \"Cama\" do DataFrame \"df_clean\".\n",
        "\n",
        "df_clean.Cama.mean()"
      ],
      "metadata": {
        "colab": {
          "base_uri": "https://localhost:8080/"
        },
        "id": "vFC3zVJwCqlZ",
        "outputId": "3b70cd05-def4-416b-8838-3117b79a3d44"
      },
      "execution_count": null,
      "outputs": [
        {
          "output_type": "execute_result",
          "data": {
            "text/plain": [
              "2.0714285714285716"
            ]
          },
          "metadata": {},
          "execution_count": 36
        }
      ]
    },
    {
      "cell_type": "markdown",
      "source": [
        "Esse código cria um gráfico 3D com base em três colunas do dataframe \"df\": Preço_por_noite, Cama, e Avaliação. Ele seleciona as 90 linhas com os maiores valores dessas colunas, converte a coluna Preço_por_noite para um tipo numérico, define as cores dos pontos no gráfico com base na coluna Avaliação, e adiciona rótulos para as três dimensões. Ele utiliza a biblioteca matplotlib para plotar o gráfico e plt.show() para exibir o gráfico."
      ],
      "metadata": {
        "id": "BYEc5rt7oEIc"
      }
    },
    {
      "cell_type": "code",
      "source": [
        "from mpl_toolkits.mplot3d import Axes3D\n",
        "import matplotlib.cm as cm\n",
        "from IPython.display import set_matplotlib_formats\n",
        "\n",
        "df = df.nlargest(90, ['Preço_por_noite', 'Cama', 'Avaliação'])\n",
        "fig = plt.figure()\n",
        "ax.grid(True)\n",
        "\n",
        "ax.set_xscale('log')\n",
        "ax = fig.add_subplot(111, projection='3d')\n",
        "df.Preço_por_noite = pd.to_numeric(df.Preço_por_noite, errors='coerce')\n",
        "highest_price = df.nlargest(1, 'Preço_por_noite')\n",
        "# ax.annotate(\"ponto especifico\", xy=(highest_price['Preço_por_noite'], highest_price['Cama']), xytext=(0.8, 0.95), textcoords='axes fraction', arrowprops=dict(facecolor='black', shrink=0.05))\n",
        "colors = cm.rainbow(df['Avaliação'])\n",
        "ax.scatter(df['Preço_por_noite'], df['Cama'], df['Avaliação'], c=colors)\n",
        "\n",
        "ax.set_xlabel('Preço por noite')\n",
        "ax.set_ylabel('Cama')\n",
        "ax.set_zlabel('Avaliação')\n",
        "plt.show()\n"
      ],
      "metadata": {
        "colab": {
          "base_uri": "https://localhost:8080/",
          "height": 248
        },
        "id": "fhrop_5jY1Q4",
        "outputId": "f4791139-e851-43de-ecc4-d49203ce2e38"
      },
      "execution_count": null,
      "outputs": [
        {
          "output_type": "display_data",
          "data": {
            "text/plain": [
              "<Figure size 432x288 with 1 Axes>"
            ],
            "image/png": "[encoded data removed]"
          },
          "metadata": {
            "needs_background": "light"
          }
        }
      ]
    },
    {
      "cell_type": "markdown",
      "source": [
        "Essa célula ordena o dataframe \"df\" pela coluna \"Avaliação\" em ordem crescente, e então usa a biblioteca plotly express (px) para criar um gráfico de dispersão (scatter plot) que mostra a relação entre o preço por noite e a quantidade de avaliações. O tamanho dos pontos no gráfico é determinado pela coluna \"Quantidade de avaliações\", e a cor dos pontos é determinada pela mesma coluna. O eixo x está em escala logarítmica, e o gráfico tem limites definidos para o eixo x e y. O título do gráfico é \"Relação entre preço por noite e quantidade de avaliações\" e os rótulos dos eixos são \"Preço por noite\" e \"Quantidade de avaliações\". Por fim, o comando \"fig.show()\" exibe o gráfico."
      ],
      "metadata": {
        "id": "wZumOOVHohXH"
      }
    },
    {
      "cell_type": "code",
      "source": [
        "df = df.sort_values(by='Avaliação', ascending=False) # ordena o dataframe pela coluna Avaliação\n",
        "\n",
        "fig = px.scatter(df, x='Preço_por_noite', y='Quantidade_de_avaliações',\n",
        "                 size='Quantidade_de_avaliações', color='Quantidade_de_avaliações',\n",
        "                 labels={'Preço_por_noite':'Preço por noite', 'Quantidade_de_avaliações':'Quantidade de avaliações'},\n",
        "                 title='Relação entre preço por noite e quantidade de avaliações',\n",
        "                 log_x=True,\n",
        "                 range_x=[50,1000],\n",
        "                 range_y=[50,100])\n",
        "fig.show()"
      ],
      "metadata": {
        "colab": {
          "base_uri": "https://localhost:8080/",
          "height": 542
        },
        "id": "1PPdpojDhr4J",
        "outputId": "ecc2deea-41ff-4629-d82d-c2e6b7aeca4f"
      },
      "execution_count": null,
      "outputs": [
        {
          "output_type": "display_data",
          "data": {
            "text/html": [
              "<html>\n",
              "<head><meta charset=\"utf-8\" /></head>\n",
              "<body>\n",
              "    <div>            <script src=\"https://cdnjs.cloudflare.com/ajax/libs/mathjax/2.7.5/MathJax.js?config=TeX-AMS-MML_SVG\"></script><script type=\"text/javascript\">if (window.MathJax) {MathJax.Hub.Config({SVG: {font: \"STIX-Web\"}});}</script>                <script type=\"text/javascript\">window.PlotlyConfig = {MathJaxConfig: 'local'};</script>\n",
              "        <script src=\"https://cdn.plot.ly/plotly-2.8.3.min.js\"></script>                <div id=\"08c83c8a-794c-4599-b067-ade23c9160eb\" class=\"plotly-graph-div\" style=\"height:525px; width:100%;\"></div>            <script type=\"text/javascript\">                                    window.PLOTLYENV=window.PLOTLYENV || {};                                    if (document.getElementById(\"08c83c8a-794c-4599-b067-ade23c9160eb\")) {                    Plotly.newPlot(                        \"08c83c8a-794c-4599-b067-ade23c9160eb\",                        [{\"hovertemplate\":\"Pre\\u00e7o por noite=%{x}<br>Quantidade de avalia\\u00e7\\u00f5es=%{marker.color}<extra></extra>\",\"legendgroup\":\"\",\"marker\":{\"color\":[9.0,36.0,5.0,29.0,5.0,24.0,6.0,5.0,5.0,21.0,7.0,51.0,4.0,7.0,4.0,20.0,5.0,32.0,5.0,18.0,7.0,71.0,74.0,78.0,58.0,112.0,59.0,122.0,60.0,36.0,61.0,36.0,50.0,53.0,25.0,52.0,22.0,21.0,21.0,42.0,49.0,33.0,16.0,64.0,46.0,45.0,70.0,12.0,53.0,13.0,33.0,82.0,106.0,11.0,331.0,29.0,58.0,20.0,244.0,91.0,36.0,51.0,43.0,49.0,67.0,95.0,22.0,22.0,20.0,62.0,118.0,69.0,16.0,9.0,28.0,18.0,44.0,76.0,3.0,3.0,62.0,26.0,17.0,74.0,75.0,61.0,40.0,15.0,0.0,0.0],\"coloraxis\":\"coloraxis\",\"size\":[9.0,36.0,5.0,29.0,5.0,24.0,6.0,5.0,5.0,21.0,7.0,51.0,4.0,7.0,4.0,20.0,5.0,32.0,5.0,18.0,7.0,71.0,74.0,78.0,58.0,112.0,59.0,122.0,60.0,36.0,61.0,36.0,50.0,53.0,25.0,52.0,22.0,21.0,21.0,42.0,49.0,33.0,16.0,64.0,46.0,45.0,70.0,12.0,53.0,13.0,33.0,82.0,106.0,11.0,331.0,29.0,58.0,20.0,244.0,91.0,36.0,51.0,43.0,49.0,67.0,95.0,22.0,22.0,20.0,62.0,118.0,69.0,16.0,9.0,28.0,18.0,44.0,76.0,3.0,3.0,62.0,26.0,17.0,74.0,75.0,61.0,40.0,15.0,0.0,0.0],\"sizemode\":\"area\",\"sizeref\":0.8275,\"symbol\":\"circle\"},\"mode\":\"markers\",\"name\":\"\",\"orientation\":\"v\",\"showlegend\":false,\"x\":[414.0,231.0,204.0,404.0,256.0,237.0,264.0,195.0,276.0,283.0,283.0,290.0,298.0,189.0,208.0,208.0,318.0,318.0,318.0,228.0,370.0,262.0,369.0,231.0,230.0,244.0,319.0,195.0,277.0,213.0,208.0,185.0,287.0,300.0,186.0,202.0,204.0,384.0,240.0,323.0,230.0,205.0,216.0,194.0,320.0,295.0,231.0,233.0,210.0,254.0,318.0,318.0,330.0,279.0,204.0,192.0,190.0,221.0,188.0,318.0,346.0,193.0,209.0,185.0,215.0,184.0,385.0,296.0,282.0,228.0,314.0,185.0,274.0,296.0,262.0,321.0,318.0,188.0,214.0,240.0,254.0,240.0,244.0,239.0,300.0,232.0,296.0,267.0,267.0,229.0],\"xaxis\":\"x\",\"y\":[9.0,36.0,5.0,29.0,5.0,24.0,6.0,5.0,5.0,21.0,7.0,51.0,4.0,7.0,4.0,20.0,5.0,32.0,5.0,18.0,7.0,71.0,74.0,78.0,58.0,112.0,59.0,122.0,60.0,36.0,61.0,36.0,50.0,53.0,25.0,52.0,22.0,21.0,21.0,42.0,49.0,33.0,16.0,64.0,46.0,45.0,70.0,12.0,53.0,13.0,33.0,82.0,106.0,11.0,331.0,29.0,58.0,20.0,244.0,91.0,36.0,51.0,43.0,49.0,67.0,95.0,22.0,22.0,20.0,62.0,118.0,69.0,16.0,9.0,28.0,18.0,44.0,76.0,3.0,3.0,62.0,26.0,17.0,74.0,75.0,61.0,40.0,15.0,0.0,0.0],\"yaxis\":\"y\",\"type\":\"scatter\"}],                        {\"template\":{\"data\":{\"bar\":[{\"error_x\":{\"color\":\"#2a3f5f\"},\"error_y\":{\"color\":\"#2a3f5f\"},\"marker\":{\"line\":{\"color\":\"#E5ECF6\",\"width\":0.5},\"pattern\":{\"fillmode\":\"overlay\",\"size\":10,\"solidity\":0.2}},\"type\":\"bar\"}],\"barpolar\":[{\"marker\":{\"line\":{\"color\":\"#E5ECF6\",\"width\":0.5},\"pattern\":{\"fillmode\":\"overlay\",\"size\":10,\"solidity\":0.2}},\"type\":\"barpolar\"}],\"carpet\":[{\"aaxis\":{\"endlinecolor\":\"#2a3f5f\",\"gridcolor\":\"white\",\"linecolor\":\"white\",\"minorgridcolor\":\"white\",\"startlinecolor\":\"#2a3f5f\"},\"baxis\":{\"endlinecolor\":\"#2a3f5f\",\"gridcolor\":\"white\",\"linecolor\":\"white\",\"minorgridcolor\":\"white\",\"startlinecolor\":\"#2a3f5f\"},\"type\":\"carpet\"}],\"choropleth\":[{\"colorbar\":{\"outlinewidth\":0,\"ticks\":\"\"},\"type\":\"choropleth\"}],\"contour\":[{\"colorbar\":{\"outlinewidth\":0,\"ticks\":\"\"},\"colorscale\":[[0.0,\"#0d0887\"],[0.1111111111111111,\"#46039f\"],[0.2222222222222222,\"#7201a8\"],[0.3333333333333333,\"#9c179e\"],[0.4444444444444444,\"#bd3786\"],[0.5555555555555556,\"#d8576b\"],[0.6666666666666666,\"#ed7953\"],[0.7777777777777778,\"#fb9f3a\"],[0.8888888888888888,\"#fdca26\"],[1.0,\"#f0f921\"]],\"type\":\"contour\"}],\"contourcarpet\":[{\"colorbar\":{\"outlinewidth\":0,\"ticks\":\"\"},\"type\":\"contourcarpet\"}],\"heatmap\":[{\"colorbar\":{\"outlinewidth\":0,\"ticks\":\"\"},\"colorscale\":[[0.0,\"#0d0887\"],[0.1111111111111111,\"#46039f\"],[0.2222222222222222,\"#7201a8\"],[0.3333333333333333,\"#9c179e\"],[0.4444444444444444,\"#bd3786\"],[0.5555555555555556,\"#d8576b\"],[0.6666666666666666,\"#ed7953\"],[0.7777777777777778,\"#fb9f3a\"],[0.8888888888888888,\"#fdca26\"],[1.0,\"#f0f921\"]],\"type\":\"heatmap\"}],\"heatmapgl\":[{\"colorbar\":{\"outlinewidth\":0,\"ticks\":\"\"},\"colorscale\":[[0.0,\"#0d0887\"],[0.1111111111111111,\"#46039f\"],[0.2222222222222222,\"#7201a8\"],[0.3333333333333333,\"#9c179e\"],[0.4444444444444444,\"#bd3786\"],[0.5555555555555556,\"#d8576b\"],[0.6666666666666666,\"#ed7953\"],[0.7777777777777778,\"#fb9f3a\"],[0.8888888888888888,\"#fdca26\"],[1.0,\"#f0f921\"]],\"type\":\"heatmapgl\"}],\"histogram\":[{\"marker\":{\"pattern\":{\"fillmode\":\"overlay\",\"size\":10,\"solidity\":0.2}},\"type\":\"histogram\"}],\"histogram2d\":[{\"colorbar\":{\"outlinewidth\":0,\"ticks\":\"\"},\"colorscale\":[[0.0,\"#0d0887\"],[0.1111111111111111,\"#46039f\"],[0.2222222222222222,\"#7201a8\"],[0.3333333333333333,\"#9c179e\"],[0.4444444444444444,\"#bd3786\"],[0.5555555555555556,\"#d8576b\"],[0.6666666666666666,\"#ed7953\"],[0.7777777777777778,\"#fb9f3a\"],[0.8888888888888888,\"#fdca26\"],[1.0,\"#f0f921\"]],\"type\":\"histogram2d\"}],\"histogram2dcontour\":[{\"colorbar\":{\"outlinewidth\":0,\"ticks\":\"\"},\"colorscale\":[[0.0,\"#0d0887\"],[0.1111111111111111,\"#46039f\"],[0.2222222222222222,\"#7201a8\"],[0.3333333333333333,\"#9c179e\"],[0.4444444444444444,\"#bd3786\"],[0.5555555555555556,\"#d8576b\"],[0.6666666666666666,\"#ed7953\"],[0.7777777777777778,\"#fb9f3a\"],[0.8888888888888888,\"#fdca26\"],[1.0,\"#f0f921\"]],\"type\":\"histogram2dcontour\"}],\"mesh3d\":[{\"colorbar\":{\"outlinewidth\":0,\"ticks\":\"\"},\"type\":\"mesh3d\"}],\"parcoords\":[{\"line\":{\"colorbar\":{\"outlinewidth\":0,\"ticks\":\"\"}},\"type\":\"parcoords\"}],\"pie\":[{\"automargin\":true,\"type\":\"pie\"}],\"scatter\":[{\"marker\":{\"colorbar\":{\"outlinewidth\":0,\"ticks\":\"\"}},\"type\":\"scatter\"}],\"scatter3d\":[{\"line\":{\"colorbar\":{\"outlinewidth\":0,\"ticks\":\"\"}},\"marker\":{\"colorbar\":{\"outlinewidth\":0,\"ticks\":\"\"}},\"type\":\"scatter3d\"}],\"scattercarpet\":[{\"marker\":{\"colorbar\":{\"outlinewidth\":0,\"ticks\":\"\"}},\"type\":\"scattercarpet\"}],\"scattergeo\":[{\"marker\":{\"colorbar\":{\"outlinewidth\":0,\"ticks\":\"\"}},\"type\":\"scattergeo\"}],\"scattergl\":[{\"marker\":{\"colorbar\":{\"outlinewidth\":0,\"ticks\":\"\"}},\"type\":\"scattergl\"}],\"scattermapbox\":[{\"marker\":{\"colorbar\":{\"outlinewidth\":0,\"ticks\":\"\"}},\"type\":\"scattermapbox\"}],\"scatterpolar\":[{\"marker\":{\"colorbar\":{\"outlinewidth\":0,\"ticks\":\"\"}},\"type\":\"scatterpolar\"}],\"scatterpolargl\":[{\"marker\":{\"colorbar\":{\"outlinewidth\":0,\"ticks\":\"\"}},\"type\":\"scatterpolargl\"}],\"scatterternary\":[{\"marker\":{\"colorbar\":{\"outlinewidth\":0,\"ticks\":\"\"}},\"type\":\"scatterternary\"}],\"surface\":[{\"colorbar\":{\"outlinewidth\":0,\"ticks\":\"\"},\"colorscale\":[[0.0,\"#0d0887\"],[0.1111111111111111,\"#46039f\"],[0.2222222222222222,\"#7201a8\"],[0.3333333333333333,\"#9c179e\"],[0.4444444444444444,\"#bd3786\"],[0.5555555555555556,\"#d8576b\"],[0.6666666666666666,\"#ed7953\"],[0.7777777777777778,\"#fb9f3a\"],[0.8888888888888888,\"#fdca26\"],[1.0,\"#f0f921\"]],\"type\":\"surface\"}],\"table\":[{\"cells\":{\"fill\":{\"color\":\"#EBF0F8\"},\"line\":{\"color\":\"white\"}},\"header\":{\"fill\":{\"color\":\"#C8D4E3\"},\"line\":{\"color\":\"white\"}},\"type\":\"table\"}]},\"layout\":{\"annotationdefaults\":{\"arrowcolor\":\"#2a3f5f\",\"arrowhead\":0,\"arrowwidth\":1},\"autotypenumbers\":\"strict\",\"coloraxis\":{\"colorbar\":{\"outlinewidth\":0,\"ticks\":\"\"}},\"colorscale\":{\"diverging\":[[0,\"#8e0152\"],[0.1,\"#c51b7d\"],[0.2,\"#de77ae\"],[0.3,\"#f1b6da\"],[0.4,\"#fde0ef\"],[0.5,\"#f7f7f7\"],[0.6,\"#e6f5d0\"],[0.7,\"#b8e186\"],[0.8,\"#7fbc41\"],[0.9,\"#4d9221\"],[1,\"#276419\"]],\"sequential\":[[0.0,\"#0d0887\"],[0.1111111111111111,\"#46039f\"],[0.2222222222222222,\"#7201a8\"],[0.3333333333333333,\"#9c179e\"],[0.4444444444444444,\"#bd3786\"],[0.5555555555555556,\"#d8576b\"],[0.6666666666666666,\"#ed7953\"],[0.7777777777777778,\"#fb9f3a\"],[0.8888888888888888,\"#fdca26\"],[1.0,\"#f0f921\"]],\"sequentialminus\":[[0.0,\"#0d0887\"],[0.1111111111111111,\"#46039f\"],[0.2222222222222222,\"#7201a8\"],[0.3333333333333333,\"#9c179e\"],[0.4444444444444444,\"#bd3786\"],[0.5555555555555556,\"#d8576b\"],[0.6666666666666666,\"#ed7953\"],[0.7777777777777778,\"#fb9f3a\"],[0.8888888888888888,\"#fdca26\"],[1.0,\"#f0f921\"]]},\"colorway\":[\"#636efa\",\"#EF553B\",\"#00cc96\",\"#ab63fa\",\"#FFA15A\",\"#19d3f3\",\"#FF6692\",\"#B6E880\",\"#FF97FF\",\"#FECB52\"],\"font\":{\"color\":\"#2a3f5f\"},\"geo\":{\"bgcolor\":\"white\",\"lakecolor\":\"white\",\"landcolor\":\"#E5ECF6\",\"showlakes\":true,\"showland\":true,\"subunitcolor\":\"white\"},\"hoverlabel\":{\"align\":\"left\"},\"hovermode\":\"closest\",\"mapbox\":{\"style\":\"light\"},\"paper_bgcolor\":\"white\",\"plot_bgcolor\":\"#E5ECF6\",\"polar\":{\"angularaxis\":{\"gridcolor\":\"white\",\"linecolor\":\"white\",\"ticks\":\"\"},\"bgcolor\":\"#E5ECF6\",\"radialaxis\":{\"gridcolor\":\"white\",\"linecolor\":\"white\",\"ticks\":\"\"}},\"scene\":{\"xaxis\":{\"backgroundcolor\":\"#E5ECF6\",\"gridcolor\":\"white\",\"gridwidth\":2,\"linecolor\":\"white\",\"showbackground\":true,\"ticks\":\"\",\"zerolinecolor\":\"white\"},\"yaxis\":{\"backgroundcolor\":\"#E5ECF6\",\"gridcolor\":\"white\",\"gridwidth\":2,\"linecolor\":\"white\",\"showbackground\":true,\"ticks\":\"\",\"zerolinecolor\":\"white\"},\"zaxis\":{\"backgroundcolor\":\"#E5ECF6\",\"gridcolor\":\"white\",\"gridwidth\":2,\"linecolor\":\"white\",\"showbackground\":true,\"ticks\":\"\",\"zerolinecolor\":\"white\"}},\"shapedefaults\":{\"line\":{\"color\":\"#2a3f5f\"}},\"ternary\":{\"aaxis\":{\"gridcolor\":\"white\",\"linecolor\":\"white\",\"ticks\":\"\"},\"baxis\":{\"gridcolor\":\"white\",\"linecolor\":\"white\",\"ticks\":\"\"},\"bgcolor\":\"#E5ECF6\",\"caxis\":{\"gridcolor\":\"white\",\"linecolor\":\"white\",\"ticks\":\"\"}},\"title\":{\"x\":0.05},\"xaxis\":{\"automargin\":true,\"gridcolor\":\"white\",\"linecolor\":\"white\",\"ticks\":\"\",\"title\":{\"standoff\":15},\"zerolinecolor\":\"white\",\"zerolinewidth\":2},\"yaxis\":{\"automargin\":true,\"gridcolor\":\"white\",\"linecolor\":\"white\",\"ticks\":\"\",\"title\":{\"standoff\":15},\"zerolinecolor\":\"white\",\"zerolinewidth\":2}}},\"xaxis\":{\"anchor\":\"y\",\"domain\":[0.0,1.0],\"title\":{\"text\":\"Pre\\u00e7o por noite\"},\"type\":\"log\",\"range\":[1.6989700043360185,2.9999999999999996]},\"yaxis\":{\"anchor\":\"x\",\"domain\":[0.0,1.0],\"title\":{\"text\":\"Quantidade de avalia\\u00e7\\u00f5es\"},\"range\":[50,100]},\"coloraxis\":{\"colorbar\":{\"title\":{\"text\":\"Quantidade de avalia\\u00e7\\u00f5es\"}},\"colorscale\":[[0.0,\"#0d0887\"],[0.1111111111111111,\"#46039f\"],[0.2222222222222222,\"#7201a8\"],[0.3333333333333333,\"#9c179e\"],[0.4444444444444444,\"#bd3786\"],[0.5555555555555556,\"#d8576b\"],[0.6666666666666666,\"#ed7953\"],[0.7777777777777778,\"#fb9f3a\"],[0.8888888888888888,\"#fdca26\"],[1.0,\"#f0f921\"]]},\"legend\":{\"tracegroupgap\":0,\"itemsizing\":\"constant\"},\"title\":{\"text\":\"Rela\\u00e7\\u00e3o entre pre\\u00e7o por noite e quantidade de avalia\\u00e7\\u00f5es\"}},                        {\"responsive\": true}                    ).then(function(){\n",
              "                            \n",
              "var gd = document.getElementById('08c83c8a-794c-4599-b067-ade23c9160eb');\n",
              "var x = new MutationObserver(function (mutations, observer) {{\n",
              "        var display = window.getComputedStyle(gd).display;\n",
              "        if (!display || display === 'none') {{\n",
              "            console.log([gd, 'removed!']);\n",
              "            Plotly.purge(gd);\n",
              "            observer.disconnect();\n",
              "        }}\n",
              "}});\n",
              "\n",
              "// Listen for the removal of the full notebook cells\n",
              "var notebookContainer = gd.closest('#notebook-container');\n",
              "if (notebookContainer) {{\n",
              "    x.observe(notebookContainer, {childList: true});\n",
              "}}\n",
              "\n",
              "// Listen for the clearing of the current output cell\n",
              "var outputEl = gd.closest('.output');\n",
              "if (outputEl) {{\n",
              "    x.observe(outputEl, {childList: true});\n",
              "}}\n",
              "\n",
              "                        })                };                            </script>        </div>\n",
              "</body>\n",
              "</html>"
            ]
          },
          "metadata": {}
        }
      ]
    },
    {
      "cell_type": "markdown",
      "source": [
        "Essa célula cria um gráfico de barras horizontais (barh) que mostra a quantidade de avaliações para cada local específico. Ele começa importando a biblioteca matplotlib.pyplot como plt, depois cria uma cópia do dataframe \"df\" ordenado pelo número de avaliações. Ele então obtém os valores das colunas \"Local\" e \"Quantidade_de_avaliações\" e armazena-os nas variáveis locations e review_counts respectivamente. Em seguida, plt.barh é usado para criar o gráfico de barras horizontais, onde as barras são traçadas usando os valores de locations no eixo y e review_counts no eixo x e color é especificado como green. Labels são adicionados ao eixo x e y com plt.xlabel e plt.ylabel e plt.show é usado para exibir o gráfico."
      ],
      "metadata": {
        "id": "vNUGwNhwo90n"
      }
    },
    {
      "cell_type": "code",
      "source": [
        "import matplotlib.pyplot as plt\n",
        "\n",
        "# Suponha que você tenha um dataframe chamado df com as colunas \"Local\" e \"Quantidade_de_avaliações\"\n",
        "\n",
        "df = df.sort_values(by='Quantidade_de_avaliações', ascending=False) # ordena o dataframe pelo número de avaliações\n",
        "\n",
        "locations = df['Local'].values\n",
        "review_counts = df['Quantidade_de_avaliações'].values\n",
        "\n",
        "plt.barh(locations, review_counts, color='green') # adiciona o argumento color para especificar a cor\n",
        "plt.ylabel('Local')\n",
        "plt.xlabel('Quantidade de Avaliações')\n",
        "plt.show()\n"
      ],
      "metadata": {
        "colab": {
          "base_uri": "https://localhost:8080/",
          "height": 279
        },
        "id": "uvDlndAXwImF",
        "outputId": "485be13f-ac60-49fb-e4a4-31644a22f5f0"
      },
      "execution_count": null,
      "outputs": [
        {
          "output_type": "display_data",
          "data": {
            "text/plain": [
              "<Figure size 432x288 with 1 Axes>"
            ],
            "image/png": "[encoded data removed]"
          },
          "metadata": {
            "needs_background": "light"
          }
        }
      ]
    },
    {
      "cell_type": "markdown",
      "source": [
        "Este código cria um gráfico de distribuição usando a biblioteca plotly express (px) e dataframe (df) passado como argumento. O gráfico mostra a relação entre o preço por noite e a quantidade de avaliações de cada tipo de acomodação. O eixo x é representado pelo preço por noite, o eixo y é representado pela quantidade de avaliações e o gráfico é colorido de acordo com o tipo de acomodação. O título do gráfico é \"Preço x quantidade de estimativas por tipo de acomodação\". O código específico que somente os 30 maiores valores para \"Preço_por_noite\" deve ser exibido no gráfico. Quando o comando \"fig.show()\" é executado, o gráfico é exibido."
      ],
      "metadata": {
        "id": "W0fSlJtyJaGO"
      }
    },
    {
      "cell_type": "code",
      "source": [
        "import plotly.express as px\n",
        "\n",
        "df = df.sort_values('Preço_por_noite',ascending=False)\n",
        "df_top30 = df.head(30)\n",
        "fig = px.scatter(df_top30, x='Preço_por_noite', y='Quantidade_de_avaliações', color='Tipo', labels={'Preço_por_noite':'Preço por noite', 'Quantidade_de_avaliações':'Quantidade de estimativas'}, title='Preço x quantidade de avaliações por tipo de acomodação')\n",
        "fig.show()"
      ],
      "metadata": {
        "colab": {
          "base_uri": "https://localhost:8080/",
          "height": 542
        },
        "id": "TYITYsDT687Q",
        "outputId": "5e45aa21-ba19-49fe-d8ac-b638b28a4f93"
      },
      "execution_count": null,
      "outputs": [
        {
          "output_type": "display_data",
          "data": {
            "text/html": [
              "<html>\n",
              "<head><meta charset=\"utf-8\" /></head>\n",
              "<body>\n",
              "    <div>            <script src=\"https://cdnjs.cloudflare.com/ajax/libs/mathjax/2.7.5/MathJax.js?config=TeX-AMS-MML_SVG\"></script><script type=\"text/javascript\">if (window.MathJax) {MathJax.Hub.Config({SVG: {font: \"STIX-Web\"}});}</script>                <script type=\"text/javascript\">window.PlotlyConfig = {MathJaxConfig: 'local'};</script>\n",
              "        <script src=\"https://cdn.plot.ly/plotly-2.8.3.min.js\"></script>                <div id=\"b5c198da-c2ab-4d1b-a63c-94f168a3177a\" class=\"plotly-graph-div\" style=\"height:525px; width:100%;\"></div>            <script type=\"text/javascript\">                                    window.PLOTLYENV=window.PLOTLYENV || {};                                    if (document.getElementById(\"b5c198da-c2ab-4d1b-a63c-94f168a3177a\")) {                    Plotly.newPlot(                        \"b5c198da-c2ab-4d1b-a63c-94f168a3177a\",                        [{\"hovertemplate\":\"Tipo=Lindo apto p\\u00e9 na areia com vista de tirar o f\\u00f4lego<br>Pre\\u00e7o por noite=%{x}<br>Quantidade de estimativas=%{y}<extra></extra>\",\"legendgroup\":\"Lindo apto p\\u00e9 na areia com vista de tirar o f\\u00f4lego\",\"marker\":{\"color\":\"#636efa\",\"symbol\":\"circle\"},\"mode\":\"markers\",\"name\":\"Lindo apto p\\u00e9 na areia com vista de tirar o f\\u00f4lego\",\"orientation\":\"v\",\"showlegend\":true,\"x\":[414.0],\"xaxis\":\"x\",\"y\":[9.0],\"yaxis\":\"y\",\"type\":\"scatter\"},{\"hovertemplate\":\"Tipo=Apartamento climatizado  a 300 metros da praia.<br>Pre\\u00e7o por noite=%{x}<br>Quantidade de estimativas=%{y}<extra></extra>\",\"legendgroup\":\"Apartamento climatizado  a 300 metros da praia.\",\"marker\":{\"color\":\"#EF553B\",\"symbol\":\"circle\"},\"mode\":\"markers\",\"name\":\"Apartamento climatizado  a 300 metros da praia.\",\"orientation\":\"v\",\"showlegend\":true,\"x\":[404.0],\"xaxis\":\"x\",\"y\":[29.0],\"yaxis\":\"y\",\"type\":\"scatter\"},{\"hovertemplate\":\"Tipo=Luxor Paulo Miranda|Vista Mar e Piscina,Wi-Fi<br>Pre\\u00e7o por noite=%{x}<br>Quantidade de estimativas=%{y}<extra></extra>\",\"legendgroup\":\"Luxor Paulo Miranda|Vista Mar e Piscina,Wi-Fi\",\"marker\":{\"color\":\"#00cc96\",\"symbol\":\"circle\"},\"mode\":\"markers\",\"name\":\"Luxor Paulo Miranda|Vista Mar e Piscina,Wi-Fi\",\"orientation\":\"v\",\"showlegend\":true,\"x\":[385.0],\"xaxis\":\"x\",\"y\":[22.0],\"yaxis\":\"y\",\"type\":\"scatter\"},{\"hovertemplate\":\"Tipo=Flat a beira mar - Solar Tamba\\u00fa<br>Pre\\u00e7o por noite=%{x}<br>Quantidade de estimativas=%{y}<extra></extra>\",\"legendgroup\":\"Flat a beira mar - Solar Tamba\\u00fa\",\"marker\":{\"color\":\"#ab63fa\",\"symbol\":\"circle\"},\"mode\":\"markers\",\"name\":\"Flat a beira mar - Solar Tamba\\u00fa\",\"orientation\":\"v\",\"showlegend\":true,\"x\":[384.0],\"xaxis\":\"x\",\"y\":[21.0],\"yaxis\":\"y\",\"type\":\"scatter\"},{\"hovertemplate\":\"Tipo=Apto 3 quartos com piscina e pertinho da praia.<br>Pre\\u00e7o por noite=%{x}<br>Quantidade de estimativas=%{y}<extra></extra>\",\"legendgroup\":\"Apto 3 quartos com piscina e pertinho da praia.\",\"marker\":{\"color\":\"#FFA15A\",\"symbol\":\"circle\"},\"mode\":\"markers\",\"name\":\"Apto 3 quartos com piscina e pertinho da praia.\",\"orientation\":\"v\",\"showlegend\":true,\"x\":[370.0],\"xaxis\":\"x\",\"y\":[7.0],\"yaxis\":\"y\",\"type\":\"scatter\"},{\"hovertemplate\":\"Tipo=Solar Tamba\\u00fa, excelente apartamento em beira mar<br>Pre\\u00e7o por noite=%{x}<br>Quantidade de estimativas=%{y}<extra></extra>\",\"legendgroup\":\"Solar Tamba\\u00fa, excelente apartamento em beira mar\",\"marker\":{\"color\":\"#19d3f3\",\"symbol\":\"circle\"},\"mode\":\"markers\",\"name\":\"Solar Tamba\\u00fa, excelente apartamento em beira mar\",\"orientation\":\"v\",\"showlegend\":true,\"x\":[369.0],\"xaxis\":\"x\",\"y\":[74.0],\"yaxis\":\"y\",\"type\":\"scatter\"},{\"hovertemplate\":\"Tipo=No melhor de Tamba\\u00fa, Eco Summer.<br>Pre\\u00e7o por noite=%{x}<br>Quantidade de estimativas=%{y}<extra></extra>\",\"legendgroup\":\"No melhor de Tamba\\u00fa, Eco Summer.\",\"marker\":{\"color\":\"#FF6692\",\"symbol\":\"circle\"},\"mode\":\"markers\",\"name\":\"No melhor de Tamba\\u00fa, Eco Summer.\",\"orientation\":\"v\",\"showlegend\":true,\"x\":[346.0],\"xaxis\":\"x\",\"y\":[36.0],\"yaxis\":\"y\",\"type\":\"scatter\"},{\"hovertemplate\":\"Tipo=Flat p\\u00e9 na areia com vista mar e piscina aquecida<br>Pre\\u00e7o por noite=%{x}<br>Quantidade de estimativas=%{y}<extra></extra>\",\"legendgroup\":\"Flat p\\u00e9 na areia com vista mar e piscina aquecida\",\"marker\":{\"color\":\"#B6E880\",\"symbol\":\"circle\"},\"mode\":\"markers\",\"name\":\"Flat p\\u00e9 na areia com vista mar e piscina aquecida\",\"orientation\":\"v\",\"showlegend\":true,\"x\":[330.0],\"xaxis\":\"x\",\"y\":[106.0],\"yaxis\":\"y\",\"type\":\"scatter\"},{\"hovertemplate\":\"Tipo=Apartamento fam\\u00edlias a 300 m da praia Cabo Branco<br>Pre\\u00e7o por noite=%{x}<br>Quantidade de estimativas=%{y}<extra></extra>\",\"legendgroup\":\"Apartamento fam\\u00edlias a 300 m da praia Cabo Branco\",\"marker\":{\"color\":\"#FF97FF\",\"symbol\":\"circle\"},\"mode\":\"markers\",\"name\":\"Apartamento fam\\u00edlias a 300 m da praia Cabo Branco\",\"orientation\":\"v\",\"showlegend\":true,\"x\":[323.0],\"xaxis\":\"x\",\"y\":[42.0],\"yaxis\":\"y\",\"type\":\"scatter\"},{\"hovertemplate\":\"Tipo=Apartamento na praia de Tamba\\u00fa<br>Pre\\u00e7o por noite=%{x}<br>Quantidade de estimativas=%{y}<extra></extra>\",\"legendgroup\":\"Apartamento na praia de Tamba\\u00fa\",\"marker\":{\"color\":\"#FECB52\",\"symbol\":\"circle\"},\"mode\":\"markers\",\"name\":\"Apartamento na praia de Tamba\\u00fa\",\"orientation\":\"v\",\"showlegend\":true,\"x\":[321.0],\"xaxis\":\"x\",\"y\":[18.0],\"yaxis\":\"y\",\"type\":\"scatter\"},{\"hovertemplate\":\"Tipo=Flat de frente a linda praia de tamba\\u00fa<br>Pre\\u00e7o por noite=%{x}<br>Quantidade de estimativas=%{y}<extra></extra>\",\"legendgroup\":\"Flat de frente a linda praia de tamba\\u00fa\",\"marker\":{\"color\":\"#636efa\",\"symbol\":\"circle\"},\"mode\":\"markers\",\"name\":\"Flat de frente a linda praia de tamba\\u00fa\",\"orientation\":\"v\",\"showlegend\":true,\"x\":[320.0],\"xaxis\":\"x\",\"y\":[46.0],\"yaxis\":\"y\",\"type\":\"scatter\"},{\"hovertemplate\":\"Tipo=Duas su\\u00edtes em pr\\u00e9dio frente mar! Bem decorado!<br>Pre\\u00e7o por noite=%{x}<br>Quantidade de estimativas=%{y}<extra></extra>\",\"legendgroup\":\"Duas su\\u00edtes em pr\\u00e9dio frente mar! Bem decorado!\",\"marker\":{\"color\":\"#EF553B\",\"symbol\":\"circle\"},\"mode\":\"markers\",\"name\":\"Duas su\\u00edtes em pr\\u00e9dio frente mar! Bem decorado!\",\"orientation\":\"v\",\"showlegend\":true,\"x\":[319.0],\"xaxis\":\"x\",\"y\":[59.0],\"yaxis\":\"y\",\"type\":\"scatter\"},{\"hovertemplate\":\"Tipo=Flat \\u00e0 beira-mar 206A Infinity At The Sea por Julio<br>Pre\\u00e7o por noite=%{x}<br>Quantidade de estimativas=%{y}<extra></extra>\",\"legendgroup\":\"Flat \\u00e0 beira-mar 206A Infinity At The Sea por Julio\",\"marker\":{\"color\":\"#00cc96\",\"symbol\":\"circle\"},\"mode\":\"markers\",\"name\":\"Flat \\u00e0 beira-mar 206A Infinity At The Sea por Julio\",\"orientation\":\"v\",\"showlegend\":true,\"x\":[318.0],\"xaxis\":\"x\",\"y\":[91.0],\"yaxis\":\"y\",\"type\":\"scatter\"},{\"hovertemplate\":\"Tipo=Flat \\u00e0 beira-mar 316  Infinito no Mar por Julio<br>Pre\\u00e7o por noite=%{x}<br>Quantidade de estimativas=%{y}<extra></extra>\",\"legendgroup\":\"Flat \\u00e0 beira-mar 316  Infinito no Mar por Julio\",\"marker\":{\"color\":\"#ab63fa\",\"symbol\":\"circle\"},\"mode\":\"markers\",\"name\":\"Flat \\u00e0 beira-mar 316  Infinito no Mar por Julio\",\"orientation\":\"v\",\"showlegend\":true,\"x\":[318.0],\"xaxis\":\"x\",\"y\":[33.0],\"yaxis\":\"y\",\"type\":\"scatter\"},{\"hovertemplate\":\"Tipo=Flat \\u00e0 beira-mar 115 Infinity At The Sea por Julio<br>Pre\\u00e7o por noite=%{x}<br>Quantidade de estimativas=%{y}<extra></extra>\",\"legendgroup\":\"Flat \\u00e0 beira-mar 115 Infinity At The Sea por Julio\",\"marker\":{\"color\":\"#FFA15A\",\"symbol\":\"circle\"},\"mode\":\"markers\",\"name\":\"Flat \\u00e0 beira-mar 115 Infinity At The Sea por Julio\",\"orientation\":\"v\",\"showlegend\":true,\"x\":[318.0],\"xaxis\":\"x\",\"y\":[32.0],\"yaxis\":\"y\",\"type\":\"scatter\"},{\"hovertemplate\":\"Tipo=Flat \\u00e0 beira-mar 216 Infinity At The Sea por Julio<br>Pre\\u00e7o por noite=%{x}<br>Quantidade de estimativas=%{y}<extra></extra>\",\"legendgroup\":\"Flat \\u00e0 beira-mar 216 Infinity At The Sea por Julio\",\"marker\":{\"color\":\"#19d3f3\",\"symbol\":\"circle\"},\"mode\":\"markers\",\"name\":\"Flat \\u00e0 beira-mar 216 Infinity At The Sea por Julio\",\"orientation\":\"v\",\"showlegend\":true,\"x\":[318.0],\"xaxis\":\"x\",\"y\":[82.0],\"yaxis\":\"y\",\"type\":\"scatter\"},{\"hovertemplate\":\"Tipo=Beira mar da praia de Cabo Branco flat<br>Pre\\u00e7o por noite=%{x}<br>Quantidade de estimativas=%{y}<extra></extra>\",\"legendgroup\":\"Beira mar da praia de Cabo Branco flat\",\"marker\":{\"color\":\"#FF6692\",\"symbol\":\"circle\"},\"mode\":\"markers\",\"name\":\"Beira mar da praia de Cabo Branco flat\",\"orientation\":\"v\",\"showlegend\":true,\"x\":[318.0],\"xaxis\":\"x\",\"y\":[5.0],\"yaxis\":\"y\",\"type\":\"scatter\"},{\"hovertemplate\":\"Tipo=Flat \\u00e0 beira-mar 205A Infinity At The Sea por Julio<br>Pre\\u00e7o por noite=%{x}<br>Quantidade de estimativas=%{y}<extra></extra>\",\"legendgroup\":\"Flat \\u00e0 beira-mar 205A Infinity At The Sea por Julio\",\"marker\":{\"color\":\"#B6E880\",\"symbol\":\"circle\"},\"mode\":\"markers\",\"name\":\"Flat \\u00e0 beira-mar 205A Infinity At The Sea por Julio\",\"orientation\":\"v\",\"showlegend\":true,\"x\":[318.0],\"xaxis\":\"x\",\"y\":[44.0],\"yaxis\":\"y\",\"type\":\"scatter\"},{\"hovertemplate\":\"Tipo=Flat \\u00e0 beira-mar 208B Infinity At The Sea by Julio<br>Pre\\u00e7o por noite=%{x}<br>Quantidade de estimativas=%{y}<extra></extra>\",\"legendgroup\":\"Flat \\u00e0 beira-mar 208B Infinity At The Sea by Julio\",\"marker\":{\"color\":\"#FF97FF\",\"symbol\":\"circle\"},\"mode\":\"markers\",\"name\":\"Flat \\u00e0 beira-mar 208B Infinity At The Sea by Julio\",\"orientation\":\"v\",\"showlegend\":true,\"x\":[318.0],\"xaxis\":\"x\",\"y\":[5.0],\"yaxis\":\"y\",\"type\":\"scatter\"},{\"hovertemplate\":\"Tipo=Apto decorado com vista para o mar<br>Pre\\u00e7o por noite=%{x}<br>Quantidade de estimativas=%{y}<extra></extra>\",\"legendgroup\":\"Apto decorado com vista para o mar\",\"marker\":{\"color\":\"#FECB52\",\"symbol\":\"circle\"},\"mode\":\"markers\",\"name\":\"Apto decorado com vista para o mar\",\"orientation\":\"v\",\"showlegend\":true,\"x\":[314.0],\"xaxis\":\"x\",\"y\":[118.0],\"yaxis\":\"y\",\"type\":\"scatter\"},{\"hovertemplate\":\"Tipo=Holanda\\u00b4s Prime - Flat 213<br>Pre\\u00e7o por noite=%{x}<br>Quantidade de estimativas=%{y}<extra></extra>\",\"legendgroup\":\"Holanda\\u00b4s Prime - Flat 213\",\"marker\":{\"color\":\"#636efa\",\"symbol\":\"circle\"},\"mode\":\"markers\",\"name\":\"Holanda\\u00b4s Prime - Flat 213\",\"orientation\":\"v\",\"showlegend\":true,\"x\":[300.0],\"xaxis\":\"x\",\"y\":[75.0],\"yaxis\":\"y\",\"type\":\"scatter\"},{\"hovertemplate\":\"Tipo=Vem para JP curtir o Ver\\u00e3o!<br>Pre\\u00e7o por noite=%{x}<br>Quantidade de estimativas=%{y}<extra></extra>\",\"legendgroup\":\"Vem para JP curtir o Ver\\u00e3o!\",\"marker\":{\"color\":\"#EF553B\",\"symbol\":\"circle\"},\"mode\":\"markers\",\"name\":\"Vem para JP curtir o Ver\\u00e3o!\",\"orientation\":\"v\",\"showlegend\":true,\"x\":[300.0],\"xaxis\":\"x\",\"y\":[53.0],\"yaxis\":\"y\",\"type\":\"scatter\"},{\"hovertemplate\":\"Tipo=Apartamento aconchegante na beira mar de Jampa por Carpediem<br>Pre\\u00e7o por noite=%{x}<br>Quantidade de estimativas=%{y}<extra></extra>\",\"legendgroup\":\"Apartamento aconchegante na beira mar de Jampa por Carpediem\",\"marker\":{\"color\":\"#00cc96\",\"symbol\":\"circle\"},\"mode\":\"markers\",\"name\":\"Apartamento aconchegante na beira mar de Jampa por Carpediem\",\"orientation\":\"v\",\"showlegend\":true,\"x\":[298.0],\"xaxis\":\"x\",\"y\":[4.0],\"yaxis\":\"y\",\"type\":\"scatter\"},{\"hovertemplate\":\"Tipo=Luxor Paulo Miranda|Vista Mar/Piscina,Wi-Fi,Praia<br>Pre\\u00e7o por noite=%{x}<br>Quantidade de estimativas=%{y}<extra></extra>\",\"legendgroup\":\"Luxor Paulo Miranda|Vista Mar/Piscina,Wi-Fi,Praia\",\"marker\":{\"color\":\"#ab63fa\",\"symbol\":\"circle\"},\"mode\":\"markers\",\"name\":\"Luxor Paulo Miranda|Vista Mar/Piscina,Wi-Fi,Praia\",\"orientation\":\"v\",\"showlegend\":true,\"x\":[296.0],\"xaxis\":\"x\",\"y\":[9.0],\"yaxis\":\"y\",\"type\":\"scatter\"},{\"hovertemplate\":\"Tipo=Luxor Paulo Miranda|Vista Mar/Piscina,Praia,Wi-Fi<br>Pre\\u00e7o por noite=%{x}<br>Quantidade de estimativas=%{y}<extra></extra>\",\"legendgroup\":\"Luxor Paulo Miranda|Vista Mar/Piscina,Praia,Wi-Fi\",\"marker\":{\"color\":\"#FFA15A\",\"symbol\":\"circle\"},\"mode\":\"markers\",\"name\":\"Luxor Paulo Miranda|Vista Mar/Piscina,Praia,Wi-Fi\",\"orientation\":\"v\",\"showlegend\":true,\"x\":[296.0],\"xaxis\":\"x\",\"y\":[22.0],\"yaxis\":\"y\",\"type\":\"scatter\"},{\"hovertemplate\":\"Tipo=Luxor Paulo Miranda|Cabo Branco,Wi-Fi,Beira-Mar<br>Pre\\u00e7o por noite=%{x}<br>Quantidade de estimativas=%{y}<extra></extra>\",\"legendgroup\":\"Luxor Paulo Miranda|Cabo Branco,Wi-Fi,Beira-Mar\",\"marker\":{\"color\":\"#19d3f3\",\"symbol\":\"circle\"},\"mode\":\"markers\",\"name\":\"Luxor Paulo Miranda|Cabo Branco,Wi-Fi,Beira-Mar\",\"orientation\":\"v\",\"showlegend\":true,\"x\":[296.0],\"xaxis\":\"x\",\"y\":[40.0],\"yaxis\":\"y\",\"type\":\"scatter\"},{\"hovertemplate\":\"Tipo=Joao Pessoa apto f\\u00e9rias Oceania Bessa.<br>Pre\\u00e7o por noite=%{x}<br>Quantidade de estimativas=%{y}<extra></extra>\",\"legendgroup\":\"Joao Pessoa apto f\\u00e9rias Oceania Bessa.\",\"marker\":{\"color\":\"#FF6692\",\"symbol\":\"circle\"},\"mode\":\"markers\",\"name\":\"Joao Pessoa apto f\\u00e9rias Oceania Bessa.\",\"orientation\":\"v\",\"showlegend\":true,\"x\":[295.0],\"xaxis\":\"x\",\"y\":[45.0],\"yaxis\":\"y\",\"type\":\"scatter\"},{\"hovertemplate\":\"Tipo=Recanto Tamba\\u00fa: Excelente flat a 5 min da praia<br>Pre\\u00e7o por noite=%{x}<br>Quantidade de estimativas=%{y}<extra></extra>\",\"legendgroup\":\"Recanto Tamba\\u00fa: Excelente flat a 5 min da praia\",\"marker\":{\"color\":\"#B6E880\",\"symbol\":\"circle\"},\"mode\":\"markers\",\"name\":\"Recanto Tamba\\u00fa: Excelente flat a 5 min da praia\",\"orientation\":\"v\",\"showlegend\":true,\"x\":[290.0],\"xaxis\":\"x\",\"y\":[51.0],\"yaxis\":\"y\",\"type\":\"scatter\"},{\"hovertemplate\":\"Tipo=Flat encantador na orla da praia de  cabo Branco.<br>Pre\\u00e7o por noite=%{x}<br>Quantidade de estimativas=%{y}<extra></extra>\",\"legendgroup\":\"Flat encantador na orla da praia de  cabo Branco.\",\"marker\":{\"color\":\"#FF97FF\",\"symbol\":\"circle\"},\"mode\":\"markers\",\"name\":\"Flat encantador na orla da praia de  cabo Branco.\",\"orientation\":\"v\",\"showlegend\":true,\"x\":[287.0],\"xaxis\":\"x\",\"y\":[50.0],\"yaxis\":\"y\",\"type\":\"scatter\"},{\"hovertemplate\":\"Tipo=Apto301 - Equipado, confort\\u00e1vel e bem localizado<br>Pre\\u00e7o por noite=%{x}<br>Quantidade de estimativas=%{y}<extra></extra>\",\"legendgroup\":\"Apto301 - Equipado, confort\\u00e1vel e bem localizado\",\"marker\":{\"color\":\"#FECB52\",\"symbol\":\"circle\"},\"mode\":\"markers\",\"name\":\"Apto301 - Equipado, confort\\u00e1vel e bem localizado\",\"orientation\":\"v\",\"showlegend\":true,\"x\":[283.0],\"xaxis\":\"x\",\"y\":[21.0],\"yaxis\":\"y\",\"type\":\"scatter\"}],                        {\"template\":{\"data\":{\"bar\":[{\"error_x\":{\"color\":\"#2a3f5f\"},\"error_y\":{\"color\":\"#2a3f5f\"},\"marker\":{\"line\":{\"color\":\"#E5ECF6\",\"width\":0.5},\"pattern\":{\"fillmode\":\"overlay\",\"size\":10,\"solidity\":0.2}},\"type\":\"bar\"}],\"barpolar\":[{\"marker\":{\"line\":{\"color\":\"#E5ECF6\",\"width\":0.5},\"pattern\":{\"fillmode\":\"overlay\",\"size\":10,\"solidity\":0.2}},\"type\":\"barpolar\"}],\"carpet\":[{\"aaxis\":{\"endlinecolor\":\"#2a3f5f\",\"gridcolor\":\"white\",\"linecolor\":\"white\",\"minorgridcolor\":\"white\",\"startlinecolor\":\"#2a3f5f\"},\"baxis\":{\"endlinecolor\":\"#2a3f5f\",\"gridcolor\":\"white\",\"linecolor\":\"white\",\"minorgridcolor\":\"white\",\"startlinecolor\":\"#2a3f5f\"},\"type\":\"carpet\"}],\"choropleth\":[{\"colorbar\":{\"outlinewidth\":0,\"ticks\":\"\"},\"type\":\"choropleth\"}],\"contour\":[{\"colorbar\":{\"outlinewidth\":0,\"ticks\":\"\"},\"colorscale\":[[0.0,\"#0d0887\"],[0.1111111111111111,\"#46039f\"],[0.2222222222222222,\"#7201a8\"],[0.3333333333333333,\"#9c179e\"],[0.4444444444444444,\"#bd3786\"],[0.5555555555555556,\"#d8576b\"],[0.6666666666666666,\"#ed7953\"],[0.7777777777777778,\"#fb9f3a\"],[0.8888888888888888,\"#fdca26\"],[1.0,\"#f0f921\"]],\"type\":\"contour\"}],\"contourcarpet\":[{\"colorbar\":{\"outlinewidth\":0,\"ticks\":\"\"},\"type\":\"contourcarpet\"}],\"heatmap\":[{\"colorbar\":{\"outlinewidth\":0,\"ticks\":\"\"},\"colorscale\":[[0.0,\"#0d0887\"],[0.1111111111111111,\"#46039f\"],[0.2222222222222222,\"#7201a8\"],[0.3333333333333333,\"#9c179e\"],[0.4444444444444444,\"#bd3786\"],[0.5555555555555556,\"#d8576b\"],[0.6666666666666666,\"#ed7953\"],[0.7777777777777778,\"#fb9f3a\"],[0.8888888888888888,\"#fdca26\"],[1.0,\"#f0f921\"]],\"type\":\"heatmap\"}],\"heatmapgl\":[{\"colorbar\":{\"outlinewidth\":0,\"ticks\":\"\"},\"colorscale\":[[0.0,\"#0d0887\"],[0.1111111111111111,\"#46039f\"],[0.2222222222222222,\"#7201a8\"],[0.3333333333333333,\"#9c179e\"],[0.4444444444444444,\"#bd3786\"],[0.5555555555555556,\"#d8576b\"],[0.6666666666666666,\"#ed7953\"],[0.7777777777777778,\"#fb9f3a\"],[0.8888888888888888,\"#fdca26\"],[1.0,\"#f0f921\"]],\"type\":\"heatmapgl\"}],\"histogram\":[{\"marker\":{\"pattern\":{\"fillmode\":\"overlay\",\"size\":10,\"solidity\":0.2}},\"type\":\"histogram\"}],\"histogram2d\":[{\"colorbar\":{\"outlinewidth\":0,\"ticks\":\"\"},\"colorscale\":[[0.0,\"#0d0887\"],[0.1111111111111111,\"#46039f\"],[0.2222222222222222,\"#7201a8\"],[0.3333333333333333,\"#9c179e\"],[0.4444444444444444,\"#bd3786\"],[0.5555555555555556,\"#d8576b\"],[0.6666666666666666,\"#ed7953\"],[0.7777777777777778,\"#fb9f3a\"],[0.8888888888888888,\"#fdca26\"],[1.0,\"#f0f921\"]],\"type\":\"histogram2d\"}],\"histogram2dcontour\":[{\"colorbar\":{\"outlinewidth\":0,\"ticks\":\"\"},\"colorscale\":[[0.0,\"#0d0887\"],[0.1111111111111111,\"#46039f\"],[0.2222222222222222,\"#7201a8\"],[0.3333333333333333,\"#9c179e\"],[0.4444444444444444,\"#bd3786\"],[0.5555555555555556,\"#d8576b\"],[0.6666666666666666,\"#ed7953\"],[0.7777777777777778,\"#fb9f3a\"],[0.8888888888888888,\"#fdca26\"],[1.0,\"#f0f921\"]],\"type\":\"histogram2dcontour\"}],\"mesh3d\":[{\"colorbar\":{\"outlinewidth\":0,\"ticks\":\"\"},\"type\":\"mesh3d\"}],\"parcoords\":[{\"line\":{\"colorbar\":{\"outlinewidth\":0,\"ticks\":\"\"}},\"type\":\"parcoords\"}],\"pie\":[{\"automargin\":true,\"type\":\"pie\"}],\"scatter\":[{\"marker\":{\"colorbar\":{\"outlinewidth\":0,\"ticks\":\"\"}},\"type\":\"scatter\"}],\"scatter3d\":[{\"line\":{\"colorbar\":{\"outlinewidth\":0,\"ticks\":\"\"}},\"marker\":{\"colorbar\":{\"outlinewidth\":0,\"ticks\":\"\"}},\"type\":\"scatter3d\"}],\"scattercarpet\":[{\"marker\":{\"colorbar\":{\"outlinewidth\":0,\"ticks\":\"\"}},\"type\":\"scattercarpet\"}],\"scattergeo\":[{\"marker\":{\"colorbar\":{\"outlinewidth\":0,\"ticks\":\"\"}},\"type\":\"scattergeo\"}],\"scattergl\":[{\"marker\":{\"colorbar\":{\"outlinewidth\":0,\"ticks\":\"\"}},\"type\":\"scattergl\"}],\"scattermapbox\":[{\"marker\":{\"colorbar\":{\"outlinewidth\":0,\"ticks\":\"\"}},\"type\":\"scattermapbox\"}],\"scatterpolar\":[{\"marker\":{\"colorbar\":{\"outlinewidth\":0,\"ticks\":\"\"}},\"type\":\"scatterpolar\"}],\"scatterpolargl\":[{\"marker\":{\"colorbar\":{\"outlinewidth\":0,\"ticks\":\"\"}},\"type\":\"scatterpolargl\"}],\"scatterternary\":[{\"marker\":{\"colorbar\":{\"outlinewidth\":0,\"ticks\":\"\"}},\"type\":\"scatterternary\"}],\"surface\":[{\"colorbar\":{\"outlinewidth\":0,\"ticks\":\"\"},\"colorscale\":[[0.0,\"#0d0887\"],[0.1111111111111111,\"#46039f\"],[0.2222222222222222,\"#7201a8\"],[0.3333333333333333,\"#9c179e\"],[0.4444444444444444,\"#bd3786\"],[0.5555555555555556,\"#d8576b\"],[0.6666666666666666,\"#ed7953\"],[0.7777777777777778,\"#fb9f3a\"],[0.8888888888888888,\"#fdca26\"],[1.0,\"#f0f921\"]],\"type\":\"surface\"}],\"table\":[{\"cells\":{\"fill\":{\"color\":\"#EBF0F8\"},\"line\":{\"color\":\"white\"}},\"header\":{\"fill\":{\"color\":\"#C8D4E3\"},\"line\":{\"color\":\"white\"}},\"type\":\"table\"}]},\"layout\":{\"annotationdefaults\":{\"arrowcolor\":\"#2a3f5f\",\"arrowhead\":0,\"arrowwidth\":1},\"autotypenumbers\":\"strict\",\"coloraxis\":{\"colorbar\":{\"outlinewidth\":0,\"ticks\":\"\"}},\"colorscale\":{\"diverging\":[[0,\"#8e0152\"],[0.1,\"#c51b7d\"],[0.2,\"#de77ae\"],[0.3,\"#f1b6da\"],[0.4,\"#fde0ef\"],[0.5,\"#f7f7f7\"],[0.6,\"#e6f5d0\"],[0.7,\"#b8e186\"],[0.8,\"#7fbc41\"],[0.9,\"#4d9221\"],[1,\"#276419\"]],\"sequential\":[[0.0,\"#0d0887\"],[0.1111111111111111,\"#46039f\"],[0.2222222222222222,\"#7201a8\"],[0.3333333333333333,\"#9c179e\"],[0.4444444444444444,\"#bd3786\"],[0.5555555555555556,\"#d8576b\"],[0.6666666666666666,\"#ed7953\"],[0.7777777777777778,\"#fb9f3a\"],[0.8888888888888888,\"#fdca26\"],[1.0,\"#f0f921\"]],\"sequentialminus\":[[0.0,\"#0d0887\"],[0.1111111111111111,\"#46039f\"],[0.2222222222222222,\"#7201a8\"],[0.3333333333333333,\"#9c179e\"],[0.4444444444444444,\"#bd3786\"],[0.5555555555555556,\"#d8576b\"],[0.6666666666666666,\"#ed7953\"],[0.7777777777777778,\"#fb9f3a\"],[0.8888888888888888,\"#fdca26\"],[1.0,\"#f0f921\"]]},\"colorway\":[\"#636efa\",\"#EF553B\",\"#00cc96\",\"#ab63fa\",\"#FFA15A\",\"#19d3f3\",\"#FF6692\",\"#B6E880\",\"#FF97FF\",\"#FECB52\"],\"font\":{\"color\":\"#2a3f5f\"},\"geo\":{\"bgcolor\":\"white\",\"lakecolor\":\"white\",\"landcolor\":\"#E5ECF6\",\"showlakes\":true,\"showland\":true,\"subunitcolor\":\"white\"},\"hoverlabel\":{\"align\":\"left\"},\"hovermode\":\"closest\",\"mapbox\":{\"style\":\"light\"},\"paper_bgcolor\":\"white\",\"plot_bgcolor\":\"#E5ECF6\",\"polar\":{\"angularaxis\":{\"gridcolor\":\"white\",\"linecolor\":\"white\",\"ticks\":\"\"},\"bgcolor\":\"#E5ECF6\",\"radialaxis\":{\"gridcolor\":\"white\",\"linecolor\":\"white\",\"ticks\":\"\"}},\"scene\":{\"xaxis\":{\"backgroundcolor\":\"#E5ECF6\",\"gridcolor\":\"white\",\"gridwidth\":2,\"linecolor\":\"white\",\"showbackground\":true,\"ticks\":\"\",\"zerolinecolor\":\"white\"},\"yaxis\":{\"backgroundcolor\":\"#E5ECF6\",\"gridcolor\":\"white\",\"gridwidth\":2,\"linecolor\":\"white\",\"showbackground\":true,\"ticks\":\"\",\"zerolinecolor\":\"white\"},\"zaxis\":{\"backgroundcolor\":\"#E5ECF6\",\"gridcolor\":\"white\",\"gridwidth\":2,\"linecolor\":\"white\",\"showbackground\":true,\"ticks\":\"\",\"zerolinecolor\":\"white\"}},\"shapedefaults\":{\"line\":{\"color\":\"#2a3f5f\"}},\"ternary\":{\"aaxis\":{\"gridcolor\":\"white\",\"linecolor\":\"white\",\"ticks\":\"\"},\"baxis\":{\"gridcolor\":\"white\",\"linecolor\":\"white\",\"ticks\":\"\"},\"bgcolor\":\"#E5ECF6\",\"caxis\":{\"gridcolor\":\"white\",\"linecolor\":\"white\",\"ticks\":\"\"}},\"title\":{\"x\":0.05},\"xaxis\":{\"automargin\":true,\"gridcolor\":\"white\",\"linecolor\":\"white\",\"ticks\":\"\",\"title\":{\"standoff\":15},\"zerolinecolor\":\"white\",\"zerolinewidth\":2},\"yaxis\":{\"automargin\":true,\"gridcolor\":\"white\",\"linecolor\":\"white\",\"ticks\":\"\",\"title\":{\"standoff\":15},\"zerolinecolor\":\"white\",\"zerolinewidth\":2}}},\"xaxis\":{\"anchor\":\"y\",\"domain\":[0.0,1.0],\"title\":{\"text\":\"Pre\\u00e7o por noite\"}},\"yaxis\":{\"anchor\":\"x\",\"domain\":[0.0,1.0],\"title\":{\"text\":\"Quantidade de estimativas\"}},\"legend\":{\"title\":{\"text\":\"Tipo\"},\"tracegroupgap\":0},\"title\":{\"text\":\"Pre\\u00e7o x quantidade de avalia\\u00e7\\u00f5es por tipo de acomoda\\u00e7\\u00e3o\"}},                        {\"responsive\": true}                    ).then(function(){\n",
              "                            \n",
              "var gd = document.getElementById('b5c198da-c2ab-4d1b-a63c-94f168a3177a');\n",
              "var x = new MutationObserver(function (mutations, observer) {{\n",
              "        var display = window.getComputedStyle(gd).display;\n",
              "        if (!display || display === 'none') {{\n",
              "            console.log([gd, 'removed!']);\n",
              "            Plotly.purge(gd);\n",
              "            observer.disconnect();\n",
              "        }}\n",
              "}});\n",
              "\n",
              "// Listen for the removal of the full notebook cells\n",
              "var notebookContainer = gd.closest('#notebook-container');\n",
              "if (notebookContainer) {{\n",
              "    x.observe(notebookContainer, {childList: true});\n",
              "}}\n",
              "\n",
              "// Listen for the clearing of the current output cell\n",
              "var outputEl = gd.closest('.output');\n",
              "if (outputEl) {{\n",
              "    x.observe(outputEl, {childList: true});\n",
              "}}\n",
              "\n",
              "                        })                };                            </script>        </div>\n",
              "</body>\n",
              "</html>"
            ]
          },
          "metadata": {}
        }
      ]
    },
    {
      "cell_type": "code",
      "source": [
        "# Selecionando os 30 maiores e os 30 menores valores para Preço_por_noite\n",
        "top30_highest_prices = df.nlargest(30, 'Preço_por_noite')\n",
        "top30_lowest_prices = df.nsmallest(30, 'Preço_por_noite')\n",
        "\n",
        "# Criando o gráfico\n",
        "fig = px.bar(data_frame=top30_highest_prices, x='Local', y='Preço_por_noite', color='Preço_por_noite',\n",
        "             title='30 Maiores preços por noite para as acomodações no Airbnb de João Pessoa', labels={'Local':'Local', 'Preço_por_noite':'Preço por noite'},\n",
        "             color_continuous_scale='Viridis')\n",
        "fig.show()"
      ],
      "metadata": {
        "colab": {
          "base_uri": "https://localhost:8080/",
          "height": 542
        },
        "id": "RI-NB0KH80ni",
        "outputId": "647588e5-cd93-4337-b5df-0760ae18fd48"
      },
      "execution_count": null,
      "outputs": [
        {
          "output_type": "display_data",
          "data": {
            "text/html": [
              "<html>\n",
              "<head><meta charset=\"utf-8\" /></head>\n",
              "<body>\n",
              "    <div>            <script src=\"https://cdnjs.cloudflare.com/ajax/libs/mathjax/2.7.5/MathJax.js?config=TeX-AMS-MML_SVG\"></script><script type=\"text/javascript\">if (window.MathJax) {MathJax.Hub.Config({SVG: {font: \"STIX-Web\"}});}</script>                <script type=\"text/javascript\">window.PlotlyConfig = {MathJaxConfig: 'local'};</script>\n",
              "        <script src=\"https://cdn.plot.ly/plotly-2.8.3.min.js\"></script>                <div id=\"ddc373c0-442a-43f2-90da-1e7d51425bf9\" class=\"plotly-graph-div\" style=\"height:525px; width:100%;\"></div>            <script type=\"text/javascript\">                                    window.PLOTLYENV=window.PLOTLYENV || {};                                    if (document.getElementById(\"ddc373c0-442a-43f2-90da-1e7d51425bf9\")) {                    Plotly.newPlot(                        \"ddc373c0-442a-43f2-90da-1e7d51425bf9\",                        [{\"alignmentgroup\":\"True\",\"hovertemplate\":\"Local=%{x}<br>Pre\\u00e7o por noite=%{marker.color}<extra></extra>\",\"legendgroup\":\"\",\"marker\":{\"color\":[414.0,404.0,385.0,384.0,370.0,369.0,346.0,330.0,323.0,321.0,320.0,319.0,318.0,318.0,318.0,318.0,318.0,318.0,318.0,314.0,300.0,300.0,298.0,296.0,296.0,296.0,295.0,290.0,287.0,283.0],\"coloraxis\":\"coloraxis\",\"pattern\":{\"shape\":\"\"}},\"name\":\"\",\"offsetgroup\":\"\",\"orientation\":\"v\",\"showlegend\":false,\"textposition\":\"auto\",\"x\":[\"Loft em Jo\\u00e3o Pessoa\",\"Apartamento em Mana\\u00edra\",\"Apartamento em Cabo Branco\",\"Apartamento em Tamba\\u00fa\",\"Apartamento em Cabo Branco\",\"Apartamento em Tamba\\u00fa\",\"Apartamento em Tamba\\u00fa\",\"Apartamento em Jardim Oceania\",\"Apartamento em Cabo Branco\",\"Apartamento em Tamba\\u00fa\",\"Apartamento em Tamba\\u00fa\",\"Apartamento em Cabo Branco\",\"Apartamento em Cabo Branco\",\"Apartamento em Cabo Branco\",\"Apartamento em Cabo Branco\",\"Apartamento em Jo\\u00e3o Pessoa\",\"Apartamento em Jo\\u00e3o Pessoa\",\"Apartamento em Cabo Branco\",\"Apartamento em Jo\\u00e3o Pessoa\",\"Condom\\u00ednio em Jo\\u00e3o Pessoa\",\"Apartamento em Tamba\\u00fa\",\"Lugar para ficar em Cabo Branco\",\"Apartamento em Jo\\u00e3o Pessoa\",\"Apartamento em Cabo Branco\",\"Apartamento em Cabo Branco\",\"Apartamento em Cabo Branco\",\"Condom\\u00ednio em Jardim Oceania\",\"Apartamento em Jo\\u00e3o Pessoa\",\"Apartamento em Cabo Branco\",\"Apartamento em Jo\\u00e3o Pessoa\"],\"xaxis\":\"x\",\"y\":[414.0,404.0,385.0,384.0,370.0,369.0,346.0,330.0,323.0,321.0,320.0,319.0,318.0,318.0,318.0,318.0,318.0,318.0,318.0,314.0,300.0,300.0,298.0,296.0,296.0,296.0,295.0,290.0,287.0,283.0],\"yaxis\":\"y\",\"type\":\"bar\"}],                        {\"template\":{\"data\":{\"bar\":[{\"error_x\":{\"color\":\"#2a3f5f\"},\"error_y\":{\"color\":\"#2a3f5f\"},\"marker\":{\"line\":{\"color\":\"#E5ECF6\",\"width\":0.5},\"pattern\":{\"fillmode\":\"overlay\",\"size\":10,\"solidity\":0.2}},\"type\":\"bar\"}],\"barpolar\":[{\"marker\":{\"line\":{\"color\":\"#E5ECF6\",\"width\":0.5},\"pattern\":{\"fillmode\":\"overlay\",\"size\":10,\"solidity\":0.2}},\"type\":\"barpolar\"}],\"carpet\":[{\"aaxis\":{\"endlinecolor\":\"#2a3f5f\",\"gridcolor\":\"white\",\"linecolor\":\"white\",\"minorgridcolor\":\"white\",\"startlinecolor\":\"#2a3f5f\"},\"baxis\":{\"endlinecolor\":\"#2a3f5f\",\"gridcolor\":\"white\",\"linecolor\":\"white\",\"minorgridcolor\":\"white\",\"startlinecolor\":\"#2a3f5f\"},\"type\":\"carpet\"}],\"choropleth\":[{\"colorbar\":{\"outlinewidth\":0,\"ticks\":\"\"},\"type\":\"choropleth\"}],\"contour\":[{\"colorbar\":{\"outlinewidth\":0,\"ticks\":\"\"},\"colorscale\":[[0.0,\"#0d0887\"],[0.1111111111111111,\"#46039f\"],[0.2222222222222222,\"#7201a8\"],[0.3333333333333333,\"#9c179e\"],[0.4444444444444444,\"#bd3786\"],[0.5555555555555556,\"#d8576b\"],[0.6666666666666666,\"#ed7953\"],[0.7777777777777778,\"#fb9f3a\"],[0.8888888888888888,\"#fdca26\"],[1.0,\"#f0f921\"]],\"type\":\"contour\"}],\"contourcarpet\":[{\"colorbar\":{\"outlinewidth\":0,\"ticks\":\"\"},\"type\":\"contourcarpet\"}],\"heatmap\":[{\"colorbar\":{\"outlinewidth\":0,\"ticks\":\"\"},\"colorscale\":[[0.0,\"#0d0887\"],[0.1111111111111111,\"#46039f\"],[0.2222222222222222,\"#7201a8\"],[0.3333333333333333,\"#9c179e\"],[0.4444444444444444,\"#bd3786\"],[0.5555555555555556,\"#d8576b\"],[0.6666666666666666,\"#ed7953\"],[0.7777777777777778,\"#fb9f3a\"],[0.8888888888888888,\"#fdca26\"],[1.0,\"#f0f921\"]],\"type\":\"heatmap\"}],\"heatmapgl\":[{\"colorbar\":{\"outlinewidth\":0,\"ticks\":\"\"},\"colorscale\":[[0.0,\"#0d0887\"],[0.1111111111111111,\"#46039f\"],[0.2222222222222222,\"#7201a8\"],[0.3333333333333333,\"#9c179e\"],[0.4444444444444444,\"#bd3786\"],[0.5555555555555556,\"#d8576b\"],[0.6666666666666666,\"#ed7953\"],[0.7777777777777778,\"#fb9f3a\"],[0.8888888888888888,\"#fdca26\"],[1.0,\"#f0f921\"]],\"type\":\"heatmapgl\"}],\"histogram\":[{\"marker\":{\"pattern\":{\"fillmode\":\"overlay\",\"size\":10,\"solidity\":0.2}},\"type\":\"histogram\"}],\"histogram2d\":[{\"colorbar\":{\"outlinewidth\":0,\"ticks\":\"\"},\"colorscale\":[[0.0,\"#0d0887\"],[0.1111111111111111,\"#46039f\"],[0.2222222222222222,\"#7201a8\"],[0.3333333333333333,\"#9c179e\"],[0.4444444444444444,\"#bd3786\"],[0.5555555555555556,\"#d8576b\"],[0.6666666666666666,\"#ed7953\"],[0.7777777777777778,\"#fb9f3a\"],[0.8888888888888888,\"#fdca26\"],[1.0,\"#f0f921\"]],\"type\":\"histogram2d\"}],\"histogram2dcontour\":[{\"colorbar\":{\"outlinewidth\":0,\"ticks\":\"\"},\"colorscale\":[[0.0,\"#0d0887\"],[0.1111111111111111,\"#46039f\"],[0.2222222222222222,\"#7201a8\"],[0.3333333333333333,\"#9c179e\"],[0.4444444444444444,\"#bd3786\"],[0.5555555555555556,\"#d8576b\"],[0.6666666666666666,\"#ed7953\"],[0.7777777777777778,\"#fb9f3a\"],[0.8888888888888888,\"#fdca26\"],[1.0,\"#f0f921\"]],\"type\":\"histogram2dcontour\"}],\"mesh3d\":[{\"colorbar\":{\"outlinewidth\":0,\"ticks\":\"\"},\"type\":\"mesh3d\"}],\"parcoords\":[{\"line\":{\"colorbar\":{\"outlinewidth\":0,\"ticks\":\"\"}},\"type\":\"parcoords\"}],\"pie\":[{\"automargin\":true,\"type\":\"pie\"}],\"scatter\":[{\"marker\":{\"colorbar\":{\"outlinewidth\":0,\"ticks\":\"\"}},\"type\":\"scatter\"}],\"scatter3d\":[{\"line\":{\"colorbar\":{\"outlinewidth\":0,\"ticks\":\"\"}},\"marker\":{\"colorbar\":{\"outlinewidth\":0,\"ticks\":\"\"}},\"type\":\"scatter3d\"}],\"scattercarpet\":[{\"marker\":{\"colorbar\":{\"outlinewidth\":0,\"ticks\":\"\"}},\"type\":\"scattercarpet\"}],\"scattergeo\":[{\"marker\":{\"colorbar\":{\"outlinewidth\":0,\"ticks\":\"\"}},\"type\":\"scattergeo\"}],\"scattergl\":[{\"marker\":{\"colorbar\":{\"outlinewidth\":0,\"ticks\":\"\"}},\"type\":\"scattergl\"}],\"scattermapbox\":[{\"marker\":{\"colorbar\":{\"outlinewidth\":0,\"ticks\":\"\"}},\"type\":\"scattermapbox\"}],\"scatterpolar\":[{\"marker\":{\"colorbar\":{\"outlinewidth\":0,\"ticks\":\"\"}},\"type\":\"scatterpolar\"}],\"scatterpolargl\":[{\"marker\":{\"colorbar\":{\"outlinewidth\":0,\"ticks\":\"\"}},\"type\":\"scatterpolargl\"}],\"scatterternary\":[{\"marker\":{\"colorbar\":{\"outlinewidth\":0,\"ticks\":\"\"}},\"type\":\"scatterternary\"}],\"surface\":[{\"colorbar\":{\"outlinewidth\":0,\"ticks\":\"\"},\"colorscale\":[[0.0,\"#0d0887\"],[0.1111111111111111,\"#46039f\"],[0.2222222222222222,\"#7201a8\"],[0.3333333333333333,\"#9c179e\"],[0.4444444444444444,\"#bd3786\"],[0.5555555555555556,\"#d8576b\"],[0.6666666666666666,\"#ed7953\"],[0.7777777777777778,\"#fb9f3a\"],[0.8888888888888888,\"#fdca26\"],[1.0,\"#f0f921\"]],\"type\":\"surface\"}],\"table\":[{\"cells\":{\"fill\":{\"color\":\"#EBF0F8\"},\"line\":{\"color\":\"white\"}},\"header\":{\"fill\":{\"color\":\"#C8D4E3\"},\"line\":{\"color\":\"white\"}},\"type\":\"table\"}]},\"layout\":{\"annotationdefaults\":{\"arrowcolor\":\"#2a3f5f\",\"arrowhead\":0,\"arrowwidth\":1},\"autotypenumbers\":\"strict\",\"coloraxis\":{\"colorbar\":{\"outlinewidth\":0,\"ticks\":\"\"}},\"colorscale\":{\"diverging\":[[0,\"#8e0152\"],[0.1,\"#c51b7d\"],[0.2,\"#de77ae\"],[0.3,\"#f1b6da\"],[0.4,\"#fde0ef\"],[0.5,\"#f7f7f7\"],[0.6,\"#e6f5d0\"],[0.7,\"#b8e186\"],[0.8,\"#7fbc41\"],[0.9,\"#4d9221\"],[1,\"#276419\"]],\"sequential\":[[0.0,\"#0d0887\"],[0.1111111111111111,\"#46039f\"],[0.2222222222222222,\"#7201a8\"],[0.3333333333333333,\"#9c179e\"],[0.4444444444444444,\"#bd3786\"],[0.5555555555555556,\"#d8576b\"],[0.6666666666666666,\"#ed7953\"],[0.7777777777777778,\"#fb9f3a\"],[0.8888888888888888,\"#fdca26\"],[1.0,\"#f0f921\"]],\"sequentialminus\":[[0.0,\"#0d0887\"],[0.1111111111111111,\"#46039f\"],[0.2222222222222222,\"#7201a8\"],[0.3333333333333333,\"#9c179e\"],[0.4444444444444444,\"#bd3786\"],[0.5555555555555556,\"#d8576b\"],[0.6666666666666666,\"#ed7953\"],[0.7777777777777778,\"#fb9f3a\"],[0.8888888888888888,\"#fdca26\"],[1.0,\"#f0f921\"]]},\"colorway\":[\"#636efa\",\"#EF553B\",\"#00cc96\",\"#ab63fa\",\"#FFA15A\",\"#19d3f3\",\"#FF6692\",\"#B6E880\",\"#FF97FF\",\"#FECB52\"],\"font\":{\"color\":\"#2a3f5f\"},\"geo\":{\"bgcolor\":\"white\",\"lakecolor\":\"white\",\"landcolor\":\"#E5ECF6\",\"showlakes\":true,\"showland\":true,\"subunitcolor\":\"white\"},\"hoverlabel\":{\"align\":\"left\"},\"hovermode\":\"closest\",\"mapbox\":{\"style\":\"light\"},\"paper_bgcolor\":\"white\",\"plot_bgcolor\":\"#E5ECF6\",\"polar\":{\"angularaxis\":{\"gridcolor\":\"white\",\"linecolor\":\"white\",\"ticks\":\"\"},\"bgcolor\":\"#E5ECF6\",\"radialaxis\":{\"gridcolor\":\"white\",\"linecolor\":\"white\",\"ticks\":\"\"}},\"scene\":{\"xaxis\":{\"backgroundcolor\":\"#E5ECF6\",\"gridcolor\":\"white\",\"gridwidth\":2,\"linecolor\":\"white\",\"showbackground\":true,\"ticks\":\"\",\"zerolinecolor\":\"white\"},\"yaxis\":{\"backgroundcolor\":\"#E5ECF6\",\"gridcolor\":\"white\",\"gridwidth\":2,\"linecolor\":\"white\",\"showbackground\":true,\"ticks\":\"\",\"zerolinecolor\":\"white\"},\"zaxis\":{\"backgroundcolor\":\"#E5ECF6\",\"gridcolor\":\"white\",\"gridwidth\":2,\"linecolor\":\"white\",\"showbackground\":true,\"ticks\":\"\",\"zerolinecolor\":\"white\"}},\"shapedefaults\":{\"line\":{\"color\":\"#2a3f5f\"}},\"ternary\":{\"aaxis\":{\"gridcolor\":\"white\",\"linecolor\":\"white\",\"ticks\":\"\"},\"baxis\":{\"gridcolor\":\"white\",\"linecolor\":\"white\",\"ticks\":\"\"},\"bgcolor\":\"#E5ECF6\",\"caxis\":{\"gridcolor\":\"white\",\"linecolor\":\"white\",\"ticks\":\"\"}},\"title\":{\"x\":0.05},\"xaxis\":{\"automargin\":true,\"gridcolor\":\"white\",\"linecolor\":\"white\",\"ticks\":\"\",\"title\":{\"standoff\":15},\"zerolinecolor\":\"white\",\"zerolinewidth\":2},\"yaxis\":{\"automargin\":true,\"gridcolor\":\"white\",\"linecolor\":\"white\",\"ticks\":\"\",\"title\":{\"standoff\":15},\"zerolinecolor\":\"white\",\"zerolinewidth\":2}}},\"xaxis\":{\"anchor\":\"y\",\"domain\":[0.0,1.0],\"title\":{\"text\":\"Local\"}},\"yaxis\":{\"anchor\":\"x\",\"domain\":[0.0,1.0],\"title\":{\"text\":\"Pre\\u00e7o por noite\"}},\"coloraxis\":{\"colorbar\":{\"title\":{\"text\":\"Pre\\u00e7o por noite\"}},\"colorscale\":[[0.0,\"#440154\"],[0.1111111111111111,\"#482878\"],[0.2222222222222222,\"#3e4989\"],[0.3333333333333333,\"#31688e\"],[0.4444444444444444,\"#26828e\"],[0.5555555555555556,\"#1f9e89\"],[0.6666666666666666,\"#35b779\"],[0.7777777777777778,\"#6ece58\"],[0.8888888888888888,\"#b5de2b\"],[1.0,\"#fde725\"]]},\"legend\":{\"tracegroupgap\":0},\"title\":{\"text\":\"30 Maiores pre\\u00e7os por noite para as acomoda\\u00e7\\u00f5es no Airbnb de Jo\\u00e3o Pessoa\"},\"barmode\":\"relative\"},                        {\"responsive\": true}                    ).then(function(){\n",
              "                            \n",
              "var gd = document.getElementById('ddc373c0-442a-43f2-90da-1e7d51425bf9');\n",
              "var x = new MutationObserver(function (mutations, observer) {{\n",
              "        var display = window.getComputedStyle(gd).display;\n",
              "        if (!display || display === 'none') {{\n",
              "            console.log([gd, 'removed!']);\n",
              "            Plotly.purge(gd);\n",
              "            observer.disconnect();\n",
              "        }}\n",
              "}});\n",
              "\n",
              "// Listen for the removal of the full notebook cells\n",
              "var notebookContainer = gd.closest('#notebook-container');\n",
              "if (notebookContainer) {{\n",
              "    x.observe(notebookContainer, {childList: true});\n",
              "}}\n",
              "\n",
              "// Listen for the clearing of the current output cell\n",
              "var outputEl = gd.closest('.output');\n",
              "if (outputEl) {{\n",
              "    x.observe(outputEl, {childList: true});\n",
              "}}\n",
              "\n",
              "                        })                };                            </script>        </div>\n",
              "</body>\n",
              "</html>"
            ]
          },
          "metadata": {}
        }
      ]
    },
    {
      "cell_type": "code",
      "source": [
        "fig = px.bar(data_frame=top30_lowest_prices, x='Local', y='Preço_por_noite', color='Preço_por_noite',\n",
        "             title='30 Menores preços por noite para as acomodações no Airbnb de João Pessoa', labels={'Local':'Local', 'Preço_por_noite':'Preço por noite'},\n",
        "             color_continuous_scale='Viridis')\n",
        "fig.show()"
      ],
      "metadata": {
        "colab": {
          "base_uri": "https://localhost:8080/",
          "height": 542
        },
        "id": "pRvkZ7xM86CB",
        "outputId": "1bee71e1-af66-47df-a88a-8bdce41f6b54"
      },
      "execution_count": null,
      "outputs": [
        {
          "output_type": "display_data",
          "data": {
            "text/html": [
              "<html>\n",
              "<head><meta charset=\"utf-8\" /></head>\n",
              "<body>\n",
              "    <div>            <script src=\"https://cdnjs.cloudflare.com/ajax/libs/mathjax/2.7.5/MathJax.js?config=TeX-AMS-MML_SVG\"></script><script type=\"text/javascript\">if (window.MathJax) {MathJax.Hub.Config({SVG: {font: \"STIX-Web\"}});}</script>                <script type=\"text/javascript\">window.PlotlyConfig = {MathJaxConfig: 'local'};</script>\n",
              "        <script src=\"https://cdn.plot.ly/plotly-2.8.3.min.js\"></script>                <div id=\"273d4c6d-aa78-47e2-9095-029a6939749a\" class=\"plotly-graph-div\" style=\"height:525px; width:100%;\"></div>            <script type=\"text/javascript\">                                    window.PLOTLYENV=window.PLOTLYENV || {};                                    if (document.getElementById(\"273d4c6d-aa78-47e2-9095-029a6939749a\")) {                    Plotly.newPlot(                        \"273d4c6d-aa78-47e2-9095-029a6939749a\",                        [{\"alignmentgroup\":\"True\",\"hovertemplate\":\"Local=%{x}<br>Pre\\u00e7o por noite=%{marker.color}<extra></extra>\",\"legendgroup\":\"\",\"marker\":{\"color\":[51.0,52.0,59.0,59.0,59.0,63.0,64.0,65.0,77.0,80.0,84.0,86.0,90.0,97.0,98.0,100.0,103.0,104.0,109.0,110.0,114.0,114.0,116.0,116.0,116.0,123.0,127.0,128.0,129.0,132.0],\"coloraxis\":\"coloraxis\",\"pattern\":{\"shape\":\"\"}},\"name\":\"\",\"offsetgroup\":\"\",\"orientation\":\"v\",\"showlegend\":false,\"textposition\":\"auto\",\"x\":[\"Quarto inteiro em Jardim Oceania\",\"Quarto inteiro em Jardim Oceania\",\"Quarto inteiro em Jardim Oceania\",\"Quarto inteiro em Jardim Oceania\",\"Quarto inteiro em Jo\\u00e3o Pessoa\",\"Quarto inteiro em Mana\\u00edra\",\"Apartamento em Gramame\",\"Quarto inteiro em Mana\\u00edra\",\"Quarto inteiro em Jo\\u00e3o Pessoa\",\"Quarto inteiro em Jo\\u00e3o Pessoa\",\"Microcasa em Jo\\u00e3o Pessoa\",\"Quarto inteiro em Mana\\u00edra\",\"Quarto inteiro em Jo\\u00e3o Pessoa\",\"Apartamento em Banc\\u00e1rios\",\"Quarto inteiro em Cabedelo\",\"Quarto inteiro em Jo\\u00e3o Pessoa\",\"Apartamento em Intermares\",\"Apartamento em Bessa\",\"Apartamento em Cabo Branco\",\"Apartamento em Jardim Oceania\",\"Apartamento em Loteamento Bela Vista\",\"Quarto inteiro em Jo\\u00e3o Pessoa\",\"Apartamento em Mana\\u00edra\",\"Apartamento em Mana\\u00edra\",\"Apartamento em Tamba\\u00fa\",\"Apartamento em Intermares\",\"Apartamento em Cabo Branco\",\"Casa em Jo\\u00e3o Pessoa\",\"Apartamento em Mana\\u00edra\",\"Apartamento em Tamba\\u00fa\"],\"xaxis\":\"x\",\"y\":[51.0,52.0,59.0,59.0,59.0,63.0,64.0,65.0,77.0,80.0,84.0,86.0,90.0,97.0,98.0,100.0,103.0,104.0,109.0,110.0,114.0,114.0,116.0,116.0,116.0,123.0,127.0,128.0,129.0,132.0],\"yaxis\":\"y\",\"type\":\"bar\"}],                        {\"template\":{\"data\":{\"bar\":[{\"error_x\":{\"color\":\"#2a3f5f\"},\"error_y\":{\"color\":\"#2a3f5f\"},\"marker\":{\"line\":{\"color\":\"#E5ECF6\",\"width\":0.5},\"pattern\":{\"fillmode\":\"overlay\",\"size\":10,\"solidity\":0.2}},\"type\":\"bar\"}],\"barpolar\":[{\"marker\":{\"line\":{\"color\":\"#E5ECF6\",\"width\":0.5},\"pattern\":{\"fillmode\":\"overlay\",\"size\":10,\"solidity\":0.2}},\"type\":\"barpolar\"}],\"carpet\":[{\"aaxis\":{\"endlinecolor\":\"#2a3f5f\",\"gridcolor\":\"white\",\"linecolor\":\"white\",\"minorgridcolor\":\"white\",\"startlinecolor\":\"#2a3f5f\"},\"baxis\":{\"endlinecolor\":\"#2a3f5f\",\"gridcolor\":\"white\",\"linecolor\":\"white\",\"minorgridcolor\":\"white\",\"startlinecolor\":\"#2a3f5f\"},\"type\":\"carpet\"}],\"choropleth\":[{\"colorbar\":{\"outlinewidth\":0,\"ticks\":\"\"},\"type\":\"choropleth\"}],\"contour\":[{\"colorbar\":{\"outlinewidth\":0,\"ticks\":\"\"},\"colorscale\":[[0.0,\"#0d0887\"],[0.1111111111111111,\"#46039f\"],[0.2222222222222222,\"#7201a8\"],[0.3333333333333333,\"#9c179e\"],[0.4444444444444444,\"#bd3786\"],[0.5555555555555556,\"#d8576b\"],[0.6666666666666666,\"#ed7953\"],[0.7777777777777778,\"#fb9f3a\"],[0.8888888888888888,\"#fdca26\"],[1.0,\"#f0f921\"]],\"type\":\"contour\"}],\"contourcarpet\":[{\"colorbar\":{\"outlinewidth\":0,\"ticks\":\"\"},\"type\":\"contourcarpet\"}],\"heatmap\":[{\"colorbar\":{\"outlinewidth\":0,\"ticks\":\"\"},\"colorscale\":[[0.0,\"#0d0887\"],[0.1111111111111111,\"#46039f\"],[0.2222222222222222,\"#7201a8\"],[0.3333333333333333,\"#9c179e\"],[0.4444444444444444,\"#bd3786\"],[0.5555555555555556,\"#d8576b\"],[0.6666666666666666,\"#ed7953\"],[0.7777777777777778,\"#fb9f3a\"],[0.8888888888888888,\"#fdca26\"],[1.0,\"#f0f921\"]],\"type\":\"heatmap\"}],\"heatmapgl\":[{\"colorbar\":{\"outlinewidth\":0,\"ticks\":\"\"},\"colorscale\":[[0.0,\"#0d0887\"],[0.1111111111111111,\"#46039f\"],[0.2222222222222222,\"#7201a8\"],[0.3333333333333333,\"#9c179e\"],[0.4444444444444444,\"#bd3786\"],[0.5555555555555556,\"#d8576b\"],[0.6666666666666666,\"#ed7953\"],[0.7777777777777778,\"#fb9f3a\"],[0.8888888888888888,\"#fdca26\"],[1.0,\"#f0f921\"]],\"type\":\"heatmapgl\"}],\"histogram\":[{\"marker\":{\"pattern\":{\"fillmode\":\"overlay\",\"size\":10,\"solidity\":0.2}},\"type\":\"histogram\"}],\"histogram2d\":[{\"colorbar\":{\"outlinewidth\":0,\"ticks\":\"\"},\"colorscale\":[[0.0,\"#0d0887\"],[0.1111111111111111,\"#46039f\"],[0.2222222222222222,\"#7201a8\"],[0.3333333333333333,\"#9c179e\"],[0.4444444444444444,\"#bd3786\"],[0.5555555555555556,\"#d8576b\"],[0.6666666666666666,\"#ed7953\"],[0.7777777777777778,\"#fb9f3a\"],[0.8888888888888888,\"#fdca26\"],[1.0,\"#f0f921\"]],\"type\":\"histogram2d\"}],\"histogram2dcontour\":[{\"colorbar\":{\"outlinewidth\":0,\"ticks\":\"\"},\"colorscale\":[[0.0,\"#0d0887\"],[0.1111111111111111,\"#46039f\"],[0.2222222222222222,\"#7201a8\"],[0.3333333333333333,\"#9c179e\"],[0.4444444444444444,\"#bd3786\"],[0.5555555555555556,\"#d8576b\"],[0.6666666666666666,\"#ed7953\"],[0.7777777777777778,\"#fb9f3a\"],[0.8888888888888888,\"#fdca26\"],[1.0,\"#f0f921\"]],\"type\":\"histogram2dcontour\"}],\"mesh3d\":[{\"colorbar\":{\"outlinewidth\":0,\"ticks\":\"\"},\"type\":\"mesh3d\"}],\"parcoords\":[{\"line\":{\"colorbar\":{\"outlinewidth\":0,\"ticks\":\"\"}},\"type\":\"parcoords\"}],\"pie\":[{\"automargin\":true,\"type\":\"pie\"}],\"scatter\":[{\"marker\":{\"colorbar\":{\"outlinewidth\":0,\"ticks\":\"\"}},\"type\":\"scatter\"}],\"scatter3d\":[{\"line\":{\"colorbar\":{\"outlinewidth\":0,\"ticks\":\"\"}},\"marker\":{\"colorbar\":{\"outlinewidth\":0,\"ticks\":\"\"}},\"type\":\"scatter3d\"}],\"scattercarpet\":[{\"marker\":{\"colorbar\":{\"outlinewidth\":0,\"ticks\":\"\"}},\"type\":\"scattercarpet\"}],\"scattergeo\":[{\"marker\":{\"colorbar\":{\"outlinewidth\":0,\"ticks\":\"\"}},\"type\":\"scattergeo\"}],\"scattergl\":[{\"marker\":{\"colorbar\":{\"outlinewidth\":0,\"ticks\":\"\"}},\"type\":\"scattergl\"}],\"scattermapbox\":[{\"marker\":{\"colorbar\":{\"outlinewidth\":0,\"ticks\":\"\"}},\"type\":\"scattermapbox\"}],\"scatterpolar\":[{\"marker\":{\"colorbar\":{\"outlinewidth\":0,\"ticks\":\"\"}},\"type\":\"scatterpolar\"}],\"scatterpolargl\":[{\"marker\":{\"colorbar\":{\"outlinewidth\":0,\"ticks\":\"\"}},\"type\":\"scatterpolargl\"}],\"scatterternary\":[{\"marker\":{\"colorbar\":{\"outlinewidth\":0,\"ticks\":\"\"}},\"type\":\"scatterternary\"}],\"surface\":[{\"colorbar\":{\"outlinewidth\":0,\"ticks\":\"\"},\"colorscale\":[[0.0,\"#0d0887\"],[0.1111111111111111,\"#46039f\"],[0.2222222222222222,\"#7201a8\"],[0.3333333333333333,\"#9c179e\"],[0.4444444444444444,\"#bd3786\"],[0.5555555555555556,\"#d8576b\"],[0.6666666666666666,\"#ed7953\"],[0.7777777777777778,\"#fb9f3a\"],[0.8888888888888888,\"#fdca26\"],[1.0,\"#f0f921\"]],\"type\":\"surface\"}],\"table\":[{\"cells\":{\"fill\":{\"color\":\"#EBF0F8\"},\"line\":{\"color\":\"white\"}},\"header\":{\"fill\":{\"color\":\"#C8D4E3\"},\"line\":{\"color\":\"white\"}},\"type\":\"table\"}]},\"layout\":{\"annotationdefaults\":{\"arrowcolor\":\"#2a3f5f\",\"arrowhead\":0,\"arrowwidth\":1},\"autotypenumbers\":\"strict\",\"coloraxis\":{\"colorbar\":{\"outlinewidth\":0,\"ticks\":\"\"}},\"colorscale\":{\"diverging\":[[0,\"#8e0152\"],[0.1,\"#c51b7d\"],[0.2,\"#de77ae\"],[0.3,\"#f1b6da\"],[0.4,\"#fde0ef\"],[0.5,\"#f7f7f7\"],[0.6,\"#e6f5d0\"],[0.7,\"#b8e186\"],[0.8,\"#7fbc41\"],[0.9,\"#4d9221\"],[1,\"#276419\"]],\"sequential\":[[0.0,\"#0d0887\"],[0.1111111111111111,\"#46039f\"],[0.2222222222222222,\"#7201a8\"],[0.3333333333333333,\"#9c179e\"],[0.4444444444444444,\"#bd3786\"],[0.5555555555555556,\"#d8576b\"],[0.6666666666666666,\"#ed7953\"],[0.7777777777777778,\"#fb9f3a\"],[0.8888888888888888,\"#fdca26\"],[1.0,\"#f0f921\"]],\"sequentialminus\":[[0.0,\"#0d0887\"],[0.1111111111111111,\"#46039f\"],[0.2222222222222222,\"#7201a8\"],[0.3333333333333333,\"#9c179e\"],[0.4444444444444444,\"#bd3786\"],[0.5555555555555556,\"#d8576b\"],[0.6666666666666666,\"#ed7953\"],[0.7777777777777778,\"#fb9f3a\"],[0.8888888888888888,\"#fdca26\"],[1.0,\"#f0f921\"]]},\"colorway\":[\"#636efa\",\"#EF553B\",\"#00cc96\",\"#ab63fa\",\"#FFA15A\",\"#19d3f3\",\"#FF6692\",\"#B6E880\",\"#FF97FF\",\"#FECB52\"],\"font\":{\"color\":\"#2a3f5f\"},\"geo\":{\"bgcolor\":\"white\",\"lakecolor\":\"white\",\"landcolor\":\"#E5ECF6\",\"showlakes\":true,\"showland\":true,\"subunitcolor\":\"white\"},\"hoverlabel\":{\"align\":\"left\"},\"hovermode\":\"closest\",\"mapbox\":{\"style\":\"light\"},\"paper_bgcolor\":\"white\",\"plot_bgcolor\":\"#E5ECF6\",\"polar\":{\"angularaxis\":{\"gridcolor\":\"white\",\"linecolor\":\"white\",\"ticks\":\"\"},\"bgcolor\":\"#E5ECF6\",\"radialaxis\":{\"gridcolor\":\"white\",\"linecolor\":\"white\",\"ticks\":\"\"}},\"scene\":{\"xaxis\":{\"backgroundcolor\":\"#E5ECF6\",\"gridcolor\":\"white\",\"gridwidth\":2,\"linecolor\":\"white\",\"showbackground\":true,\"ticks\":\"\",\"zerolinecolor\":\"white\"},\"yaxis\":{\"backgroundcolor\":\"#E5ECF6\",\"gridcolor\":\"white\",\"gridwidth\":2,\"linecolor\":\"white\",\"showbackground\":true,\"ticks\":\"\",\"zerolinecolor\":\"white\"},\"zaxis\":{\"backgroundcolor\":\"#E5ECF6\",\"gridcolor\":\"white\",\"gridwidth\":2,\"linecolor\":\"white\",\"showbackground\":true,\"ticks\":\"\",\"zerolinecolor\":\"white\"}},\"shapedefaults\":{\"line\":{\"color\":\"#2a3f5f\"}},\"ternary\":{\"aaxis\":{\"gridcolor\":\"white\",\"linecolor\":\"white\",\"ticks\":\"\"},\"baxis\":{\"gridcolor\":\"white\",\"linecolor\":\"white\",\"ticks\":\"\"},\"bgcolor\":\"#E5ECF6\",\"caxis\":{\"gridcolor\":\"white\",\"linecolor\":\"white\",\"ticks\":\"\"}},\"title\":{\"x\":0.05},\"xaxis\":{\"automargin\":true,\"gridcolor\":\"white\",\"linecolor\":\"white\",\"ticks\":\"\",\"title\":{\"standoff\":15},\"zerolinecolor\":\"white\",\"zerolinewidth\":2},\"yaxis\":{\"automargin\":true,\"gridcolor\":\"white\",\"linecolor\":\"white\",\"ticks\":\"\",\"title\":{\"standoff\":15},\"zerolinecolor\":\"white\",\"zerolinewidth\":2}}},\"xaxis\":{\"anchor\":\"y\",\"domain\":[0.0,1.0],\"title\":{\"text\":\"Local\"}},\"yaxis\":{\"anchor\":\"x\",\"domain\":[0.0,1.0],\"title\":{\"text\":\"Pre\\u00e7o por noite\"}},\"coloraxis\":{\"colorbar\":{\"title\":{\"text\":\"Pre\\u00e7o por noite\"}},\"colorscale\":[[0.0,\"#440154\"],[0.1111111111111111,\"#482878\"],[0.2222222222222222,\"#3e4989\"],[0.3333333333333333,\"#31688e\"],[0.4444444444444444,\"#26828e\"],[0.5555555555555556,\"#1f9e89\"],[0.6666666666666666,\"#35b779\"],[0.7777777777777778,\"#6ece58\"],[0.8888888888888888,\"#b5de2b\"],[1.0,\"#fde725\"]]},\"legend\":{\"tracegroupgap\":0},\"title\":{\"text\":\"30 Menores pre\\u00e7os por noite para as acomoda\\u00e7\\u00f5es no Airbnb de Jo\\u00e3o Pessoa\"},\"barmode\":\"relative\"},                        {\"responsive\": true}                    ).then(function(){\n",
              "                            \n",
              "var gd = document.getElementById('273d4c6d-aa78-47e2-9095-029a6939749a');\n",
              "var x = new MutationObserver(function (mutations, observer) {{\n",
              "        var display = window.getComputedStyle(gd).display;\n",
              "        if (!display || display === 'none') {{\n",
              "            console.log([gd, 'removed!']);\n",
              "            Plotly.purge(gd);\n",
              "            observer.disconnect();\n",
              "        }}\n",
              "}});\n",
              "\n",
              "// Listen for the removal of the full notebook cells\n",
              "var notebookContainer = gd.closest('#notebook-container');\n",
              "if (notebookContainer) {{\n",
              "    x.observe(notebookContainer, {childList: true});\n",
              "}}\n",
              "\n",
              "// Listen for the clearing of the current output cell\n",
              "var outputEl = gd.closest('.output');\n",
              "if (outputEl) {{\n",
              "    x.observe(outputEl, {childList: true});\n",
              "}}\n",
              "\n",
              "                        })                };                            </script>        </div>\n",
              "</body>\n",
              "</html>"
            ]
          },
          "metadata": {}
        }
      ]
    },
    {
      "cell_type": "markdown",
      "source": [
        "Para criar um gráfico de linha que relacione os valores de Local e Preço_por_noite com a coluna Avaliação, você pode utilizar o método line() do plotly e passar as colunas desejadas como argumentos. Além disso, é importante especificar o eixo x e o eixo y para que o gráfico seja construído corretamente.\n",
        "\n",
        "Esse código irá criar um gráfico de linha com os 30 maiores e os 30 menores valores para Preço_por_noite relacionados com a coluna Avaliação. O gráfico irá mostrar a relação entre o preço por noite e o local em que a acomodação está localizada, e como essa relação varia de acordo com a avaliação dada para a acomodação."
      ],
      "metadata": {
        "id": "vzutgYuU-Sx4"
      }
    },
    {
      "cell_type": "code",
      "source": [
        "# Selecionando os 30 maiores e os 30 menores valores para Preço_por_noite\n",
        "df_top_30 = df.nlargest(30, 'Preço_por_noite')\n",
        "df_bottom_30 = df.nsmallest(30, 'Preço_por_noite')\n",
        "\n",
        "# Criando o gráfico de barra\n",
        "fig = px.bar(df_top_30, x='Local', y='Preço_por_noite', color='Avaliação', title='Preço por noite x Local (top 30)')\n",
        "fig.add_trace(px.bar(df_bottom_30, x='Local', y='Preço_por_noite', color='Avaliação').data[0])\n",
        "fig.show()"
      ],
      "metadata": {
        "colab": {
          "base_uri": "https://localhost:8080/",
          "height": 542
        },
        "id": "ERj9zGgLKo8p",
        "outputId": "b8256490-8cce-4af2-b12e-25be6ca2a06f"
      },
      "execution_count": null,
      "outputs": [
        {
          "output_type": "display_data",
          "data": {
            "text/html": [
              "<html>\n",
              "<head><meta charset=\"utf-8\" /></head>\n",
              "<body>\n",
              "    <div>            <script src=\"https://cdnjs.cloudflare.com/ajax/libs/mathjax/2.7.5/MathJax.js?config=TeX-AMS-MML_SVG\"></script><script type=\"text/javascript\">if (window.MathJax) {MathJax.Hub.Config({SVG: {font: \"STIX-Web\"}});}</script>                <script type=\"text/javascript\">window.PlotlyConfig = {MathJaxConfig: 'local'};</script>\n",
              "        <script src=\"https://cdn.plot.ly/plotly-2.8.3.min.js\"></script>                <div id=\"3ef71d28-1e4e-4c1d-a368-edc46cecd6a7\" class=\"plotly-graph-div\" style=\"height:525px; width:100%;\"></div>            <script type=\"text/javascript\">                                    window.PLOTLYENV=window.PLOTLYENV || {};                                    if (document.getElementById(\"3ef71d28-1e4e-4c1d-a368-edc46cecd6a7\")) {                    Plotly.newPlot(                        \"3ef71d28-1e4e-4c1d-a368-edc46cecd6a7\",                        [{\"alignmentgroup\":\"True\",\"hovertemplate\":\"Local=%{x}<br>Pre\\u00e7o_por_noite=%{y}<br>Avalia\\u00e7\\u00e3o=%{marker.color}<extra></extra>\",\"legendgroup\":\"\",\"marker\":{\"color\":[5.0,5.0,4.86,4.95,5.0,4.99,4.89,4.91,4.95,4.72,4.93,4.98,4.89,4.91,5.0,4.91,5.0,4.7,5.0,4.85,4.59,4.96,5.0,4.78,4.86,4.53,4.93,5.0,4.96,5.0],\"coloraxis\":\"coloraxis\",\"pattern\":{\"shape\":\"\"}},\"name\":\"\",\"offsetgroup\":\"\",\"orientation\":\"v\",\"showlegend\":false,\"textposition\":\"auto\",\"x\":[\"Loft em Jo\\u00e3o Pessoa\",\"Apartamento em Mana\\u00edra\",\"Apartamento em Cabo Branco\",\"Apartamento em Tamba\\u00fa\",\"Apartamento em Cabo Branco\",\"Apartamento em Tamba\\u00fa\",\"Apartamento em Tamba\\u00fa\",\"Apartamento em Jardim Oceania\",\"Apartamento em Cabo Branco\",\"Apartamento em Tamba\\u00fa\",\"Apartamento em Tamba\\u00fa\",\"Apartamento em Cabo Branco\",\"Apartamento em Cabo Branco\",\"Apartamento em Cabo Branco\",\"Apartamento em Jo\\u00e3o Pessoa\",\"Apartamento em Cabo Branco\",\"Apartamento em Jo\\u00e3o Pessoa\",\"Apartamento em Cabo Branco\",\"Apartamento em Jo\\u00e3o Pessoa\",\"Condom\\u00ednio em Jo\\u00e3o Pessoa\",\"Apartamento em Tamba\\u00fa\",\"Lugar para ficar em Cabo Branco\",\"Apartamento em Jo\\u00e3o Pessoa\",\"Apartamento em Cabo Branco\",\"Apartamento em Cabo Branco\",\"Apartamento em Cabo Branco\",\"Condom\\u00ednio em Jardim Oceania\",\"Apartamento em Jo\\u00e3o Pessoa\",\"Apartamento em Cabo Branco\",\"Condom\\u00ednio em Tamba\\u00fa\"],\"xaxis\":\"x\",\"y\":[414.0,404.0,385.0,384.0,370.0,369.0,346.0,330.0,323.0,321.0,320.0,319.0,318.0,318.0,318.0,318.0,318.0,318.0,318.0,314.0,300.0,300.0,298.0,296.0,296.0,296.0,295.0,290.0,287.0,283.0],\"yaxis\":\"y\",\"type\":\"bar\"},{\"alignmentgroup\":\"True\",\"hovertemplate\":\"Local=%{x}<br>Pre\\u00e7o_por_noite=%{y}<br>Avalia\\u00e7\\u00e3o=%{marker.color}<extra></extra>\",\"legendgroup\":\"\",\"marker\":{\"color\":[4.83,4.83,4.94,4.93,0.0,4.81,4.82,4.83,5.0,4.69,4.87,4.82,4.58,4.36,5.0,4.69,4.6,4.68,4.56,4.91,4.86,4.69,4.62,4.25,4.9,4.7,4.84,5.0,4.97,4.71],\"coloraxis\":\"coloraxis\",\"pattern\":{\"shape\":\"\"}},\"name\":\"\",\"offsetgroup\":\"\",\"orientation\":\"v\",\"showlegend\":false,\"textposition\":\"auto\",\"x\":[\"Quarto inteiro em Jardim Oceania\",\"Quarto inteiro em Jardim Oceania\",\"Quarto inteiro em Jardim Oceania\",\"Quarto inteiro em Jardim Oceania\",\"Quarto inteiro em Jo\\u00e3o Pessoa\",\"Quarto inteiro em Mana\\u00edra\",\"Apartamento em Gramame\",\"Quarto inteiro em Mana\\u00edra\",\"Quarto inteiro em Jo\\u00e3o Pessoa\",\"Quarto inteiro em Jo\\u00e3o Pessoa\",\"Microcasa em Jo\\u00e3o Pessoa\",\"Quarto inteiro em Mana\\u00edra\",\"Quarto inteiro em Jo\\u00e3o Pessoa\",\"Apartamento em Banc\\u00e1rios\",\"Quarto inteiro em Cabedelo\",\"Quarto inteiro em Jo\\u00e3o Pessoa\",\"Apartamento em Intermares\",\"Apartamento em Bessa\",\"Apartamento em Cabo Branco\",\"Apartamento em Jardim Oceania\",\"Apartamento em Loteamento Bela Vista\",\"Quarto inteiro em Jo\\u00e3o Pessoa\",\"Apartamento em Mana\\u00edra\",\"Apartamento em Tamba\\u00fa\",\"Apartamento em Mana\\u00edra\",\"Apartamento em Intermares\",\"Apartamento em Cabo Branco\",\"Casa em Jo\\u00e3o Pessoa\",\"Apartamento em Mana\\u00edra\",\"Apartamento em Jo\\u00e3o Pessoa\"],\"xaxis\":\"x\",\"y\":[51.0,52.0,59.0,59.0,59.0,63.0,64.0,65.0,77.0,80.0,84.0,86.0,90.0,97.0,98.0,100.0,103.0,104.0,109.0,110.0,114.0,114.0,116.0,116.0,116.0,123.0,127.0,128.0,129.0,132.0],\"yaxis\":\"y\",\"type\":\"bar\"}],                        {\"template\":{\"data\":{\"bar\":[{\"error_x\":{\"color\":\"#2a3f5f\"},\"error_y\":{\"color\":\"#2a3f5f\"},\"marker\":{\"line\":{\"color\":\"#E5ECF6\",\"width\":0.5},\"pattern\":{\"fillmode\":\"overlay\",\"size\":10,\"solidity\":0.2}},\"type\":\"bar\"}],\"barpolar\":[{\"marker\":{\"line\":{\"color\":\"#E5ECF6\",\"width\":0.5},\"pattern\":{\"fillmode\":\"overlay\",\"size\":10,\"solidity\":0.2}},\"type\":\"barpolar\"}],\"carpet\":[{\"aaxis\":{\"endlinecolor\":\"#2a3f5f\",\"gridcolor\":\"white\",\"linecolor\":\"white\",\"minorgridcolor\":\"white\",\"startlinecolor\":\"#2a3f5f\"},\"baxis\":{\"endlinecolor\":\"#2a3f5f\",\"gridcolor\":\"white\",\"linecolor\":\"white\",\"minorgridcolor\":\"white\",\"startlinecolor\":\"#2a3f5f\"},\"type\":\"carpet\"}],\"choropleth\":[{\"colorbar\":{\"outlinewidth\":0,\"ticks\":\"\"},\"type\":\"choropleth\"}],\"contour\":[{\"colorbar\":{\"outlinewidth\":0,\"ticks\":\"\"},\"colorscale\":[[0.0,\"#0d0887\"],[0.1111111111111111,\"#46039f\"],[0.2222222222222222,\"#7201a8\"],[0.3333333333333333,\"#9c179e\"],[0.4444444444444444,\"#bd3786\"],[0.5555555555555556,\"#d8576b\"],[0.6666666666666666,\"#ed7953\"],[0.7777777777777778,\"#fb9f3a\"],[0.8888888888888888,\"#fdca26\"],[1.0,\"#f0f921\"]],\"type\":\"contour\"}],\"contourcarpet\":[{\"colorbar\":{\"outlinewidth\":0,\"ticks\":\"\"},\"type\":\"contourcarpet\"}],\"heatmap\":[{\"colorbar\":{\"outlinewidth\":0,\"ticks\":\"\"},\"colorscale\":[[0.0,\"#0d0887\"],[0.1111111111111111,\"#46039f\"],[0.2222222222222222,\"#7201a8\"],[0.3333333333333333,\"#9c179e\"],[0.4444444444444444,\"#bd3786\"],[0.5555555555555556,\"#d8576b\"],[0.6666666666666666,\"#ed7953\"],[0.7777777777777778,\"#fb9f3a\"],[0.8888888888888888,\"#fdca26\"],[1.0,\"#f0f921\"]],\"type\":\"heatmap\"}],\"heatmapgl\":[{\"colorbar\":{\"outlinewidth\":0,\"ticks\":\"\"},\"colorscale\":[[0.0,\"#0d0887\"],[0.1111111111111111,\"#46039f\"],[0.2222222222222222,\"#7201a8\"],[0.3333333333333333,\"#9c179e\"],[0.4444444444444444,\"#bd3786\"],[0.5555555555555556,\"#d8576b\"],[0.6666666666666666,\"#ed7953\"],[0.7777777777777778,\"#fb9f3a\"],[0.8888888888888888,\"#fdca26\"],[1.0,\"#f0f921\"]],\"type\":\"heatmapgl\"}],\"histogram\":[{\"marker\":{\"pattern\":{\"fillmode\":\"overlay\",\"size\":10,\"solidity\":0.2}},\"type\":\"histogram\"}],\"histogram2d\":[{\"colorbar\":{\"outlinewidth\":0,\"ticks\":\"\"},\"colorscale\":[[0.0,\"#0d0887\"],[0.1111111111111111,\"#46039f\"],[0.2222222222222222,\"#7201a8\"],[0.3333333333333333,\"#9c179e\"],[0.4444444444444444,\"#bd3786\"],[0.5555555555555556,\"#d8576b\"],[0.6666666666666666,\"#ed7953\"],[0.7777777777777778,\"#fb9f3a\"],[0.8888888888888888,\"#fdca26\"],[1.0,\"#f0f921\"]],\"type\":\"histogram2d\"}],\"histogram2dcontour\":[{\"colorbar\":{\"outlinewidth\":0,\"ticks\":\"\"},\"colorscale\":[[0.0,\"#0d0887\"],[0.1111111111111111,\"#46039f\"],[0.2222222222222222,\"#7201a8\"],[0.3333333333333333,\"#9c179e\"],[0.4444444444444444,\"#bd3786\"],[0.5555555555555556,\"#d8576b\"],[0.6666666666666666,\"#ed7953\"],[0.7777777777777778,\"#fb9f3a\"],[0.8888888888888888,\"#fdca26\"],[1.0,\"#f0f921\"]],\"type\":\"histogram2dcontour\"}],\"mesh3d\":[{\"colorbar\":{\"outlinewidth\":0,\"ticks\":\"\"},\"type\":\"mesh3d\"}],\"parcoords\":[{\"line\":{\"colorbar\":{\"outlinewidth\":0,\"ticks\":\"\"}},\"type\":\"parcoords\"}],\"pie\":[{\"automargin\":true,\"type\":\"pie\"}],\"scatter\":[{\"marker\":{\"colorbar\":{\"outlinewidth\":0,\"ticks\":\"\"}},\"type\":\"scatter\"}],\"scatter3d\":[{\"line\":{\"colorbar\":{\"outlinewidth\":0,\"ticks\":\"\"}},\"marker\":{\"colorbar\":{\"outlinewidth\":0,\"ticks\":\"\"}},\"type\":\"scatter3d\"}],\"scattercarpet\":[{\"marker\":{\"colorbar\":{\"outlinewidth\":0,\"ticks\":\"\"}},\"type\":\"scattercarpet\"}],\"scattergeo\":[{\"marker\":{\"colorbar\":{\"outlinewidth\":0,\"ticks\":\"\"}},\"type\":\"scattergeo\"}],\"scattergl\":[{\"marker\":{\"colorbar\":{\"outlinewidth\":0,\"ticks\":\"\"}},\"type\":\"scattergl\"}],\"scattermapbox\":[{\"marker\":{\"colorbar\":{\"outlinewidth\":0,\"ticks\":\"\"}},\"type\":\"scattermapbox\"}],\"scatterpolar\":[{\"marker\":{\"colorbar\":{\"outlinewidth\":0,\"ticks\":\"\"}},\"type\":\"scatterpolar\"}],\"scatterpolargl\":[{\"marker\":{\"colorbar\":{\"outlinewidth\":0,\"ticks\":\"\"}},\"type\":\"scatterpolargl\"}],\"scatterternary\":[{\"marker\":{\"colorbar\":{\"outlinewidth\":0,\"ticks\":\"\"}},\"type\":\"scatterternary\"}],\"surface\":[{\"colorbar\":{\"outlinewidth\":0,\"ticks\":\"\"},\"colorscale\":[[0.0,\"#0d0887\"],[0.1111111111111111,\"#46039f\"],[0.2222222222222222,\"#7201a8\"],[0.3333333333333333,\"#9c179e\"],[0.4444444444444444,\"#bd3786\"],[0.5555555555555556,\"#d8576b\"],[0.6666666666666666,\"#ed7953\"],[0.7777777777777778,\"#fb9f3a\"],[0.8888888888888888,\"#fdca26\"],[1.0,\"#f0f921\"]],\"type\":\"surface\"}],\"table\":[{\"cells\":{\"fill\":{\"color\":\"#EBF0F8\"},\"line\":{\"color\":\"white\"}},\"header\":{\"fill\":{\"color\":\"#C8D4E3\"},\"line\":{\"color\":\"white\"}},\"type\":\"table\"}]},\"layout\":{\"annotationdefaults\":{\"arrowcolor\":\"#2a3f5f\",\"arrowhead\":0,\"arrowwidth\":1},\"autotypenumbers\":\"strict\",\"coloraxis\":{\"colorbar\":{\"outlinewidth\":0,\"ticks\":\"\"}},\"colorscale\":{\"diverging\":[[0,\"#8e0152\"],[0.1,\"#c51b7d\"],[0.2,\"#de77ae\"],[0.3,\"#f1b6da\"],[0.4,\"#fde0ef\"],[0.5,\"#f7f7f7\"],[0.6,\"#e6f5d0\"],[0.7,\"#b8e186\"],[0.8,\"#7fbc41\"],[0.9,\"#4d9221\"],[1,\"#276419\"]],\"sequential\":[[0.0,\"#0d0887\"],[0.1111111111111111,\"#46039f\"],[0.2222222222222222,\"#7201a8\"],[0.3333333333333333,\"#9c179e\"],[0.4444444444444444,\"#bd3786\"],[0.5555555555555556,\"#d8576b\"],[0.6666666666666666,\"#ed7953\"],[0.7777777777777778,\"#fb9f3a\"],[0.8888888888888888,\"#fdca26\"],[1.0,\"#f0f921\"]],\"sequentialminus\":[[0.0,\"#0d0887\"],[0.1111111111111111,\"#46039f\"],[0.2222222222222222,\"#7201a8\"],[0.3333333333333333,\"#9c179e\"],[0.4444444444444444,\"#bd3786\"],[0.5555555555555556,\"#d8576b\"],[0.6666666666666666,\"#ed7953\"],[0.7777777777777778,\"#fb9f3a\"],[0.8888888888888888,\"#fdca26\"],[1.0,\"#f0f921\"]]},\"colorway\":[\"#636efa\",\"#EF553B\",\"#00cc96\",\"#ab63fa\",\"#FFA15A\",\"#19d3f3\",\"#FF6692\",\"#B6E880\",\"#FF97FF\",\"#FECB52\"],\"font\":{\"color\":\"#2a3f5f\"},\"geo\":{\"bgcolor\":\"white\",\"lakecolor\":\"white\",\"landcolor\":\"#E5ECF6\",\"showlakes\":true,\"showland\":true,\"subunitcolor\":\"white\"},\"hoverlabel\":{\"align\":\"left\"},\"hovermode\":\"closest\",\"mapbox\":{\"style\":\"light\"},\"paper_bgcolor\":\"white\",\"plot_bgcolor\":\"#E5ECF6\",\"polar\":{\"angularaxis\":{\"gridcolor\":\"white\",\"linecolor\":\"white\",\"ticks\":\"\"},\"bgcolor\":\"#E5ECF6\",\"radialaxis\":{\"gridcolor\":\"white\",\"linecolor\":\"white\",\"ticks\":\"\"}},\"scene\":{\"xaxis\":{\"backgroundcolor\":\"#E5ECF6\",\"gridcolor\":\"white\",\"gridwidth\":2,\"linecolor\":\"white\",\"showbackground\":true,\"ticks\":\"\",\"zerolinecolor\":\"white\"},\"yaxis\":{\"backgroundcolor\":\"#E5ECF6\",\"gridcolor\":\"white\",\"gridwidth\":2,\"linecolor\":\"white\",\"showbackground\":true,\"ticks\":\"\",\"zerolinecolor\":\"white\"},\"zaxis\":{\"backgroundcolor\":\"#E5ECF6\",\"gridcolor\":\"white\",\"gridwidth\":2,\"linecolor\":\"white\",\"showbackground\":true,\"ticks\":\"\",\"zerolinecolor\":\"white\"}},\"shapedefaults\":{\"line\":{\"color\":\"#2a3f5f\"}},\"ternary\":{\"aaxis\":{\"gridcolor\":\"white\",\"linecolor\":\"white\",\"ticks\":\"\"},\"baxis\":{\"gridcolor\":\"white\",\"linecolor\":\"white\",\"ticks\":\"\"},\"bgcolor\":\"#E5ECF6\",\"caxis\":{\"gridcolor\":\"white\",\"linecolor\":\"white\",\"ticks\":\"\"}},\"title\":{\"x\":0.05},\"xaxis\":{\"automargin\":true,\"gridcolor\":\"white\",\"linecolor\":\"white\",\"ticks\":\"\",\"title\":{\"standoff\":15},\"zerolinecolor\":\"white\",\"zerolinewidth\":2},\"yaxis\":{\"automargin\":true,\"gridcolor\":\"white\",\"linecolor\":\"white\",\"ticks\":\"\",\"title\":{\"standoff\":15},\"zerolinecolor\":\"white\",\"zerolinewidth\":2}}},\"xaxis\":{\"anchor\":\"y\",\"domain\":[0.0,1.0],\"title\":{\"text\":\"Local\"}},\"yaxis\":{\"anchor\":\"x\",\"domain\":[0.0,1.0],\"title\":{\"text\":\"Pre\\u00e7o_por_noite\"}},\"coloraxis\":{\"colorbar\":{\"title\":{\"text\":\"Avalia\\u00e7\\u00e3o\"}},\"colorscale\":[[0.0,\"#0d0887\"],[0.1111111111111111,\"#46039f\"],[0.2222222222222222,\"#7201a8\"],[0.3333333333333333,\"#9c179e\"],[0.4444444444444444,\"#bd3786\"],[0.5555555555555556,\"#d8576b\"],[0.6666666666666666,\"#ed7953\"],[0.7777777777777778,\"#fb9f3a\"],[0.8888888888888888,\"#fdca26\"],[1.0,\"#f0f921\"]]},\"legend\":{\"tracegroupgap\":0},\"title\":{\"text\":\"Pre\\u00e7o por noite x Local (top 30)\"},\"barmode\":\"relative\"},                        {\"responsive\": true}                    ).then(function(){\n",
              "                            \n",
              "var gd = document.getElementById('3ef71d28-1e4e-4c1d-a368-edc46cecd6a7');\n",
              "var x = new MutationObserver(function (mutations, observer) {{\n",
              "        var display = window.getComputedStyle(gd).display;\n",
              "        if (!display || display === 'none') {{\n",
              "            console.log([gd, 'removed!']);\n",
              "            Plotly.purge(gd);\n",
              "            observer.disconnect();\n",
              "        }}\n",
              "}});\n",
              "\n",
              "// Listen for the removal of the full notebook cells\n",
              "var notebookContainer = gd.closest('#notebook-container');\n",
              "if (notebookContainer) {{\n",
              "    x.observe(notebookContainer, {childList: true});\n",
              "}}\n",
              "\n",
              "// Listen for the clearing of the current output cell\n",
              "var outputEl = gd.closest('.output');\n",
              "if (outputEl) {{\n",
              "    x.observe(outputEl, {childList: true});\n",
              "}}\n",
              "\n",
              "                        })                };                            </script>        </div>\n",
              "</body>\n",
              "</html>"
            ]
          },
          "metadata": {}
        }
      ]
    },
    {
      "cell_type": "code",
      "source": [],
      "metadata": {
        "id": "9gMrI7rYK3Hn"
      },
      "execution_count": null,
      "outputs": []
    },
    {
      "cell_type": "markdown",
      "source": [
        "## Conclusões"
      ],
      "metadata": {
        "id": "xLMcNd1p3wbe"
      }
    },
    {
      "cell_type": "markdown",
      "source": [
        "**• Artigo com a análise:** https://docs.google.com/document/d/1vomnAn2nRHk15gYf5yZEhdzAy8rzJTCwp684Xn5KF04/edit?usp=sharing\n",
        "---\n",
        "\n",
        "---\n",
        "\n",
        "A análise realizada neste trabalho permitiu obter uma visão geral das acomodações disponíveis no Airbnb em João Pessoa. É importante destacar que a quantidade de avaliações das acomodações é variável, o que pode influenciar na confiabilidade das avaliações.\n",
        "\n",
        "A coleta e análise de dados realizadas neste trabalho contribuíram para uma compreensão mais completa das acomodações disponíveis no Airbnb em João Pessoa, e pode ser útil para quem está planejando viajar para a cidade e procurando por opções de hospedagem. Além disso, este trabalho pode ser considerado como um portfólio para futuras oportunidades de trabalho ou estudo na área de análise de dados.\n",
        "\n",
        "---\n",
        "Em conclusão, este trabalho apresentou uma análise e coleta de dados para o mercado de acomodações do Airbnb em João Pessoa. Utilizando técnicas de limpeza e manipulação de dados, foi possível identificar tendências e padrões nos dados coletados. Além disso, foi possível entender a dinâmica do mercado de acomodações em João Pessoa e identificar oportunidades para os proprietários de acomodações e para os viajantes.\n",
        "\n",
        "Gostariamos de agradecer ao professor de Tópicos especiais em informática, Alexsandro Trindade, pelo apoio e orientação durante todo o desenvolvimento deste trabalho, sem o qual ele não teria sido possível. Este trabalho serve como um portfólio do meu conhecimento e habilidades em coleta e análise de dados e espero que possa ser útil em nossas carreiras futuras."
      ],
      "metadata": {
        "id": "HmP4km7i3x5c"
      }
    }
  ]
}